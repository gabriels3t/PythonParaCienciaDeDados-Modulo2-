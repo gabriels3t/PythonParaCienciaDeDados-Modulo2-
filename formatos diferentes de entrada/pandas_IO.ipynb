{
 "metadata": {
  "language_info": {
   "codemirror_mode": {
    "name": "ipython",
    "version": 3
   },
   "file_extension": ".py",
   "mimetype": "text/x-python",
   "name": "python",
   "nbconvert_exporter": "python",
   "pygments_lexer": "ipython3",
   "version": "3.8.5-final"
  },
  "orig_nbformat": 2,
  "kernelspec": {
   "name": "python3",
   "display_name": "Python 3.8.5 64-bit ('base': conda)",
   "metadata": {
    "interpreter": {
     "hash": "3f276234706dfbd4c7aa7542cbd0e8f9847a7c7982307d0b57446d3b9a32b154"
    }
   }
  }
 },
 "nbformat": 4,
 "nbformat_minor": 2,
 "cells": [
  {
   "source": [
    "# criando Os Nomes"
   ],
   "cell_type": "markdown",
   "metadata": {}
  },
  {
   "cell_type": "code",
   "execution_count": 1,
   "metadata": {},
   "outputs": [],
   "source": [
    "import pandas as pd\n",
    "import seaborn as sns"
   ]
  },
  {
   "source": [
    "## Importando os dados em json \n"
   ],
   "cell_type": "markdown",
   "metadata": {}
  },
  {
   "cell_type": "code",
   "execution_count": 2,
   "metadata": {},
   "outputs": [],
   "source": [
    "nomes_f = pd.read_json('https://servicodados.ibge.gov.br/api/v1/censos/nomes/ranking?qtd=200&sexo=f')\n",
    "nomes_m = pd.read_json('https://servicodados.ibge.gov.br/api/v1/censos/nomes/ranking?qtd=200&sexo=m')\n"
   ]
  },
  {
   "cell_type": "code",
   "execution_count": 3,
   "metadata": {},
   "outputs": [
    {
     "output_type": "stream",
     "name": "stdout",
     "text": [
      "Quantidade de nomes : 400\n"
     ]
    }
   ],
   "source": [
    "print(f'Quantidade de nomes : {len(nomes_f)+nomes_m.shape[0]}') # Dois metodos diferentes de encontrar a quantidade de dados"
   ]
  },
  {
   "cell_type": "code",
   "execution_count": 4,
   "metadata": {},
   "outputs": [
    {
     "output_type": "execute_result",
     "data": {
      "text/plain": [
       "          nome  regiao      freq  rank sexo\n",
       "0        MARIA       0  11694738     1    F\n",
       "1          ANA       0   3079729     2    F\n",
       "2    FRANCISCA       0    721637     3    F\n",
       "3      ANTONIA       0    588783     4    F\n",
       "4      ADRIANA       0    565621     5    F\n",
       "..         ...     ...       ...   ...  ...\n",
       "195     ROSANE       0     82203   196    F\n",
       "196    IVONETE       0     81878   197    F\n",
       "197    LUCIANE       0     81230   198    F\n",
       "198    ISADORA       0     81100   199    F\n",
       "199      NILZA       0     80128   200    F\n",
       "\n",
       "[200 rows x 5 columns]"
      ],
      "text/html": "<div>\n<style scoped>\n    .dataframe tbody tr th:only-of-type {\n        vertical-align: middle;\n    }\n\n    .dataframe tbody tr th {\n        vertical-align: top;\n    }\n\n    .dataframe thead th {\n        text-align: right;\n    }\n</style>\n<table border=\"1\" class=\"dataframe\">\n  <thead>\n    <tr style=\"text-align: right;\">\n      <th></th>\n      <th>nome</th>\n      <th>regiao</th>\n      <th>freq</th>\n      <th>rank</th>\n      <th>sexo</th>\n    </tr>\n  </thead>\n  <tbody>\n    <tr>\n      <th>0</th>\n      <td>MARIA</td>\n      <td>0</td>\n      <td>11694738</td>\n      <td>1</td>\n      <td>F</td>\n    </tr>\n    <tr>\n      <th>1</th>\n      <td>ANA</td>\n      <td>0</td>\n      <td>3079729</td>\n      <td>2</td>\n      <td>F</td>\n    </tr>\n    <tr>\n      <th>2</th>\n      <td>FRANCISCA</td>\n      <td>0</td>\n      <td>721637</td>\n      <td>3</td>\n      <td>F</td>\n    </tr>\n    <tr>\n      <th>3</th>\n      <td>ANTONIA</td>\n      <td>0</td>\n      <td>588783</td>\n      <td>4</td>\n      <td>F</td>\n    </tr>\n    <tr>\n      <th>4</th>\n      <td>ADRIANA</td>\n      <td>0</td>\n      <td>565621</td>\n      <td>5</td>\n      <td>F</td>\n    </tr>\n    <tr>\n      <th>...</th>\n      <td>...</td>\n      <td>...</td>\n      <td>...</td>\n      <td>...</td>\n      <td>...</td>\n    </tr>\n    <tr>\n      <th>195</th>\n      <td>ROSANE</td>\n      <td>0</td>\n      <td>82203</td>\n      <td>196</td>\n      <td>F</td>\n    </tr>\n    <tr>\n      <th>196</th>\n      <td>IVONETE</td>\n      <td>0</td>\n      <td>81878</td>\n      <td>197</td>\n      <td>F</td>\n    </tr>\n    <tr>\n      <th>197</th>\n      <td>LUCIANE</td>\n      <td>0</td>\n      <td>81230</td>\n      <td>198</td>\n      <td>F</td>\n    </tr>\n    <tr>\n      <th>198</th>\n      <td>ISADORA</td>\n      <td>0</td>\n      <td>81100</td>\n      <td>199</td>\n      <td>F</td>\n    </tr>\n    <tr>\n      <th>199</th>\n      <td>NILZA</td>\n      <td>0</td>\n      <td>80128</td>\n      <td>200</td>\n      <td>F</td>\n    </tr>\n  </tbody>\n</table>\n<p>200 rows × 5 columns</p>\n</div>"
     },
     "metadata": {},
     "execution_count": 4
    }
   ],
   "source": [
    "nomes_f"
   ]
  },
  {
   "cell_type": "code",
   "execution_count": 5,
   "metadata": {},
   "outputs": [
    {
     "output_type": "execute_result",
     "data": {
      "text/plain": [
       "          nome  regiao     freq  rank sexo\n",
       "0         JOSE       0  5732508     1    M\n",
       "1         JOAO       0  2971935     2    M\n",
       "2      ANTONIO       0  2567494     3    M\n",
       "3    FRANCISCO       0  1765197     4    M\n",
       "4       CARLOS       0  1483121     5    M\n",
       "..         ...     ...      ...   ...  ...\n",
       "195     WALTER       0    67207   196    M\n",
       "196    ARLINDO       0    66669   197    M\n",
       "197    MICHAEL       0    65736   198    M\n",
       "198     ALVARO       0    65444   199    M\n",
       "199    GEOVANE       0    65435   200    M\n",
       "\n",
       "[200 rows x 5 columns]"
      ],
      "text/html": "<div>\n<style scoped>\n    .dataframe tbody tr th:only-of-type {\n        vertical-align: middle;\n    }\n\n    .dataframe tbody tr th {\n        vertical-align: top;\n    }\n\n    .dataframe thead th {\n        text-align: right;\n    }\n</style>\n<table border=\"1\" class=\"dataframe\">\n  <thead>\n    <tr style=\"text-align: right;\">\n      <th></th>\n      <th>nome</th>\n      <th>regiao</th>\n      <th>freq</th>\n      <th>rank</th>\n      <th>sexo</th>\n    </tr>\n  </thead>\n  <tbody>\n    <tr>\n      <th>0</th>\n      <td>JOSE</td>\n      <td>0</td>\n      <td>5732508</td>\n      <td>1</td>\n      <td>M</td>\n    </tr>\n    <tr>\n      <th>1</th>\n      <td>JOAO</td>\n      <td>0</td>\n      <td>2971935</td>\n      <td>2</td>\n      <td>M</td>\n    </tr>\n    <tr>\n      <th>2</th>\n      <td>ANTONIO</td>\n      <td>0</td>\n      <td>2567494</td>\n      <td>3</td>\n      <td>M</td>\n    </tr>\n    <tr>\n      <th>3</th>\n      <td>FRANCISCO</td>\n      <td>0</td>\n      <td>1765197</td>\n      <td>4</td>\n      <td>M</td>\n    </tr>\n    <tr>\n      <th>4</th>\n      <td>CARLOS</td>\n      <td>0</td>\n      <td>1483121</td>\n      <td>5</td>\n      <td>M</td>\n    </tr>\n    <tr>\n      <th>...</th>\n      <td>...</td>\n      <td>...</td>\n      <td>...</td>\n      <td>...</td>\n      <td>...</td>\n    </tr>\n    <tr>\n      <th>195</th>\n      <td>WALTER</td>\n      <td>0</td>\n      <td>67207</td>\n      <td>196</td>\n      <td>M</td>\n    </tr>\n    <tr>\n      <th>196</th>\n      <td>ARLINDO</td>\n      <td>0</td>\n      <td>66669</td>\n      <td>197</td>\n      <td>M</td>\n    </tr>\n    <tr>\n      <th>197</th>\n      <td>MICHAEL</td>\n      <td>0</td>\n      <td>65736</td>\n      <td>198</td>\n      <td>M</td>\n    </tr>\n    <tr>\n      <th>198</th>\n      <td>ALVARO</td>\n      <td>0</td>\n      <td>65444</td>\n      <td>199</td>\n      <td>M</td>\n    </tr>\n    <tr>\n      <th>199</th>\n      <td>GEOVANE</td>\n      <td>0</td>\n      <td>65435</td>\n      <td>200</td>\n      <td>M</td>\n    </tr>\n  </tbody>\n</table>\n<p>200 rows × 5 columns</p>\n</div>"
     },
     "metadata": {},
     "execution_count": 5
    }
   ],
   "source": [
    "\n",
    "nomes_m"
   ]
  },
  {
   "source": [
    "## Juntando os dois dataFrames\n"
   ],
   "cell_type": "markdown",
   "metadata": {}
  },
  {
   "cell_type": "code",
   "execution_count": 6,
   "metadata": {},
   "outputs": [],
   "source": [
    "frames = [nomes_f, nomes_m]"
   ]
  },
  {
   "cell_type": "code",
   "execution_count": 7,
   "metadata": {},
   "outputs": [],
   "source": [
    "nomes = pd.concat(frames)['nome'].to_frame() # escolhendo apenas quais informações eu quero concatenar"
   ]
  },
  {
   "cell_type": "code",
   "execution_count": 8,
   "metadata": {},
   "outputs": [
    {
     "output_type": "execute_result",
     "data": {
      "text/plain": [
       "          nome\n",
       "0        MARIA\n",
       "1          ANA\n",
       "2    FRANCISCA\n",
       "3      ANTONIA\n",
       "4      ADRIANA\n",
       "..         ...\n",
       "195     WALTER\n",
       "196    ARLINDO\n",
       "197    MICHAEL\n",
       "198     ALVARO\n",
       "199    GEOVANE\n",
       "\n",
       "[400 rows x 1 columns]"
      ],
      "text/html": "<div>\n<style scoped>\n    .dataframe tbody tr th:only-of-type {\n        vertical-align: middle;\n    }\n\n    .dataframe tbody tr th {\n        vertical-align: top;\n    }\n\n    .dataframe thead th {\n        text-align: right;\n    }\n</style>\n<table border=\"1\" class=\"dataframe\">\n  <thead>\n    <tr style=\"text-align: right;\">\n      <th></th>\n      <th>nome</th>\n    </tr>\n  </thead>\n  <tbody>\n    <tr>\n      <th>0</th>\n      <td>MARIA</td>\n    </tr>\n    <tr>\n      <th>1</th>\n      <td>ANA</td>\n    </tr>\n    <tr>\n      <th>2</th>\n      <td>FRANCISCA</td>\n    </tr>\n    <tr>\n      <th>3</th>\n      <td>ANTONIA</td>\n    </tr>\n    <tr>\n      <th>4</th>\n      <td>ADRIANA</td>\n    </tr>\n    <tr>\n      <th>...</th>\n      <td>...</td>\n    </tr>\n    <tr>\n      <th>195</th>\n      <td>WALTER</td>\n    </tr>\n    <tr>\n      <th>196</th>\n      <td>ARLINDO</td>\n    </tr>\n    <tr>\n      <th>197</th>\n      <td>MICHAEL</td>\n    </tr>\n    <tr>\n      <th>198</th>\n      <td>ALVARO</td>\n    </tr>\n    <tr>\n      <th>199</th>\n      <td>GEOVANE</td>\n    </tr>\n  </tbody>\n</table>\n<p>400 rows × 1 columns</p>\n</div>"
     },
     "metadata": {},
     "execution_count": 8
    }
   ],
   "source": [
    "nomes"
   ]
  },
  {
   "cell_type": "code",
   "execution_count": 9,
   "metadata": {},
   "outputs": [
    {
     "output_type": "execute_result",
     "data": {
      "text/plain": [
       "         nome\n",
       "45    ADRIANO\n",
       "116  DOMINGOS\n",
       "135  ROSILENE\n",
       "64    VIVIANE\n",
       "174     DENIS"
      ],
      "text/html": "<div>\n<style scoped>\n    .dataframe tbody tr th:only-of-type {\n        vertical-align: middle;\n    }\n\n    .dataframe tbody tr th {\n        vertical-align: top;\n    }\n\n    .dataframe thead th {\n        text-align: right;\n    }\n</style>\n<table border=\"1\" class=\"dataframe\">\n  <thead>\n    <tr style=\"text-align: right;\">\n      <th></th>\n      <th>nome</th>\n    </tr>\n  </thead>\n  <tbody>\n    <tr>\n      <th>45</th>\n      <td>ADRIANO</td>\n    </tr>\n    <tr>\n      <th>116</th>\n      <td>DOMINGOS</td>\n    </tr>\n    <tr>\n      <th>135</th>\n      <td>ROSILENE</td>\n    </tr>\n    <tr>\n      <th>64</th>\n      <td>VIVIANE</td>\n    </tr>\n    <tr>\n      <th>174</th>\n      <td>DENIS</td>\n    </tr>\n  </tbody>\n</table>\n</div>"
     },
     "metadata": {},
     "execution_count": 9
    }
   ],
   "source": [
    "nomes.sample(5) # sample pega nomes aleatorios"
   ]
  },
  {
   "source": [
    "# Incluindo Id dos Alunos"
   ],
   "cell_type": "markdown",
   "metadata": {}
  },
  {
   "source": [
    "### Criando ids aleatorios"
   ],
   "cell_type": "markdown",
   "metadata": {}
  },
  {
   "cell_type": "code",
   "execution_count": 10,
   "metadata": {},
   "outputs": [],
   "source": [
    "import numpy as np \n",
    "np.random.seed(123)"
   ]
  },
  {
   "cell_type": "code",
   "execution_count": 11,
   "metadata": {},
   "outputs": [
    {
     "output_type": "execute_result",
     "data": {
      "text/plain": [
       "400"
      ]
     },
     "metadata": {},
     "execution_count": 11
    }
   ],
   "source": [
    "total_alunos = nomes.shape[0]\n",
    "total_alunos"
   ]
  },
  {
   "cell_type": "code",
   "execution_count": 12,
   "metadata": {},
   "outputs": [],
   "source": [
    "nomes[\"id_aluno\"] = np.random.permutation(total_alunos) + 1"
   ]
  },
  {
   "cell_type": "code",
   "execution_count": 13,
   "metadata": {},
   "outputs": [
    {
     "output_type": "execute_result",
     "data": {
      "text/plain": [
       "          nome  id_aluno\n",
       "188    POLIANA       369\n",
       "57      DAIANE       303\n",
       "3    FRANCISCO       382\n",
       "182    CHARLES        33\n",
       "30    ANDERSON       111"
      ],
      "text/html": "<div>\n<style scoped>\n    .dataframe tbody tr th:only-of-type {\n        vertical-align: middle;\n    }\n\n    .dataframe tbody tr th {\n        vertical-align: top;\n    }\n\n    .dataframe thead th {\n        text-align: right;\n    }\n</style>\n<table border=\"1\" class=\"dataframe\">\n  <thead>\n    <tr style=\"text-align: right;\">\n      <th></th>\n      <th>nome</th>\n      <th>id_aluno</th>\n    </tr>\n  </thead>\n  <tbody>\n    <tr>\n      <th>188</th>\n      <td>POLIANA</td>\n      <td>369</td>\n    </tr>\n    <tr>\n      <th>57</th>\n      <td>DAIANE</td>\n      <td>303</td>\n    </tr>\n    <tr>\n      <th>3</th>\n      <td>FRANCISCO</td>\n      <td>382</td>\n    </tr>\n    <tr>\n      <th>182</th>\n      <td>CHARLES</td>\n      <td>33</td>\n    </tr>\n    <tr>\n      <th>30</th>\n      <td>ANDERSON</td>\n      <td>111</td>\n    </tr>\n  </tbody>\n</table>\n</div>"
     },
     "metadata": {},
     "execution_count": 13
    }
   ],
   "source": [
    "nomes.sample(5)"
   ]
  },
  {
   "source": [
    "### Criando email"
   ],
   "cell_type": "markdown",
   "metadata": {}
  },
  {
   "cell_type": "code",
   "execution_count": 14,
   "metadata": {},
   "outputs": [
    {
     "output_type": "execute_result",
     "data": {
      "text/plain": [
       "          nome  id_aluno                 dominio\n",
       "0        MARIA       235  @dominiodoemail.com.br\n",
       "1          ANA        43     @servicodoemail.com\n",
       "2    FRANCISCA       304     @servicodoemail.com\n",
       "3      ANTONIA       156  @dominiodoemail.com.br\n",
       "4      ADRIANA       343     @servicodoemail.com\n",
       "..         ...       ...                     ...\n",
       "195     WALTER       231  @dominiodoemail.com.br\n",
       "196    ARLINDO        99     @servicodoemail.com\n",
       "197    MICHAEL       323  @dominiodoemail.com.br\n",
       "198     ALVARO       383  @dominiodoemail.com.br\n",
       "199    GEOVANE       366     @servicodoemail.com\n",
       "\n",
       "[400 rows x 3 columns]"
      ],
      "text/html": "<div>\n<style scoped>\n    .dataframe tbody tr th:only-of-type {\n        vertical-align: middle;\n    }\n\n    .dataframe tbody tr th {\n        vertical-align: top;\n    }\n\n    .dataframe thead th {\n        text-align: right;\n    }\n</style>\n<table border=\"1\" class=\"dataframe\">\n  <thead>\n    <tr style=\"text-align: right;\">\n      <th></th>\n      <th>nome</th>\n      <th>id_aluno</th>\n      <th>dominio</th>\n    </tr>\n  </thead>\n  <tbody>\n    <tr>\n      <th>0</th>\n      <td>MARIA</td>\n      <td>235</td>\n      <td>@dominiodoemail.com.br</td>\n    </tr>\n    <tr>\n      <th>1</th>\n      <td>ANA</td>\n      <td>43</td>\n      <td>@servicodoemail.com</td>\n    </tr>\n    <tr>\n      <th>2</th>\n      <td>FRANCISCA</td>\n      <td>304</td>\n      <td>@servicodoemail.com</td>\n    </tr>\n    <tr>\n      <th>3</th>\n      <td>ANTONIA</td>\n      <td>156</td>\n      <td>@dominiodoemail.com.br</td>\n    </tr>\n    <tr>\n      <th>4</th>\n      <td>ADRIANA</td>\n      <td>343</td>\n      <td>@servicodoemail.com</td>\n    </tr>\n    <tr>\n      <th>...</th>\n      <td>...</td>\n      <td>...</td>\n      <td>...</td>\n    </tr>\n    <tr>\n      <th>195</th>\n      <td>WALTER</td>\n      <td>231</td>\n      <td>@dominiodoemail.com.br</td>\n    </tr>\n    <tr>\n      <th>196</th>\n      <td>ARLINDO</td>\n      <td>99</td>\n      <td>@servicodoemail.com</td>\n    </tr>\n    <tr>\n      <th>197</th>\n      <td>MICHAEL</td>\n      <td>323</td>\n      <td>@dominiodoemail.com.br</td>\n    </tr>\n    <tr>\n      <th>198</th>\n      <td>ALVARO</td>\n      <td>383</td>\n      <td>@dominiodoemail.com.br</td>\n    </tr>\n    <tr>\n      <th>199</th>\n      <td>GEOVANE</td>\n      <td>366</td>\n      <td>@servicodoemail.com</td>\n    </tr>\n  </tbody>\n</table>\n<p>400 rows × 3 columns</p>\n</div>"
     },
     "metadata": {},
     "execution_count": 14
    }
   ],
   "source": [
    "dominios = ['@dominiodoemail.com.br','@servicodoemail.com']\n",
    "nomes['dominio'] = np.random.choice(dominios,total_alunos)\n",
    "nomes"
   ]
  },
  {
   "cell_type": "code",
   "execution_count": 15,
   "metadata": {},
   "outputs": [
    {
     "output_type": "execute_result",
     "data": {
      "text/plain": [
       "          nome  id_aluno                 dominio  \\\n",
       "84    SEVERINO        78  @dominiodoemail.com.br   \n",
       "0         JOSE       331     @servicodoemail.com   \n",
       "179       IAGO       340  @dominiodoemail.com.br   \n",
       "10      SANDRA       174  @dominiodoemail.com.br   \n",
       "171  TERESINHA        45  @dominiodoemail.com.br   \n",
       "\n",
       "                               email  \n",
       "84    severino@dominiodoemail.com.br  \n",
       "0            jose@servicodoemail.com  \n",
       "179       iago@dominiodoemail.com.br  \n",
       "10      sandra@dominiodoemail.com.br  \n",
       "171  teresinha@dominiodoemail.com.br  "
      ],
      "text/html": "<div>\n<style scoped>\n    .dataframe tbody tr th:only-of-type {\n        vertical-align: middle;\n    }\n\n    .dataframe tbody tr th {\n        vertical-align: top;\n    }\n\n    .dataframe thead th {\n        text-align: right;\n    }\n</style>\n<table border=\"1\" class=\"dataframe\">\n  <thead>\n    <tr style=\"text-align: right;\">\n      <th></th>\n      <th>nome</th>\n      <th>id_aluno</th>\n      <th>dominio</th>\n      <th>email</th>\n    </tr>\n  </thead>\n  <tbody>\n    <tr>\n      <th>84</th>\n      <td>SEVERINO</td>\n      <td>78</td>\n      <td>@dominiodoemail.com.br</td>\n      <td>severino@dominiodoemail.com.br</td>\n    </tr>\n    <tr>\n      <th>0</th>\n      <td>JOSE</td>\n      <td>331</td>\n      <td>@servicodoemail.com</td>\n      <td>jose@servicodoemail.com</td>\n    </tr>\n    <tr>\n      <th>179</th>\n      <td>IAGO</td>\n      <td>340</td>\n      <td>@dominiodoemail.com.br</td>\n      <td>iago@dominiodoemail.com.br</td>\n    </tr>\n    <tr>\n      <th>10</th>\n      <td>SANDRA</td>\n      <td>174</td>\n      <td>@dominiodoemail.com.br</td>\n      <td>sandra@dominiodoemail.com.br</td>\n    </tr>\n    <tr>\n      <th>171</th>\n      <td>TERESINHA</td>\n      <td>45</td>\n      <td>@dominiodoemail.com.br</td>\n      <td>teresinha@dominiodoemail.com.br</td>\n    </tr>\n  </tbody>\n</table>\n</div>"
     },
     "metadata": {},
     "execution_count": 15
    }
   ],
   "source": [
    "nomes['email'] = nomes.nome.str.cat(nomes.dominio).str.lower() # Concatetando \n",
    "nomes.sample(5)"
   ]
  },
  {
   "source": [
    "# Criando a Tabela Cursos"
   ],
   "cell_type": "markdown",
   "metadata": {}
  },
  {
   "source": [
    "### Buscando informações na web"
   ],
   "cell_type": "markdown",
   "metadata": {}
  },
  {
   "cell_type": "code",
   "execution_count": 16,
   "metadata": {},
   "outputs": [],
   "source": [
    "import html5lib \n",
    "import lxml"
   ]
  },
  {
   "cell_type": "code",
   "execution_count": 17,
   "metadata": {},
   "outputs": [],
   "source": [
    "url = 'http://tabela-cursos.herokuapp.com/index.html'\n",
    "cursos = pd.read_html(url)"
   ]
  },
  {
   "cell_type": "code",
   "execution_count": 18,
   "metadata": {},
   "outputs": [
    {
     "output_type": "execute_result",
     "data": {
      "text/plain": [
       "[                          Nome do curso\n",
       " 0                 Lógica de programação\n",
       " 1                         Java para Web\n",
       " 2                           C# para Web\n",
       " 3                         Ruby on Rails\n",
       " 4                      Cursos de Python\n",
       " 5                         PHP com MySql\n",
       " 6                         .NET para web\n",
       " 7            Novas integrações com Java\n",
       " 8                          TDD com Java\n",
       " 9                   Código limpo com C#\n",
       " 10  Preparatório para certificação Java\n",
       " 11                      Hardware básico\n",
       " 12                Persistência com .NET\n",
       " 13                  Desenvolvendo jogos\n",
       " 14                     Análise de dados\n",
       " 15                   Estatística básica\n",
       " 16                  Internet das coisas\n",
       " 17                Programação funcional\n",
       " 18                Boas práticas em Java\n",
       " 19          Orientação objetos com Java]"
      ]
     },
     "metadata": {},
     "execution_count": 18
    }
   ],
   "source": [
    "cursos"
   ]
  },
  {
   "cell_type": "code",
   "execution_count": 19,
   "metadata": {},
   "outputs": [
    {
     "output_type": "execute_result",
     "data": {
      "text/plain": [
       "list"
      ]
     },
     "metadata": {},
     "execution_count": 19
    }
   ],
   "source": [
    "type(cursos)"
   ]
  },
  {
   "cell_type": "code",
   "execution_count": 20,
   "metadata": {},
   "outputs": [],
   "source": [
    "cursos = cursos[0] # Transformando eu um dataFrame "
   ]
  },
  {
   "cell_type": "code",
   "execution_count": 21,
   "metadata": {},
   "outputs": [
    {
     "output_type": "execute_result",
     "data": {
      "text/plain": [
       "pandas.core.frame.DataFrame"
      ]
     },
     "metadata": {},
     "execution_count": 21
    }
   ],
   "source": [
    "type(cursos)"
   ]
  },
  {
   "cell_type": "code",
   "execution_count": 22,
   "metadata": {},
   "outputs": [
    {
     "output_type": "execute_result",
     "data": {
      "text/plain": [
       "           Nome do curso\n",
       "0  Lógica de programação\n",
       "1          Java para Web\n",
       "2            C# para Web\n",
       "3          Ruby on Rails\n",
       "4       Cursos de Python"
      ],
      "text/html": "<div>\n<style scoped>\n    .dataframe tbody tr th:only-of-type {\n        vertical-align: middle;\n    }\n\n    .dataframe tbody tr th {\n        vertical-align: top;\n    }\n\n    .dataframe thead th {\n        text-align: right;\n    }\n</style>\n<table border=\"1\" class=\"dataframe\">\n  <thead>\n    <tr style=\"text-align: right;\">\n      <th></th>\n      <th>Nome do curso</th>\n    </tr>\n  </thead>\n  <tbody>\n    <tr>\n      <th>0</th>\n      <td>Lógica de programação</td>\n    </tr>\n    <tr>\n      <th>1</th>\n      <td>Java para Web</td>\n    </tr>\n    <tr>\n      <th>2</th>\n      <td>C# para Web</td>\n    </tr>\n    <tr>\n      <th>3</th>\n      <td>Ruby on Rails</td>\n    </tr>\n    <tr>\n      <th>4</th>\n      <td>Cursos de Python</td>\n    </tr>\n  </tbody>\n</table>\n</div>"
     },
     "metadata": {},
     "execution_count": 22
    }
   ],
   "source": [
    "cursos.head()"
   ]
  },
  {
   "source": [
    "# Alterando O Index de cursos"
   ],
   "cell_type": "markdown",
   "metadata": {}
  },
  {
   "cell_type": "code",
   "execution_count": 23,
   "metadata": {},
   "outputs": [],
   "source": [
    "cursos = cursos.rename(columns={'Nome do curso':'nome_do_curso' }) # renomenado colunas"
   ]
  },
  {
   "cell_type": "code",
   "execution_count": 24,
   "metadata": {},
   "outputs": [
    {
     "output_type": "execute_result",
     "data": {
      "text/plain": [
       "           nome_do_curso\n",
       "0  Lógica de programação\n",
       "1          Java para Web\n",
       "2            C# para Web\n",
       "3          Ruby on Rails\n",
       "4       Cursos de Python"
      ],
      "text/html": "<div>\n<style scoped>\n    .dataframe tbody tr th:only-of-type {\n        vertical-align: middle;\n    }\n\n    .dataframe tbody tr th {\n        vertical-align: top;\n    }\n\n    .dataframe thead th {\n        text-align: right;\n    }\n</style>\n<table border=\"1\" class=\"dataframe\">\n  <thead>\n    <tr style=\"text-align: right;\">\n      <th></th>\n      <th>nome_do_curso</th>\n    </tr>\n  </thead>\n  <tbody>\n    <tr>\n      <th>0</th>\n      <td>Lógica de programação</td>\n    </tr>\n    <tr>\n      <th>1</th>\n      <td>Java para Web</td>\n    </tr>\n    <tr>\n      <th>2</th>\n      <td>C# para Web</td>\n    </tr>\n    <tr>\n      <th>3</th>\n      <td>Ruby on Rails</td>\n    </tr>\n    <tr>\n      <th>4</th>\n      <td>Cursos de Python</td>\n    </tr>\n  </tbody>\n</table>\n</div>"
     },
     "metadata": {},
     "execution_count": 24
    }
   ],
   "source": [
    "cursos.head()"
   ]
  },
  {
   "cell_type": "code",
   "execution_count": 25,
   "metadata": {},
   "outputs": [],
   "source": [
    "cursos['id'] = cursos.index +1"
   ]
  },
  {
   "cell_type": "code",
   "execution_count": 26,
   "metadata": {},
   "outputs": [
    {
     "output_type": "execute_result",
     "data": {
      "text/plain": [
       "           nome_do_curso  id\n",
       "0  Lógica de programação   1\n",
       "1          Java para Web   2\n",
       "2            C# para Web   3\n",
       "3          Ruby on Rails   4\n",
       "4       Cursos de Python   5"
      ],
      "text/html": "<div>\n<style scoped>\n    .dataframe tbody tr th:only-of-type {\n        vertical-align: middle;\n    }\n\n    .dataframe tbody tr th {\n        vertical-align: top;\n    }\n\n    .dataframe thead th {\n        text-align: right;\n    }\n</style>\n<table border=\"1\" class=\"dataframe\">\n  <thead>\n    <tr style=\"text-align: right;\">\n      <th></th>\n      <th>nome_do_curso</th>\n      <th>id</th>\n    </tr>\n  </thead>\n  <tbody>\n    <tr>\n      <th>0</th>\n      <td>Lógica de programação</td>\n      <td>1</td>\n    </tr>\n    <tr>\n      <th>1</th>\n      <td>Java para Web</td>\n      <td>2</td>\n    </tr>\n    <tr>\n      <th>2</th>\n      <td>C# para Web</td>\n      <td>3</td>\n    </tr>\n    <tr>\n      <th>3</th>\n      <td>Ruby on Rails</td>\n      <td>4</td>\n    </tr>\n    <tr>\n      <th>4</th>\n      <td>Cursos de Python</td>\n      <td>5</td>\n    </tr>\n  </tbody>\n</table>\n</div>"
     },
     "metadata": {},
     "execution_count": 26
    }
   ],
   "source": [
    "cursos.head(5)"
   ]
  },
  {
   "cell_type": "code",
   "execution_count": 27,
   "metadata": {},
   "outputs": [],
   "source": [
    "cursos = cursos.set_index('id') # colocando o index para o id"
   ]
  },
  {
   "cell_type": "code",
   "execution_count": 28,
   "metadata": {},
   "outputs": [
    {
     "output_type": "execute_result",
     "data": {
      "text/plain": [
       "            nome_do_curso\n",
       "id                       \n",
       "1   Lógica de programação\n",
       "2           Java para Web\n",
       "3             C# para Web\n",
       "4           Ruby on Rails\n",
       "5        Cursos de Python"
      ],
      "text/html": "<div>\n<style scoped>\n    .dataframe tbody tr th:only-of-type {\n        vertical-align: middle;\n    }\n\n    .dataframe tbody tr th {\n        vertical-align: top;\n    }\n\n    .dataframe thead th {\n        text-align: right;\n    }\n</style>\n<table border=\"1\" class=\"dataframe\">\n  <thead>\n    <tr style=\"text-align: right;\">\n      <th></th>\n      <th>nome_do_curso</th>\n    </tr>\n    <tr>\n      <th>id</th>\n      <th></th>\n    </tr>\n  </thead>\n  <tbody>\n    <tr>\n      <th>1</th>\n      <td>Lógica de programação</td>\n    </tr>\n    <tr>\n      <th>2</th>\n      <td>Java para Web</td>\n    </tr>\n    <tr>\n      <th>3</th>\n      <td>C# para Web</td>\n    </tr>\n    <tr>\n      <th>4</th>\n      <td>Ruby on Rails</td>\n    </tr>\n    <tr>\n      <th>5</th>\n      <td>Cursos de Python</td>\n    </tr>\n  </tbody>\n</table>\n</div>"
     },
     "metadata": {},
     "execution_count": 28
    }
   ],
   "source": [
    "cursos.head()"
   ]
  },
  {
   "source": [
    "# Matriculando os alunos nos cursos"
   ],
   "cell_type": "markdown",
   "metadata": {}
  },
  {
   "cell_type": "code",
   "execution_count": 29,
   "metadata": {},
   "outputs": [
    {
     "output_type": "execute_result",
     "data": {
      "text/plain": [
       "       nome  id_aluno                 dominio                         email\n",
       "114  ARTHUR       320  @dominiodoemail.com.br  arthur@dominiodoemail.com.br\n",
       "57   DAIANE       303     @servicodoemail.com     daiane@servicodoemail.com\n",
       "85   HELENA       221  @dominiodoemail.com.br  helena@dominiodoemail.com.br\n",
       "183   IRACI         8  @dominiodoemail.com.br   iraci@dominiodoemail.com.br\n",
       "189   DALVA       137  @dominiodoemail.com.br   dalva@dominiodoemail.com.br"
      ],
      "text/html": "<div>\n<style scoped>\n    .dataframe tbody tr th:only-of-type {\n        vertical-align: middle;\n    }\n\n    .dataframe tbody tr th {\n        vertical-align: top;\n    }\n\n    .dataframe thead th {\n        text-align: right;\n    }\n</style>\n<table border=\"1\" class=\"dataframe\">\n  <thead>\n    <tr style=\"text-align: right;\">\n      <th></th>\n      <th>nome</th>\n      <th>id_aluno</th>\n      <th>dominio</th>\n      <th>email</th>\n    </tr>\n  </thead>\n  <tbody>\n    <tr>\n      <th>114</th>\n      <td>ARTHUR</td>\n      <td>320</td>\n      <td>@dominiodoemail.com.br</td>\n      <td>arthur@dominiodoemail.com.br</td>\n    </tr>\n    <tr>\n      <th>57</th>\n      <td>DAIANE</td>\n      <td>303</td>\n      <td>@servicodoemail.com</td>\n      <td>daiane@servicodoemail.com</td>\n    </tr>\n    <tr>\n      <th>85</th>\n      <td>HELENA</td>\n      <td>221</td>\n      <td>@dominiodoemail.com.br</td>\n      <td>helena@dominiodoemail.com.br</td>\n    </tr>\n    <tr>\n      <th>183</th>\n      <td>IRACI</td>\n      <td>8</td>\n      <td>@dominiodoemail.com.br</td>\n      <td>iraci@dominiodoemail.com.br</td>\n    </tr>\n    <tr>\n      <th>189</th>\n      <td>DALVA</td>\n      <td>137</td>\n      <td>@dominiodoemail.com.br</td>\n      <td>dalva@dominiodoemail.com.br</td>\n    </tr>\n  </tbody>\n</table>\n</div>"
     },
     "metadata": {},
     "execution_count": 29
    }
   ],
   "source": [
    "nomes.sample(5)"
   ]
  },
  {
   "cell_type": "code",
   "execution_count": 30,
   "metadata": {},
   "outputs": [],
   "source": [
    "nomes['matriculas'] = np.ceil(np.random.exponential(size = total_alunos) *1.5).astype(int) # ceil maior que zero. exponential faz com que quanto maior menos pessoas matriculadas em varios cursos. astype coloca o tipo "
   ]
  },
  {
   "cell_type": "code",
   "execution_count": 31,
   "metadata": {},
   "outputs": [
    {
     "output_type": "execute_result",
     "data": {
      "text/plain": [
       "       nome  id_aluno                 dominio                         email  \\\n",
       "105  MILENA       371  @dominiodoemail.com.br  milena@dominiodoemail.com.br   \n",
       "183   IRACI         8  @dominiodoemail.com.br   iraci@dominiodoemail.com.br   \n",
       "10     LUIS       125  @dominiodoemail.com.br    luis@dominiodoemail.com.br   \n",
       "139   OSMAR        71  @dominiodoemail.com.br   osmar@dominiodoemail.com.br   \n",
       "40   SERGIO       139     @servicodoemail.com     sergio@servicodoemail.com   \n",
       "\n",
       "     matriculas  \n",
       "105           2  \n",
       "183           1  \n",
       "10            2  \n",
       "139           2  \n",
       "40            2  "
      ],
      "text/html": "<div>\n<style scoped>\n    .dataframe tbody tr th:only-of-type {\n        vertical-align: middle;\n    }\n\n    .dataframe tbody tr th {\n        vertical-align: top;\n    }\n\n    .dataframe thead th {\n        text-align: right;\n    }\n</style>\n<table border=\"1\" class=\"dataframe\">\n  <thead>\n    <tr style=\"text-align: right;\">\n      <th></th>\n      <th>nome</th>\n      <th>id_aluno</th>\n      <th>dominio</th>\n      <th>email</th>\n      <th>matriculas</th>\n    </tr>\n  </thead>\n  <tbody>\n    <tr>\n      <th>105</th>\n      <td>MILENA</td>\n      <td>371</td>\n      <td>@dominiodoemail.com.br</td>\n      <td>milena@dominiodoemail.com.br</td>\n      <td>2</td>\n    </tr>\n    <tr>\n      <th>183</th>\n      <td>IRACI</td>\n      <td>8</td>\n      <td>@dominiodoemail.com.br</td>\n      <td>iraci@dominiodoemail.com.br</td>\n      <td>1</td>\n    </tr>\n    <tr>\n      <th>10</th>\n      <td>LUIS</td>\n      <td>125</td>\n      <td>@dominiodoemail.com.br</td>\n      <td>luis@dominiodoemail.com.br</td>\n      <td>2</td>\n    </tr>\n    <tr>\n      <th>139</th>\n      <td>OSMAR</td>\n      <td>71</td>\n      <td>@dominiodoemail.com.br</td>\n      <td>osmar@dominiodoemail.com.br</td>\n      <td>2</td>\n    </tr>\n    <tr>\n      <th>40</th>\n      <td>SERGIO</td>\n      <td>139</td>\n      <td>@servicodoemail.com</td>\n      <td>sergio@servicodoemail.com</td>\n      <td>2</td>\n    </tr>\n  </tbody>\n</table>\n</div>"
     },
     "metadata": {},
     "execution_count": 31
    }
   ],
   "source": [
    "nomes.sample(5)"
   ]
  },
  {
   "cell_type": "code",
   "execution_count": 32,
   "metadata": {},
   "outputs": [
    {
     "output_type": "execute_result",
     "data": {
      "text/plain": [
       "count    400.000000\n",
       "mean       2.135000\n",
       "std        1.515757\n",
       "min        1.000000\n",
       "25%        1.000000\n",
       "50%        2.000000\n",
       "75%        3.000000\n",
       "max       12.000000\n",
       "Name: matriculas, dtype: float64"
      ]
     },
     "metadata": {},
     "execution_count": 32
    }
   ],
   "source": [
    "nomes.matriculas.describe()"
   ]
  },
  {
   "cell_type": "code",
   "execution_count": 33,
   "metadata": {},
   "outputs": [
    {
     "output_type": "execute_result",
     "data": {
      "text/plain": [
       "<AxesSubplot:xlabel='matriculas', ylabel='Density'>"
      ]
     },
     "metadata": {},
     "execution_count": 33
    },
    {
     "output_type": "display_data",
     "data": {
      "text/plain": "<Figure size 432x288 with 1 Axes>",
      "image/svg+xml": "<?xml version=\"1.0\" encoding=\"utf-8\" standalone=\"no\"?>\n<!DOCTYPE svg PUBLIC \"-//W3C//DTD SVG 1.1//EN\"\n  \"http://www.w3.org/Graphics/SVG/1.1/DTD/svg11.dtd\">\n<!-- Created with matplotlib (https://matplotlib.org/) -->\n<svg height=\"262.19625pt\" version=\"1.1\" viewBox=\"0 0 390.833924 262.19625\" width=\"390.833924pt\" xmlns=\"http://www.w3.org/2000/svg\" xmlns:xlink=\"http://www.w3.org/1999/xlink\">\n <metadata>\n  <rdf:RDF xmlns:cc=\"http://creativecommons.org/ns#\" xmlns:dc=\"http://purl.org/dc/elements/1.1/\" xmlns:rdf=\"http://www.w3.org/1999/02/22-rdf-syntax-ns#\">\n   <cc:Work>\n    <dc:type rdf:resource=\"http://purl.org/dc/dcmitype/StillImage\"/>\n    <dc:date>2020-12-27T16:43:18.702691</dc:date>\n    <dc:format>image/svg+xml</dc:format>\n    <dc:creator>\n     <cc:Agent>\n      <dc:title>Matplotlib v3.3.2, https://matplotlib.org/</dc:title>\n     </cc:Agent>\n    </dc:creator>\n   </cc:Work>\n  </rdf:RDF>\n </metadata>\n <defs>\n  <style type=\"text/css\">*{stroke-linecap:butt;stroke-linejoin:round;}</style>\n </defs>\n <g id=\"figure_1\">\n  <g id=\"patch_1\">\n   <path d=\"M 0 262.19625 \nL 390.833924 262.19625 \nL 390.833924 0 \nL 0 0 \nz\n\" style=\"fill:none;\"/>\n  </g>\n  <g id=\"axes_1\">\n   <g id=\"patch_2\">\n    <path d=\"M 43.78125 224.64 \nL 378.58125 224.64 \nL 378.58125 7.2 \nL 43.78125 7.2 \nz\n\" style=\"fill:#ffffff;\"/>\n   </g>\n   <g id=\"patch_3\">\n    <path clip-path=\"url(#p9e4455174b)\" d=\"M 89.381789 224.64 \nL 100.981738 224.64 \nL 100.981738 17.554286 \nL 89.381789 17.554286 \nz\n\" style=\"fill:#1f77b4;opacity:0.4;\"/>\n   </g>\n   <g id=\"patch_4\">\n    <path clip-path=\"url(#p9e4455174b)\" d=\"M 100.981738 224.64 \nL 112.581687 224.64 \nL 112.581687 115.469814 \nL 100.981738 115.469814 \nz\n\" style=\"fill:#1f77b4;opacity:0.4;\"/>\n   </g>\n   <g id=\"patch_5\">\n    <path clip-path=\"url(#p9e4455174b)\" d=\"M 112.581687 224.64 \nL 124.181635 224.64 \nL 124.181635 224.64 \nL 112.581687 224.64 \nz\n\" style=\"fill:#1f77b4;opacity:0.4;\"/>\n   </g>\n   <g id=\"patch_6\">\n    <path clip-path=\"url(#p9e4455174b)\" d=\"M 124.181635 224.64 \nL 135.781584 224.64 \nL 135.781584 161.613913 \nL 124.181635 161.613913 \nz\n\" style=\"fill:#1f77b4;opacity:0.4;\"/>\n   </g>\n   <g id=\"patch_7\">\n    <path clip-path=\"url(#p9e4455174b)\" d=\"M 135.781584 224.64 \nL 147.381532 224.64 \nL 147.381532 224.64 \nL 135.781584 224.64 \nz\n\" style=\"fill:#1f77b4;opacity:0.4;\"/>\n   </g>\n   <g id=\"patch_8\">\n    <path clip-path=\"url(#p9e4455174b)\" d=\"M 147.381532 224.64 \nL 158.981481 224.64 \nL 158.981481 186.374161 \nL 147.381532 186.374161 \nz\n\" style=\"fill:#1f77b4;opacity:0.4;\"/>\n   </g>\n   <g id=\"patch_9\">\n    <path clip-path=\"url(#p9e4455174b)\" d=\"M 158.981481 224.64 \nL 170.58143 224.64 \nL 170.58143 224.64 \nL 158.981481 224.64 \nz\n\" style=\"fill:#1f77b4;opacity:0.4;\"/>\n   </g>\n   <g id=\"patch_10\">\n    <path clip-path=\"url(#p9e4455174b)\" d=\"M 170.58143 224.64 \nL 182.181378 224.64 \nL 182.181378 203.256149 \nL 170.58143 203.256149 \nz\n\" style=\"fill:#1f77b4;opacity:0.4;\"/>\n   </g>\n   <g id=\"patch_11\">\n    <path clip-path=\"url(#p9e4455174b)\" d=\"M 182.181378 224.64 \nL 193.781327 224.64 \nL 193.781327 224.64 \nL 182.181378 224.64 \nz\n\" style=\"fill:#1f77b4;opacity:0.4;\"/>\n   </g>\n   <g id=\"patch_12\">\n    <path clip-path=\"url(#p9e4455174b)\" d=\"M 193.781327 224.64 \nL 205.381276 224.64 \nL 205.381276 219.012671 \nL 193.781327 219.012671 \nz\n\" style=\"fill:#1f77b4;opacity:0.4;\"/>\n   </g>\n   <g id=\"patch_13\">\n    <path clip-path=\"url(#p9e4455174b)\" d=\"M 205.381276 224.64 \nL 216.981224 224.64 \nL 216.981224 224.64 \nL 205.381276 224.64 \nz\n\" style=\"fill:#1f77b4;opacity:0.4;\"/>\n   </g>\n   <g id=\"patch_14\">\n    <path clip-path=\"url(#p9e4455174b)\" d=\"M 216.981224 224.64 \nL 228.581173 224.64 \nL 228.581173 223.514534 \nL 216.981224 223.514534 \nz\n\" style=\"fill:#1f77b4;opacity:0.4;\"/>\n   </g>\n   <g id=\"patch_15\">\n    <path clip-path=\"url(#p9e4455174b)\" d=\"M 228.581173 224.64 \nL 240.181122 224.64 \nL 240.181122 224.64 \nL 228.581173 224.64 \nz\n\" style=\"fill:#1f77b4;opacity:0.4;\"/>\n   </g>\n   <g id=\"patch_16\">\n    <path clip-path=\"url(#p9e4455174b)\" d=\"M 240.181122 224.64 \nL 251.78107 224.64 \nL 251.78107 222.389068 \nL 240.181122 222.389068 \nz\n\" style=\"fill:#1f77b4;opacity:0.4;\"/>\n   </g>\n   <g id=\"patch_17\">\n    <path clip-path=\"url(#p9e4455174b)\" d=\"M 251.78107 224.64 \nL 263.381019 224.64 \nL 263.381019 224.64 \nL 251.78107 224.64 \nz\n\" style=\"fill:#1f77b4;opacity:0.4;\"/>\n   </g>\n   <g id=\"patch_18\">\n    <path clip-path=\"url(#p9e4455174b)\" d=\"M 263.381019 224.64 \nL 274.980968 224.64 \nL 274.980968 224.64 \nL 263.381019 224.64 \nz\n\" style=\"fill:#1f77b4;opacity:0.4;\"/>\n   </g>\n   <g id=\"patch_19\">\n    <path clip-path=\"url(#p9e4455174b)\" d=\"M 274.980968 224.64 \nL 286.580916 224.64 \nL 286.580916 224.64 \nL 274.980968 224.64 \nz\n\" style=\"fill:#1f77b4;opacity:0.4;\"/>\n   </g>\n   <g id=\"patch_20\">\n    <path clip-path=\"url(#p9e4455174b)\" d=\"M 286.580916 224.64 \nL 298.180865 224.64 \nL 298.180865 224.64 \nL 286.580916 224.64 \nz\n\" style=\"fill:#1f77b4;opacity:0.4;\"/>\n   </g>\n   <g id=\"patch_21\">\n    <path clip-path=\"url(#p9e4455174b)\" d=\"M 298.180865 224.64 \nL 309.780813 224.64 \nL 309.780813 224.64 \nL 298.180865 224.64 \nz\n\" style=\"fill:#1f77b4;opacity:0.4;\"/>\n   </g>\n   <g id=\"patch_22\">\n    <path clip-path=\"url(#p9e4455174b)\" d=\"M 309.780813 224.64 \nL 321.380762 224.64 \nL 321.380762 224.64 \nL 309.780813 224.64 \nz\n\" style=\"fill:#1f77b4;opacity:0.4;\"/>\n   </g>\n   <g id=\"patch_23\">\n    <path clip-path=\"url(#p9e4455174b)\" d=\"M 321.380762 224.64 \nL 332.980711 224.64 \nL 332.980711 222.389068 \nL 321.380762 222.389068 \nz\n\" style=\"fill:#1f77b4;opacity:0.4;\"/>\n   </g>\n   <g id=\"matplotlib.axis_1\">\n    <g id=\"xtick_1\">\n     <g id=\"line2d_1\">\n      <defs>\n       <path d=\"M 0 0 \nL 0 3.5 \n\" id=\"mdc6b89cc71\" style=\"stroke:#000000;stroke-width:0.8;\"/>\n      </defs>\n      <g>\n       <use style=\"stroke:#000000;stroke-width:0.8;\" x=\"67.236433\" xlink:href=\"#mdc6b89cc71\" y=\"224.64\"/>\n      </g>\n     </g>\n     <g id=\"text_1\">\n      <!-- 0 -->\n      <g transform=\"translate(64.055183 239.238437)scale(0.1 -0.1)\">\n       <defs>\n        <path d=\"M 31.78125 66.40625 \nQ 24.171875 66.40625 20.328125 58.90625 \nQ 16.5 51.421875 16.5 36.375 \nQ 16.5 21.390625 20.328125 13.890625 \nQ 24.171875 6.390625 31.78125 6.390625 \nQ 39.453125 6.390625 43.28125 13.890625 \nQ 47.125 21.390625 47.125 36.375 \nQ 47.125 51.421875 43.28125 58.90625 \nQ 39.453125 66.40625 31.78125 66.40625 \nz\nM 31.78125 74.21875 \nQ 44.046875 74.21875 50.515625 64.515625 \nQ 56.984375 54.828125 56.984375 36.375 \nQ 56.984375 17.96875 50.515625 8.265625 \nQ 44.046875 -1.421875 31.78125 -1.421875 \nQ 19.53125 -1.421875 13.0625 8.265625 \nQ 6.59375 17.96875 6.59375 36.375 \nQ 6.59375 54.828125 13.0625 64.515625 \nQ 19.53125 74.21875 31.78125 74.21875 \nz\n\" id=\"DejaVuSans-48\"/>\n       </defs>\n       <use xlink:href=\"#DejaVuSans-48\"/>\n      </g>\n     </g>\n    </g>\n    <g id=\"xtick_2\">\n     <g id=\"line2d_2\">\n      <g>\n       <use style=\"stroke:#000000;stroke-width:0.8;\" x=\"111.527146\" xlink:href=\"#mdc6b89cc71\" y=\"224.64\"/>\n      </g>\n     </g>\n     <g id=\"text_2\">\n      <!-- 2 -->\n      <g transform=\"translate(108.345896 239.238437)scale(0.1 -0.1)\">\n       <defs>\n        <path d=\"M 19.1875 8.296875 \nL 53.609375 8.296875 \nL 53.609375 0 \nL 7.328125 0 \nL 7.328125 8.296875 \nQ 12.9375 14.109375 22.625 23.890625 \nQ 32.328125 33.6875 34.8125 36.53125 \nQ 39.546875 41.84375 41.421875 45.53125 \nQ 43.3125 49.21875 43.3125 52.78125 \nQ 43.3125 58.59375 39.234375 62.25 \nQ 35.15625 65.921875 28.609375 65.921875 \nQ 23.96875 65.921875 18.8125 64.3125 \nQ 13.671875 62.703125 7.8125 59.421875 \nL 7.8125 69.390625 \nQ 13.765625 71.78125 18.9375 73 \nQ 24.125 74.21875 28.421875 74.21875 \nQ 39.75 74.21875 46.484375 68.546875 \nQ 53.21875 62.890625 53.21875 53.421875 \nQ 53.21875 48.921875 51.53125 44.890625 \nQ 49.859375 40.875 45.40625 35.40625 \nQ 44.1875 33.984375 37.640625 27.21875 \nQ 31.109375 20.453125 19.1875 8.296875 \nz\n\" id=\"DejaVuSans-50\"/>\n       </defs>\n       <use xlink:href=\"#DejaVuSans-50\"/>\n      </g>\n     </g>\n    </g>\n    <g id=\"xtick_3\">\n     <g id=\"line2d_3\">\n      <g>\n       <use style=\"stroke:#000000;stroke-width:0.8;\" x=\"155.817859\" xlink:href=\"#mdc6b89cc71\" y=\"224.64\"/>\n      </g>\n     </g>\n     <g id=\"text_3\">\n      <!-- 4 -->\n      <g transform=\"translate(152.636609 239.238437)scale(0.1 -0.1)\">\n       <defs>\n        <path d=\"M 37.796875 64.3125 \nL 12.890625 25.390625 \nL 37.796875 25.390625 \nz\nM 35.203125 72.90625 \nL 47.609375 72.90625 \nL 47.609375 25.390625 \nL 58.015625 25.390625 \nL 58.015625 17.1875 \nL 47.609375 17.1875 \nL 47.609375 0 \nL 37.796875 0 \nL 37.796875 17.1875 \nL 4.890625 17.1875 \nL 4.890625 26.703125 \nz\n\" id=\"DejaVuSans-52\"/>\n       </defs>\n       <use xlink:href=\"#DejaVuSans-52\"/>\n      </g>\n     </g>\n    </g>\n    <g id=\"xtick_4\">\n     <g id=\"line2d_4\">\n      <g>\n       <use style=\"stroke:#000000;stroke-width:0.8;\" x=\"200.108572\" xlink:href=\"#mdc6b89cc71\" y=\"224.64\"/>\n      </g>\n     </g>\n     <g id=\"text_4\">\n      <!-- 6 -->\n      <g transform=\"translate(196.927322 239.238437)scale(0.1 -0.1)\">\n       <defs>\n        <path d=\"M 33.015625 40.375 \nQ 26.375 40.375 22.484375 35.828125 \nQ 18.609375 31.296875 18.609375 23.390625 \nQ 18.609375 15.53125 22.484375 10.953125 \nQ 26.375 6.390625 33.015625 6.390625 \nQ 39.65625 6.390625 43.53125 10.953125 \nQ 47.40625 15.53125 47.40625 23.390625 \nQ 47.40625 31.296875 43.53125 35.828125 \nQ 39.65625 40.375 33.015625 40.375 \nz\nM 52.59375 71.296875 \nL 52.59375 62.3125 \nQ 48.875 64.0625 45.09375 64.984375 \nQ 41.3125 65.921875 37.59375 65.921875 \nQ 27.828125 65.921875 22.671875 59.328125 \nQ 17.53125 52.734375 16.796875 39.40625 \nQ 19.671875 43.65625 24.015625 45.921875 \nQ 28.375 48.1875 33.59375 48.1875 \nQ 44.578125 48.1875 50.953125 41.515625 \nQ 57.328125 34.859375 57.328125 23.390625 \nQ 57.328125 12.15625 50.6875 5.359375 \nQ 44.046875 -1.421875 33.015625 -1.421875 \nQ 20.359375 -1.421875 13.671875 8.265625 \nQ 6.984375 17.96875 6.984375 36.375 \nQ 6.984375 53.65625 15.1875 63.9375 \nQ 23.390625 74.21875 37.203125 74.21875 \nQ 40.921875 74.21875 44.703125 73.484375 \nQ 48.484375 72.75 52.59375 71.296875 \nz\n\" id=\"DejaVuSans-54\"/>\n       </defs>\n       <use xlink:href=\"#DejaVuSans-54\"/>\n      </g>\n     </g>\n    </g>\n    <g id=\"xtick_5\">\n     <g id=\"line2d_5\">\n      <g>\n       <use style=\"stroke:#000000;stroke-width:0.8;\" x=\"244.399285\" xlink:href=\"#mdc6b89cc71\" y=\"224.64\"/>\n      </g>\n     </g>\n     <g id=\"text_5\">\n      <!-- 8 -->\n      <g transform=\"translate(241.218035 239.238437)scale(0.1 -0.1)\">\n       <defs>\n        <path d=\"M 31.78125 34.625 \nQ 24.75 34.625 20.71875 30.859375 \nQ 16.703125 27.09375 16.703125 20.515625 \nQ 16.703125 13.921875 20.71875 10.15625 \nQ 24.75 6.390625 31.78125 6.390625 \nQ 38.8125 6.390625 42.859375 10.171875 \nQ 46.921875 13.96875 46.921875 20.515625 \nQ 46.921875 27.09375 42.890625 30.859375 \nQ 38.875 34.625 31.78125 34.625 \nz\nM 21.921875 38.8125 \nQ 15.578125 40.375 12.03125 44.71875 \nQ 8.5 49.078125 8.5 55.328125 \nQ 8.5 64.0625 14.71875 69.140625 \nQ 20.953125 74.21875 31.78125 74.21875 \nQ 42.671875 74.21875 48.875 69.140625 \nQ 55.078125 64.0625 55.078125 55.328125 \nQ 55.078125 49.078125 51.53125 44.71875 \nQ 48 40.375 41.703125 38.8125 \nQ 48.828125 37.15625 52.796875 32.3125 \nQ 56.78125 27.484375 56.78125 20.515625 \nQ 56.78125 9.90625 50.3125 4.234375 \nQ 43.84375 -1.421875 31.78125 -1.421875 \nQ 19.734375 -1.421875 13.25 4.234375 \nQ 6.78125 9.90625 6.78125 20.515625 \nQ 6.78125 27.484375 10.78125 32.3125 \nQ 14.796875 37.15625 21.921875 38.8125 \nz\nM 18.3125 54.390625 \nQ 18.3125 48.734375 21.84375 45.5625 \nQ 25.390625 42.390625 31.78125 42.390625 \nQ 38.140625 42.390625 41.71875 45.5625 \nQ 45.3125 48.734375 45.3125 54.390625 \nQ 45.3125 60.0625 41.71875 63.234375 \nQ 38.140625 66.40625 31.78125 66.40625 \nQ 25.390625 66.40625 21.84375 63.234375 \nQ 18.3125 60.0625 18.3125 54.390625 \nz\n\" id=\"DejaVuSans-56\"/>\n       </defs>\n       <use xlink:href=\"#DejaVuSans-56\"/>\n      </g>\n     </g>\n    </g>\n    <g id=\"xtick_6\">\n     <g id=\"line2d_6\">\n      <g>\n       <use style=\"stroke:#000000;stroke-width:0.8;\" x=\"288.689998\" xlink:href=\"#mdc6b89cc71\" y=\"224.64\"/>\n      </g>\n     </g>\n     <g id=\"text_6\">\n      <!-- 10 -->\n      <g transform=\"translate(282.327498 239.238437)scale(0.1 -0.1)\">\n       <defs>\n        <path d=\"M 12.40625 8.296875 \nL 28.515625 8.296875 \nL 28.515625 63.921875 \nL 10.984375 60.40625 \nL 10.984375 69.390625 \nL 28.421875 72.90625 \nL 38.28125 72.90625 \nL 38.28125 8.296875 \nL 54.390625 8.296875 \nL 54.390625 0 \nL 12.40625 0 \nz\n\" id=\"DejaVuSans-49\"/>\n       </defs>\n       <use xlink:href=\"#DejaVuSans-49\"/>\n       <use x=\"63.623047\" xlink:href=\"#DejaVuSans-48\"/>\n      </g>\n     </g>\n    </g>\n    <g id=\"xtick_7\">\n     <g id=\"line2d_7\">\n      <g>\n       <use style=\"stroke:#000000;stroke-width:0.8;\" x=\"332.980711\" xlink:href=\"#mdc6b89cc71\" y=\"224.64\"/>\n      </g>\n     </g>\n     <g id=\"text_7\">\n      <!-- 12 -->\n      <g transform=\"translate(326.618211 239.238437)scale(0.1 -0.1)\">\n       <use xlink:href=\"#DejaVuSans-49\"/>\n       <use x=\"63.623047\" xlink:href=\"#DejaVuSans-50\"/>\n      </g>\n     </g>\n    </g>\n    <g id=\"xtick_8\">\n     <g id=\"line2d_8\">\n      <g>\n       <use style=\"stroke:#000000;stroke-width:0.8;\" x=\"377.271424\" xlink:href=\"#mdc6b89cc71\" y=\"224.64\"/>\n      </g>\n     </g>\n     <g id=\"text_8\">\n      <!-- 14 -->\n      <g transform=\"translate(370.908924 239.238437)scale(0.1 -0.1)\">\n       <use xlink:href=\"#DejaVuSans-49\"/>\n       <use x=\"63.623047\" xlink:href=\"#DejaVuSans-52\"/>\n      </g>\n     </g>\n    </g>\n    <g id=\"text_9\">\n     <!-- matriculas -->\n     <g transform=\"translate(184.866406 252.916562)scale(0.1 -0.1)\">\n      <defs>\n       <path d=\"M 52 44.1875 \nQ 55.375 50.25 60.0625 53.125 \nQ 64.75 56 71.09375 56 \nQ 79.640625 56 84.28125 50.015625 \nQ 88.921875 44.046875 88.921875 33.015625 \nL 88.921875 0 \nL 79.890625 0 \nL 79.890625 32.71875 \nQ 79.890625 40.578125 77.09375 44.375 \nQ 74.3125 48.1875 68.609375 48.1875 \nQ 61.625 48.1875 57.5625 43.546875 \nQ 53.515625 38.921875 53.515625 30.90625 \nL 53.515625 0 \nL 44.484375 0 \nL 44.484375 32.71875 \nQ 44.484375 40.625 41.703125 44.40625 \nQ 38.921875 48.1875 33.109375 48.1875 \nQ 26.21875 48.1875 22.15625 43.53125 \nQ 18.109375 38.875 18.109375 30.90625 \nL 18.109375 0 \nL 9.078125 0 \nL 9.078125 54.6875 \nL 18.109375 54.6875 \nL 18.109375 46.1875 \nQ 21.1875 51.21875 25.484375 53.609375 \nQ 29.78125 56 35.6875 56 \nQ 41.65625 56 45.828125 52.96875 \nQ 50 49.953125 52 44.1875 \nz\n\" id=\"DejaVuSans-109\"/>\n       <path d=\"M 34.28125 27.484375 \nQ 23.390625 27.484375 19.1875 25 \nQ 14.984375 22.515625 14.984375 16.5 \nQ 14.984375 11.71875 18.140625 8.90625 \nQ 21.296875 6.109375 26.703125 6.109375 \nQ 34.1875 6.109375 38.703125 11.40625 \nQ 43.21875 16.703125 43.21875 25.484375 \nL 43.21875 27.484375 \nz\nM 52.203125 31.203125 \nL 52.203125 0 \nL 43.21875 0 \nL 43.21875 8.296875 \nQ 40.140625 3.328125 35.546875 0.953125 \nQ 30.953125 -1.421875 24.3125 -1.421875 \nQ 15.921875 -1.421875 10.953125 3.296875 \nQ 6 8.015625 6 15.921875 \nQ 6 25.140625 12.171875 29.828125 \nQ 18.359375 34.515625 30.609375 34.515625 \nL 43.21875 34.515625 \nL 43.21875 35.40625 \nQ 43.21875 41.609375 39.140625 45 \nQ 35.0625 48.390625 27.6875 48.390625 \nQ 23 48.390625 18.546875 47.265625 \nQ 14.109375 46.140625 10.015625 43.890625 \nL 10.015625 52.203125 \nQ 14.9375 54.109375 19.578125 55.046875 \nQ 24.21875 56 28.609375 56 \nQ 40.484375 56 46.34375 49.84375 \nQ 52.203125 43.703125 52.203125 31.203125 \nz\n\" id=\"DejaVuSans-97\"/>\n       <path d=\"M 18.3125 70.21875 \nL 18.3125 54.6875 \nL 36.8125 54.6875 \nL 36.8125 47.703125 \nL 18.3125 47.703125 \nL 18.3125 18.015625 \nQ 18.3125 11.328125 20.140625 9.421875 \nQ 21.96875 7.515625 27.59375 7.515625 \nL 36.8125 7.515625 \nL 36.8125 0 \nL 27.59375 0 \nQ 17.1875 0 13.234375 3.875 \nQ 9.28125 7.765625 9.28125 18.015625 \nL 9.28125 47.703125 \nL 2.6875 47.703125 \nL 2.6875 54.6875 \nL 9.28125 54.6875 \nL 9.28125 70.21875 \nz\n\" id=\"DejaVuSans-116\"/>\n       <path d=\"M 41.109375 46.296875 \nQ 39.59375 47.171875 37.8125 47.578125 \nQ 36.03125 48 33.890625 48 \nQ 26.265625 48 22.1875 43.046875 \nQ 18.109375 38.09375 18.109375 28.8125 \nL 18.109375 0 \nL 9.078125 0 \nL 9.078125 54.6875 \nL 18.109375 54.6875 \nL 18.109375 46.1875 \nQ 20.953125 51.171875 25.484375 53.578125 \nQ 30.03125 56 36.53125 56 \nQ 37.453125 56 38.578125 55.875 \nQ 39.703125 55.765625 41.0625 55.515625 \nz\n\" id=\"DejaVuSans-114\"/>\n       <path d=\"M 9.421875 54.6875 \nL 18.40625 54.6875 \nL 18.40625 0 \nL 9.421875 0 \nz\nM 9.421875 75.984375 \nL 18.40625 75.984375 \nL 18.40625 64.59375 \nL 9.421875 64.59375 \nz\n\" id=\"DejaVuSans-105\"/>\n       <path d=\"M 48.78125 52.59375 \nL 48.78125 44.1875 \nQ 44.96875 46.296875 41.140625 47.34375 \nQ 37.3125 48.390625 33.40625 48.390625 \nQ 24.65625 48.390625 19.8125 42.84375 \nQ 14.984375 37.3125 14.984375 27.296875 \nQ 14.984375 17.28125 19.8125 11.734375 \nQ 24.65625 6.203125 33.40625 6.203125 \nQ 37.3125 6.203125 41.140625 7.25 \nQ 44.96875 8.296875 48.78125 10.40625 \nL 48.78125 2.09375 \nQ 45.015625 0.34375 40.984375 -0.53125 \nQ 36.96875 -1.421875 32.421875 -1.421875 \nQ 20.0625 -1.421875 12.78125 6.34375 \nQ 5.515625 14.109375 5.515625 27.296875 \nQ 5.515625 40.671875 12.859375 48.328125 \nQ 20.21875 56 33.015625 56 \nQ 37.15625 56 41.109375 55.140625 \nQ 45.0625 54.296875 48.78125 52.59375 \nz\n\" id=\"DejaVuSans-99\"/>\n       <path d=\"M 8.5 21.578125 \nL 8.5 54.6875 \nL 17.484375 54.6875 \nL 17.484375 21.921875 \nQ 17.484375 14.15625 20.5 10.265625 \nQ 23.53125 6.390625 29.59375 6.390625 \nQ 36.859375 6.390625 41.078125 11.03125 \nQ 45.3125 15.671875 45.3125 23.6875 \nL 45.3125 54.6875 \nL 54.296875 54.6875 \nL 54.296875 0 \nL 45.3125 0 \nL 45.3125 8.40625 \nQ 42.046875 3.421875 37.71875 1 \nQ 33.40625 -1.421875 27.6875 -1.421875 \nQ 18.265625 -1.421875 13.375 4.4375 \nQ 8.5 10.296875 8.5 21.578125 \nz\nM 31.109375 56 \nz\n\" id=\"DejaVuSans-117\"/>\n       <path d=\"M 9.421875 75.984375 \nL 18.40625 75.984375 \nL 18.40625 0 \nL 9.421875 0 \nz\n\" id=\"DejaVuSans-108\"/>\n       <path d=\"M 44.28125 53.078125 \nL 44.28125 44.578125 \nQ 40.484375 46.53125 36.375 47.5 \nQ 32.28125 48.484375 27.875 48.484375 \nQ 21.1875 48.484375 17.84375 46.4375 \nQ 14.5 44.390625 14.5 40.28125 \nQ 14.5 37.15625 16.890625 35.375 \nQ 19.28125 33.59375 26.515625 31.984375 \nL 29.59375 31.296875 \nQ 39.15625 29.25 43.1875 25.515625 \nQ 47.21875 21.78125 47.21875 15.09375 \nQ 47.21875 7.46875 41.1875 3.015625 \nQ 35.15625 -1.421875 24.609375 -1.421875 \nQ 20.21875 -1.421875 15.453125 -0.5625 \nQ 10.6875 0.296875 5.421875 2 \nL 5.421875 11.28125 \nQ 10.40625 8.6875 15.234375 7.390625 \nQ 20.0625 6.109375 24.8125 6.109375 \nQ 31.15625 6.109375 34.5625 8.28125 \nQ 37.984375 10.453125 37.984375 14.40625 \nQ 37.984375 18.0625 35.515625 20.015625 \nQ 33.0625 21.96875 24.703125 23.78125 \nL 21.578125 24.515625 \nQ 13.234375 26.265625 9.515625 29.90625 \nQ 5.8125 33.546875 5.8125 39.890625 \nQ 5.8125 47.609375 11.28125 51.796875 \nQ 16.75 56 26.8125 56 \nQ 31.78125 56 36.171875 55.265625 \nQ 40.578125 54.546875 44.28125 53.078125 \nz\n\" id=\"DejaVuSans-115\"/>\n      </defs>\n      <use xlink:href=\"#DejaVuSans-109\"/>\n      <use x=\"97.412109\" xlink:href=\"#DejaVuSans-97\"/>\n      <use x=\"158.691406\" xlink:href=\"#DejaVuSans-116\"/>\n      <use x=\"197.900391\" xlink:href=\"#DejaVuSans-114\"/>\n      <use x=\"239.013672\" xlink:href=\"#DejaVuSans-105\"/>\n      <use x=\"266.796875\" xlink:href=\"#DejaVuSans-99\"/>\n      <use x=\"321.777344\" xlink:href=\"#DejaVuSans-117\"/>\n      <use x=\"385.15625\" xlink:href=\"#DejaVuSans-108\"/>\n      <use x=\"412.939453\" xlink:href=\"#DejaVuSans-97\"/>\n      <use x=\"474.21875\" xlink:href=\"#DejaVuSans-115\"/>\n     </g>\n    </g>\n   </g>\n   <g id=\"matplotlib.axis_2\">\n    <g id=\"ytick_1\">\n     <g id=\"line2d_9\">\n      <defs>\n       <path d=\"M 0 0 \nL -3.5 0 \n\" id=\"md52424643c\" style=\"stroke:#000000;stroke-width:0.8;\"/>\n      </defs>\n      <g>\n       <use style=\"stroke:#000000;stroke-width:0.8;\" x=\"43.78125\" xlink:href=\"#md52424643c\" y=\"224.64\"/>\n      </g>\n     </g>\n     <g id=\"text_10\">\n      <!-- 0.0 -->\n      <g transform=\"translate(20.878125 228.439219)scale(0.1 -0.1)\">\n       <defs>\n        <path d=\"M 10.6875 12.40625 \nL 21 12.40625 \nL 21 0 \nL 10.6875 0 \nz\n\" id=\"DejaVuSans-46\"/>\n       </defs>\n       <use xlink:href=\"#DejaVuSans-48\"/>\n       <use x=\"63.623047\" xlink:href=\"#DejaVuSans-46\"/>\n       <use x=\"95.410156\" xlink:href=\"#DejaVuSans-48\"/>\n      </g>\n     </g>\n    </g>\n    <g id=\"ytick_2\">\n     <g id=\"line2d_10\">\n      <g>\n       <use style=\"stroke:#000000;stroke-width:0.8;\" x=\"43.78125\" xlink:href=\"#md52424643c\" y=\"177.477622\"/>\n      </g>\n     </g>\n     <g id=\"text_11\">\n      <!-- 0.2 -->\n      <g transform=\"translate(20.878125 181.276841)scale(0.1 -0.1)\">\n       <use xlink:href=\"#DejaVuSans-48\"/>\n       <use x=\"63.623047\" xlink:href=\"#DejaVuSans-46\"/>\n       <use x=\"95.410156\" xlink:href=\"#DejaVuSans-50\"/>\n      </g>\n     </g>\n    </g>\n    <g id=\"ytick_3\">\n     <g id=\"line2d_11\">\n      <g>\n       <use style=\"stroke:#000000;stroke-width:0.8;\" x=\"43.78125\" xlink:href=\"#md52424643c\" y=\"130.315244\"/>\n      </g>\n     </g>\n     <g id=\"text_12\">\n      <!-- 0.4 -->\n      <g transform=\"translate(20.878125 134.114463)scale(0.1 -0.1)\">\n       <use xlink:href=\"#DejaVuSans-48\"/>\n       <use x=\"63.623047\" xlink:href=\"#DejaVuSans-46\"/>\n       <use x=\"95.410156\" xlink:href=\"#DejaVuSans-52\"/>\n      </g>\n     </g>\n    </g>\n    <g id=\"ytick_4\">\n     <g id=\"line2d_12\">\n      <g>\n       <use style=\"stroke:#000000;stroke-width:0.8;\" x=\"43.78125\" xlink:href=\"#md52424643c\" y=\"83.152866\"/>\n      </g>\n     </g>\n     <g id=\"text_13\">\n      <!-- 0.6 -->\n      <g transform=\"translate(20.878125 86.952085)scale(0.1 -0.1)\">\n       <use xlink:href=\"#DejaVuSans-48\"/>\n       <use x=\"63.623047\" xlink:href=\"#DejaVuSans-46\"/>\n       <use x=\"95.410156\" xlink:href=\"#DejaVuSans-54\"/>\n      </g>\n     </g>\n    </g>\n    <g id=\"ytick_5\">\n     <g id=\"line2d_13\">\n      <g>\n       <use style=\"stroke:#000000;stroke-width:0.8;\" x=\"43.78125\" xlink:href=\"#md52424643c\" y=\"35.990488\"/>\n      </g>\n     </g>\n     <g id=\"text_14\">\n      <!-- 0.8 -->\n      <g transform=\"translate(20.878125 39.789707)scale(0.1 -0.1)\">\n       <use xlink:href=\"#DejaVuSans-48\"/>\n       <use x=\"63.623047\" xlink:href=\"#DejaVuSans-46\"/>\n       <use x=\"95.410156\" xlink:href=\"#DejaVuSans-56\"/>\n      </g>\n     </g>\n    </g>\n    <g id=\"text_15\">\n     <!-- Density -->\n     <g transform=\"translate(14.798438 134.928594)rotate(-90)scale(0.1 -0.1)\">\n      <defs>\n       <path d=\"M 19.671875 64.796875 \nL 19.671875 8.109375 \nL 31.59375 8.109375 \nQ 46.6875 8.109375 53.6875 14.9375 \nQ 60.6875 21.78125 60.6875 36.53125 \nQ 60.6875 51.171875 53.6875 57.984375 \nQ 46.6875 64.796875 31.59375 64.796875 \nz\nM 9.8125 72.90625 \nL 30.078125 72.90625 \nQ 51.265625 72.90625 61.171875 64.09375 \nQ 71.09375 55.28125 71.09375 36.53125 \nQ 71.09375 17.671875 61.125 8.828125 \nQ 51.171875 0 30.078125 0 \nL 9.8125 0 \nz\n\" id=\"DejaVuSans-68\"/>\n       <path d=\"M 56.203125 29.59375 \nL 56.203125 25.203125 \nL 14.890625 25.203125 \nQ 15.484375 15.921875 20.484375 11.0625 \nQ 25.484375 6.203125 34.421875 6.203125 \nQ 39.59375 6.203125 44.453125 7.46875 \nQ 49.3125 8.734375 54.109375 11.28125 \nL 54.109375 2.78125 \nQ 49.265625 0.734375 44.1875 -0.34375 \nQ 39.109375 -1.421875 33.890625 -1.421875 \nQ 20.796875 -1.421875 13.15625 6.1875 \nQ 5.515625 13.8125 5.515625 26.8125 \nQ 5.515625 40.234375 12.765625 48.109375 \nQ 20.015625 56 32.328125 56 \nQ 43.359375 56 49.78125 48.890625 \nQ 56.203125 41.796875 56.203125 29.59375 \nz\nM 47.21875 32.234375 \nQ 47.125 39.59375 43.09375 43.984375 \nQ 39.0625 48.390625 32.421875 48.390625 \nQ 24.90625 48.390625 20.390625 44.140625 \nQ 15.875 39.890625 15.1875 32.171875 \nz\n\" id=\"DejaVuSans-101\"/>\n       <path d=\"M 54.890625 33.015625 \nL 54.890625 0 \nL 45.90625 0 \nL 45.90625 32.71875 \nQ 45.90625 40.484375 42.875 44.328125 \nQ 39.84375 48.1875 33.796875 48.1875 \nQ 26.515625 48.1875 22.3125 43.546875 \nQ 18.109375 38.921875 18.109375 30.90625 \nL 18.109375 0 \nL 9.078125 0 \nL 9.078125 54.6875 \nL 18.109375 54.6875 \nL 18.109375 46.1875 \nQ 21.34375 51.125 25.703125 53.5625 \nQ 30.078125 56 35.796875 56 \nQ 45.21875 56 50.046875 50.171875 \nQ 54.890625 44.34375 54.890625 33.015625 \nz\n\" id=\"DejaVuSans-110\"/>\n       <path d=\"M 32.171875 -5.078125 \nQ 28.375 -14.84375 24.75 -17.8125 \nQ 21.140625 -20.796875 15.09375 -20.796875 \nL 7.90625 -20.796875 \nL 7.90625 -13.28125 \nL 13.1875 -13.28125 \nQ 16.890625 -13.28125 18.9375 -11.515625 \nQ 21 -9.765625 23.484375 -3.21875 \nL 25.09375 0.875 \nL 2.984375 54.6875 \nL 12.5 54.6875 \nL 29.59375 11.921875 \nL 46.6875 54.6875 \nL 56.203125 54.6875 \nz\n\" id=\"DejaVuSans-121\"/>\n      </defs>\n      <use xlink:href=\"#DejaVuSans-68\"/>\n      <use x=\"77.001953\" xlink:href=\"#DejaVuSans-101\"/>\n      <use x=\"138.525391\" xlink:href=\"#DejaVuSans-110\"/>\n      <use x=\"201.904297\" xlink:href=\"#DejaVuSans-115\"/>\n      <use x=\"254.003906\" xlink:href=\"#DejaVuSans-105\"/>\n      <use x=\"281.787109\" xlink:href=\"#DejaVuSans-116\"/>\n      <use x=\"320.996094\" xlink:href=\"#DejaVuSans-121\"/>\n     </g>\n    </g>\n   </g>\n   <g id=\"line2d_14\">\n    <path clip-path=\"url(#p9e4455174b)\" d=\"M 58.999432 223.588715 \nL 60.528897 223.004904 \nL 62.058363 222.154205 \nL 63.587828 220.946071 \nL 65.117294 219.274436 \nL 66.646759 217.021855 \nL 68.176225 214.067082 \nL 69.70569 210.296373 \nL 71.235156 205.618235 \nL 72.764621 199.980561 \nL 74.294087 193.388273 \nL 75.823552 185.918865 \nL 78.882483 169.075564 \nL 81.941414 151.69478 \nL 83.47088 143.757076 \nL 85.000345 136.851359 \nL 86.529811 131.319415 \nL 88.059276 127.411267 \nL 89.588742 125.255101 \nL 91.118208 124.841115 \nL 92.647673 126.022541 \nL 94.177139 128.534387 \nL 95.706604 132.027562 \nL 101.824466 148.42244 \nL 103.353932 151.759777 \nL 104.883397 154.579498 \nL 106.412863 156.947365 \nL 109.471794 160.88541 \nL 112.530725 164.796537 \nL 114.06019 167.011823 \nL 117.119121 171.999565 \nL 120.178052 177.185659 \nL 121.707518 179.569313 \nL 123.236983 181.684041 \nL 124.766449 183.479204 \nL 126.295914 184.951657 \nL 127.82538 186.143736 \nL 130.884311 188.016469 \nL 133.943242 189.840651 \nL 135.472707 190.914865 \nL 138.531638 193.466011 \nL 143.120035 197.623044 \nL 144.6495 198.833943 \nL 146.178966 199.87417 \nL 147.708431 200.730536 \nL 149.237897 201.418301 \nL 152.296828 202.462072 \nL 155.355759 203.448894 \nL 158.41469 204.745203 \nL 161.473621 206.416006 \nL 166.062017 209.075877 \nL 169.120948 210.499674 \nL 172.17988 211.519447 \nL 179.827207 213.633119 \nL 182.886138 214.860044 \nL 192.062931 219.022225 \nL 195.121862 220.012529 \nL 198.180793 220.749296 \nL 202.76919 221.58782 \nL 211.945983 222.993814 \nL 216.534379 223.481107 \nL 221.122776 223.755797 \nL 227.240638 223.868458 \nL 234.887965 223.734985 \nL 244.064758 223.561209 \nL 250.18262 223.754704 \nL 265.477276 224.522016 \nL 274.654069 224.628134 \nL 305.243379 224.615825 \nL 314.420172 224.448186 \nL 322.067499 224.064456 \nL 329.714827 223.663558 \nL 334.303224 223.620176 \nL 340.421086 223.854721 \nL 352.65681 224.484198 \nL 361.833603 224.622229 \nL 363.363068 224.628574 \nL 363.363068 224.628574 \n\" style=\"fill:none;stroke:#1f77b4;stroke-linecap:square;stroke-width:1.5;\"/>\n   </g>\n   <g id=\"patch_24\">\n    <path d=\"M 43.78125 224.64 \nL 43.78125 7.2 \n\" style=\"fill:none;stroke:#000000;stroke-linecap:square;stroke-linejoin:miter;stroke-width:0.8;\"/>\n   </g>\n   <g id=\"patch_25\">\n    <path d=\"M 378.58125 224.64 \nL 378.58125 7.2 \n\" style=\"fill:none;stroke:#000000;stroke-linecap:square;stroke-linejoin:miter;stroke-width:0.8;\"/>\n   </g>\n   <g id=\"patch_26\">\n    <path d=\"M 43.78125 224.64 \nL 378.58125 224.64 \n\" style=\"fill:none;stroke:#000000;stroke-linecap:square;stroke-linejoin:miter;stroke-width:0.8;\"/>\n   </g>\n   <g id=\"patch_27\">\n    <path d=\"M 43.78125 7.2 \nL 378.58125 7.2 \n\" style=\"fill:none;stroke:#000000;stroke-linecap:square;stroke-linejoin:miter;stroke-width:0.8;\"/>\n   </g>\n  </g>\n </g>\n <defs>\n  <clipPath id=\"p9e4455174b\">\n   <rect height=\"217.44\" width=\"334.8\" x=\"43.78125\" y=\"7.2\"/>\n  </clipPath>\n </defs>\n</svg>\n",
      "image/png": "[encoded data removed]"
     },
     "metadata": {
      "needs_background": "light"
     }
    }
   ],
   "source": [
    "sns.distplot(nomes.matriculas)"
   ]
  },
  {
   "cell_type": "code",
   "execution_count": 34,
   "metadata": {},
   "outputs": [
    {
     "output_type": "execute_result",
     "data": {
      "text/plain": [
       "1     184\n",
       "2      97\n",
       "3      56\n",
       "4      34\n",
       "5      19\n",
       "6       5\n",
       "12      2\n",
       "8       2\n",
       "7       1\n",
       "Name: matriculas, dtype: int64"
      ]
     },
     "metadata": {},
     "execution_count": 34
    }
   ],
   "source": [
    "nomes.matriculas.value_counts()"
   ]
  },
  {
   "cell_type": "code",
   "execution_count": 35,
   "metadata": {},
   "outputs": [
    {
     "output_type": "execute_result",
     "data": {
      "text/plain": [
       "          nome  id_aluno                 dominio  \\\n",
       "103     MAICON       295     @servicodoemail.com   \n",
       "44    RAIMUNDA       259     @servicodoemail.com   \n",
       "50     RAFAELA        27  @dominiodoemail.com.br   \n",
       "171  TERESINHA        45  @dominiodoemail.com.br   \n",
       "41     CLAUDIO       204     @servicodoemail.com   \n",
       "\n",
       "                               email  matriculas  \n",
       "103        maicon@servicodoemail.com           4  \n",
       "44       raimunda@servicodoemail.com           5  \n",
       "50     rafaela@dominiodoemail.com.br           3  \n",
       "171  teresinha@dominiodoemail.com.br           1  \n",
       "41        claudio@servicodoemail.com           1  "
      ],
      "text/html": "<div>\n<style scoped>\n    .dataframe tbody tr th:only-of-type {\n        vertical-align: middle;\n    }\n\n    .dataframe tbody tr th {\n        vertical-align: top;\n    }\n\n    .dataframe thead th {\n        text-align: right;\n    }\n</style>\n<table border=\"1\" class=\"dataframe\">\n  <thead>\n    <tr style=\"text-align: right;\">\n      <th></th>\n      <th>nome</th>\n      <th>id_aluno</th>\n      <th>dominio</th>\n      <th>email</th>\n      <th>matriculas</th>\n    </tr>\n  </thead>\n  <tbody>\n    <tr>\n      <th>103</th>\n      <td>MAICON</td>\n      <td>295</td>\n      <td>@servicodoemail.com</td>\n      <td>maicon@servicodoemail.com</td>\n      <td>4</td>\n    </tr>\n    <tr>\n      <th>44</th>\n      <td>RAIMUNDA</td>\n      <td>259</td>\n      <td>@servicodoemail.com</td>\n      <td>raimunda@servicodoemail.com</td>\n      <td>5</td>\n    </tr>\n    <tr>\n      <th>50</th>\n      <td>RAFAELA</td>\n      <td>27</td>\n      <td>@dominiodoemail.com.br</td>\n      <td>rafaela@dominiodoemail.com.br</td>\n      <td>3</td>\n    </tr>\n    <tr>\n      <th>171</th>\n      <td>TERESINHA</td>\n      <td>45</td>\n      <td>@dominiodoemail.com.br</td>\n      <td>teresinha@dominiodoemail.com.br</td>\n      <td>1</td>\n    </tr>\n    <tr>\n      <th>41</th>\n      <td>CLAUDIO</td>\n      <td>204</td>\n      <td>@servicodoemail.com</td>\n      <td>claudio@servicodoemail.com</td>\n      <td>1</td>\n    </tr>\n  </tbody>\n</table>\n</div>"
     },
     "metadata": {},
     "execution_count": 35
    }
   ],
   "source": [
    "nomes.sample(5)"
   ]
  },
  {
   "source": [
    "# Selecionando Cursos "
   ],
   "cell_type": "markdown",
   "metadata": {}
  },
  {
   "cell_type": "code",
   "execution_count": 36,
   "metadata": {},
   "outputs": [
    {
     "output_type": "execute_result",
     "data": {
      "text/plain": [
       "          nome  id_aluno                 dominio  \\\n",
       "97     BARBARA       201     @servicodoemail.com   \n",
       "170  ALEXANDRO       341     @servicodoemail.com   \n",
       "197    MICHAEL       323  @dominiodoemail.com.br   \n",
       "\n",
       "                             email  matriculas  \n",
       "97      barbara@servicodoemail.com           2  \n",
       "170   alexandro@servicodoemail.com           4  \n",
       "197  michael@dominiodoemail.com.br           5  "
      ],
      "text/html": "<div>\n<style scoped>\n    .dataframe tbody tr th:only-of-type {\n        vertical-align: middle;\n    }\n\n    .dataframe tbody tr th {\n        vertical-align: top;\n    }\n\n    .dataframe thead th {\n        text-align: right;\n    }\n</style>\n<table border=\"1\" class=\"dataframe\">\n  <thead>\n    <tr style=\"text-align: right;\">\n      <th></th>\n      <th>nome</th>\n      <th>id_aluno</th>\n      <th>dominio</th>\n      <th>email</th>\n      <th>matriculas</th>\n    </tr>\n  </thead>\n  <tbody>\n    <tr>\n      <th>97</th>\n      <td>BARBARA</td>\n      <td>201</td>\n      <td>@servicodoemail.com</td>\n      <td>barbara@servicodoemail.com</td>\n      <td>2</td>\n    </tr>\n    <tr>\n      <th>170</th>\n      <td>ALEXANDRO</td>\n      <td>341</td>\n      <td>@servicodoemail.com</td>\n      <td>alexandro@servicodoemail.com</td>\n      <td>4</td>\n    </tr>\n    <tr>\n      <th>197</th>\n      <td>MICHAEL</td>\n      <td>323</td>\n      <td>@dominiodoemail.com.br</td>\n      <td>michael@dominiodoemail.com.br</td>\n      <td>5</td>\n    </tr>\n  </tbody>\n</table>\n</div>"
     },
     "metadata": {},
     "execution_count": 36
    }
   ],
   "source": [
    "nomes.sample(3)"
   ]
  },
  {
   "cell_type": "code",
   "execution_count": 37,
   "metadata": {},
   "outputs": [],
   "source": [
    "total_matriculas = []\n",
    "x = np.random.rand(20) \n",
    "prob = x / sum(x)"
   ]
  },
  {
   "cell_type": "code",
   "execution_count": 38,
   "metadata": {},
   "outputs": [],
   "source": [
    "for index, row in nomes.iterrows():\n",
    "    id = row.id_aluno\n",
    "    matriculas = row.matriculas\n",
    "    for i in range(matriculas):\n",
    "        mat = [id,np.random.choice(cursos.index, p = prob)]\n",
    "        total_matriculas.append(mat)\n",
    "\n",
    "matriculas = pd.DataFrame(total_matriculas, columns =['id_aluno','id_curso'] )"
   ]
  },
  {
   "cell_type": "code",
   "execution_count": 39,
   "metadata": {},
   "outputs": [
    {
     "output_type": "execute_result",
     "data": {
      "text/plain": [
       "   id_aluno  id_curso\n",
       "0       235         6\n",
       "1        43        16\n",
       "2       304         6\n",
       "3       304        11\n",
       "4       304        12"
      ],
      "text/html": "<div>\n<style scoped>\n    .dataframe tbody tr th:only-of-type {\n        vertical-align: middle;\n    }\n\n    .dataframe tbody tr th {\n        vertical-align: top;\n    }\n\n    .dataframe thead th {\n        text-align: right;\n    }\n</style>\n<table border=\"1\" class=\"dataframe\">\n  <thead>\n    <tr style=\"text-align: right;\">\n      <th></th>\n      <th>id_aluno</th>\n      <th>id_curso</th>\n    </tr>\n  </thead>\n  <tbody>\n    <tr>\n      <th>0</th>\n      <td>235</td>\n      <td>6</td>\n    </tr>\n    <tr>\n      <th>1</th>\n      <td>43</td>\n      <td>16</td>\n    </tr>\n    <tr>\n      <th>2</th>\n      <td>304</td>\n      <td>6</td>\n    </tr>\n    <tr>\n      <th>3</th>\n      <td>304</td>\n      <td>11</td>\n    </tr>\n    <tr>\n      <th>4</th>\n      <td>304</td>\n      <td>12</td>\n    </tr>\n  </tbody>\n</table>\n</div>"
     },
     "metadata": {},
     "execution_count": 39
    }
   ],
   "source": [
    "matriculas.head()"
   ]
  },
  {
   "cell_type": "code",
   "execution_count": 40,
   "metadata": {},
   "outputs": [],
   "source": [
    "matriculas_por_curso = matriculas.groupby('id_curso').count().join(cursos['nome_do_curso']).rename(columns={'id_aluno':'quantidade_de_alunos' })"
   ]
  },
  {
   "cell_type": "code",
   "execution_count": 41,
   "metadata": {},
   "outputs": [
    {
     "output_type": "execute_result",
     "data": {
      "text/plain": [
       "         nome  id_aluno                 dominio  \\\n",
       "142      HUGO       378     @servicodoemail.com   \n",
       "150  EDMILSON       326  @dominiodoemail.com.br   \n",
       "161    DAMIAO       349     @servicodoemail.com   \n",
       "\n",
       "                              email  matriculas  \n",
       "142         hugo@servicodoemail.com           1  \n",
       "150  edmilson@dominiodoemail.com.br           1  \n",
       "161       damiao@servicodoemail.com           4  "
      ],
      "text/html": "<div>\n<style scoped>\n    .dataframe tbody tr th:only-of-type {\n        vertical-align: middle;\n    }\n\n    .dataframe tbody tr th {\n        vertical-align: top;\n    }\n\n    .dataframe thead th {\n        text-align: right;\n    }\n</style>\n<table border=\"1\" class=\"dataframe\">\n  <thead>\n    <tr style=\"text-align: right;\">\n      <th></th>\n      <th>nome</th>\n      <th>id_aluno</th>\n      <th>dominio</th>\n      <th>email</th>\n      <th>matriculas</th>\n    </tr>\n  </thead>\n  <tbody>\n    <tr>\n      <th>142</th>\n      <td>HUGO</td>\n      <td>378</td>\n      <td>@servicodoemail.com</td>\n      <td>hugo@servicodoemail.com</td>\n      <td>1</td>\n    </tr>\n    <tr>\n      <th>150</th>\n      <td>EDMILSON</td>\n      <td>326</td>\n      <td>@dominiodoemail.com.br</td>\n      <td>edmilson@dominiodoemail.com.br</td>\n      <td>1</td>\n    </tr>\n    <tr>\n      <th>161</th>\n      <td>DAMIAO</td>\n      <td>349</td>\n      <td>@servicodoemail.com</td>\n      <td>damiao@servicodoemail.com</td>\n      <td>4</td>\n    </tr>\n  </tbody>\n</table>\n</div>"
     },
     "metadata": {},
     "execution_count": 41
    }
   ],
   "source": [
    "nomes.sample(3)"
   ]
  },
  {
   "cell_type": "code",
   "execution_count": 42,
   "metadata": {},
   "outputs": [
    {
     "output_type": "execute_result",
     "data": {
      "text/plain": [
       "            nome_do_curso\n",
       "id                       \n",
       "1   Lógica de programação\n",
       "2           Java para Web\n",
       "3             C# para Web\n",
       "4           Ruby on Rails\n",
       "5        Cursos de Python"
      ],
      "text/html": "<div>\n<style scoped>\n    .dataframe tbody tr th:only-of-type {\n        vertical-align: middle;\n    }\n\n    .dataframe tbody tr th {\n        vertical-align: top;\n    }\n\n    .dataframe thead th {\n        text-align: right;\n    }\n</style>\n<table border=\"1\" class=\"dataframe\">\n  <thead>\n    <tr style=\"text-align: right;\">\n      <th></th>\n      <th>nome_do_curso</th>\n    </tr>\n    <tr>\n      <th>id</th>\n      <th></th>\n    </tr>\n  </thead>\n  <tbody>\n    <tr>\n      <th>1</th>\n      <td>Lógica de programação</td>\n    </tr>\n    <tr>\n      <th>2</th>\n      <td>Java para Web</td>\n    </tr>\n    <tr>\n      <th>3</th>\n      <td>C# para Web</td>\n    </tr>\n    <tr>\n      <th>4</th>\n      <td>Ruby on Rails</td>\n    </tr>\n    <tr>\n      <th>5</th>\n      <td>Cursos de Python</td>\n    </tr>\n  </tbody>\n</table>\n</div>"
     },
     "metadata": {},
     "execution_count": 42
    }
   ],
   "source": [
    "cursos.head()"
   ]
  },
  {
   "cell_type": "code",
   "execution_count": 43,
   "metadata": {},
   "outputs": [
    {
     "output_type": "execute_result",
     "data": {
      "text/plain": [
       "   id_aluno  id_curso\n",
       "0       235         6\n",
       "1        43        16\n",
       "2       304         6\n",
       "3       304        11\n",
       "4       304        12"
      ],
      "text/html": "<div>\n<style scoped>\n    .dataframe tbody tr th:only-of-type {\n        vertical-align: middle;\n    }\n\n    .dataframe tbody tr th {\n        vertical-align: top;\n    }\n\n    .dataframe thead th {\n        text-align: right;\n    }\n</style>\n<table border=\"1\" class=\"dataframe\">\n  <thead>\n    <tr style=\"text-align: right;\">\n      <th></th>\n      <th>id_aluno</th>\n      <th>id_curso</th>\n    </tr>\n  </thead>\n  <tbody>\n    <tr>\n      <th>0</th>\n      <td>235</td>\n      <td>6</td>\n    </tr>\n    <tr>\n      <th>1</th>\n      <td>43</td>\n      <td>16</td>\n    </tr>\n    <tr>\n      <th>2</th>\n      <td>304</td>\n      <td>6</td>\n    </tr>\n    <tr>\n      <th>3</th>\n      <td>304</td>\n      <td>11</td>\n    </tr>\n    <tr>\n      <th>4</th>\n      <td>304</td>\n      <td>12</td>\n    </tr>\n  </tbody>\n</table>\n</div>"
     },
     "metadata": {},
     "execution_count": 43
    }
   ],
   "source": [
    "matriculas.head()"
   ]
  },
  {
   "cell_type": "code",
   "execution_count": 44,
   "metadata": {},
   "outputs": [
    {
     "output_type": "execute_result",
     "data": {
      "text/plain": [
       "          quantidade_de_alunos                        nome_do_curso\n",
       "id_curso                                                           \n",
       "1                           58                Lógica de programação\n",
       "2                           31                        Java para Web\n",
       "3                           53                          C# para Web\n",
       "4                            4                        Ruby on Rails\n",
       "5                           12                     Cursos de Python\n",
       "6                           74                        PHP com MySql\n",
       "7                           32                        .NET para web\n",
       "8                           18           Novas integrações com Java\n",
       "9                           59                         TDD com Java\n",
       "10                          39                  Código limpo com C#\n",
       "11                          61  Preparatório para certificação Java\n",
       "12                          65                      Hardware básico\n",
       "13                          14                Persistência com .NET\n",
       "14                          27                  Desenvolvendo jogos\n",
       "15                          46                     Análise de dados\n",
       "16                          43                   Estatística básica\n",
       "17                          56                  Internet das coisas\n",
       "18                          53                Programação funcional\n",
       "19                          74                Boas práticas em Java\n",
       "20                          35          Orientação objetos com Java"
      ],
      "text/html": "<div>\n<style scoped>\n    .dataframe tbody tr th:only-of-type {\n        vertical-align: middle;\n    }\n\n    .dataframe tbody tr th {\n        vertical-align: top;\n    }\n\n    .dataframe thead th {\n        text-align: right;\n    }\n</style>\n<table border=\"1\" class=\"dataframe\">\n  <thead>\n    <tr style=\"text-align: right;\">\n      <th></th>\n      <th>quantidade_de_alunos</th>\n      <th>nome_do_curso</th>\n    </tr>\n    <tr>\n      <th>id_curso</th>\n      <th></th>\n      <th></th>\n    </tr>\n  </thead>\n  <tbody>\n    <tr>\n      <th>1</th>\n      <td>58</td>\n      <td>Lógica de programação</td>\n    </tr>\n    <tr>\n      <th>2</th>\n      <td>31</td>\n      <td>Java para Web</td>\n    </tr>\n    <tr>\n      <th>3</th>\n      <td>53</td>\n      <td>C# para Web</td>\n    </tr>\n    <tr>\n      <th>4</th>\n      <td>4</td>\n      <td>Ruby on Rails</td>\n    </tr>\n    <tr>\n      <th>5</th>\n      <td>12</td>\n      <td>Cursos de Python</td>\n    </tr>\n    <tr>\n      <th>6</th>\n      <td>74</td>\n      <td>PHP com MySql</td>\n    </tr>\n    <tr>\n      <th>7</th>\n      <td>32</td>\n      <td>.NET para web</td>\n    </tr>\n    <tr>\n      <th>8</th>\n      <td>18</td>\n      <td>Novas integrações com Java</td>\n    </tr>\n    <tr>\n      <th>9</th>\n      <td>59</td>\n      <td>TDD com Java</td>\n    </tr>\n    <tr>\n      <th>10</th>\n      <td>39</td>\n      <td>Código limpo com C#</td>\n    </tr>\n    <tr>\n      <th>11</th>\n      <td>61</td>\n      <td>Preparatório para certificação Java</td>\n    </tr>\n    <tr>\n      <th>12</th>\n      <td>65</td>\n      <td>Hardware básico</td>\n    </tr>\n    <tr>\n      <th>13</th>\n      <td>14</td>\n      <td>Persistência com .NET</td>\n    </tr>\n    <tr>\n      <th>14</th>\n      <td>27</td>\n      <td>Desenvolvendo jogos</td>\n    </tr>\n    <tr>\n      <th>15</th>\n      <td>46</td>\n      <td>Análise de dados</td>\n    </tr>\n    <tr>\n      <th>16</th>\n      <td>43</td>\n      <td>Estatística básica</td>\n    </tr>\n    <tr>\n      <th>17</th>\n      <td>56</td>\n      <td>Internet das coisas</td>\n    </tr>\n    <tr>\n      <th>18</th>\n      <td>53</td>\n      <td>Programação funcional</td>\n    </tr>\n    <tr>\n      <th>19</th>\n      <td>74</td>\n      <td>Boas práticas em Java</td>\n    </tr>\n    <tr>\n      <th>20</th>\n      <td>35</td>\n      <td>Orientação objetos com Java</td>\n    </tr>\n  </tbody>\n</table>\n</div>"
     },
     "metadata": {},
     "execution_count": 44
    }
   ],
   "source": [
    "matriculas_por_curso"
   ]
  },
  {
   "source": [
    "# Saída em diferentes formatos"
   ],
   "cell_type": "markdown",
   "metadata": {}
  },
  {
   "cell_type": "code",
   "execution_count": 45,
   "metadata": {},
   "outputs": [
    {
     "output_type": "execute_result",
     "data": {
      "text/plain": [
       "          quantidade_de_alunos          nome_do_curso\n",
       "id_curso                                             \n",
       "1                           58  Lógica de programação\n",
       "2                           31          Java para Web\n",
       "3                           53            C# para Web"
      ],
      "text/html": "<div>\n<style scoped>\n    .dataframe tbody tr th:only-of-type {\n        vertical-align: middle;\n    }\n\n    .dataframe tbody tr th {\n        vertical-align: top;\n    }\n\n    .dataframe thead th {\n        text-align: right;\n    }\n</style>\n<table border=\"1\" class=\"dataframe\">\n  <thead>\n    <tr style=\"text-align: right;\">\n      <th></th>\n      <th>quantidade_de_alunos</th>\n      <th>nome_do_curso</th>\n    </tr>\n    <tr>\n      <th>id_curso</th>\n      <th></th>\n      <th></th>\n    </tr>\n  </thead>\n  <tbody>\n    <tr>\n      <th>1</th>\n      <td>58</td>\n      <td>Lógica de programação</td>\n    </tr>\n    <tr>\n      <th>2</th>\n      <td>31</td>\n      <td>Java para Web</td>\n    </tr>\n    <tr>\n      <th>3</th>\n      <td>53</td>\n      <td>C# para Web</td>\n    </tr>\n  </tbody>\n</table>\n</div>"
     },
     "metadata": {},
     "execution_count": 45
    }
   ],
   "source": [
    "matriculas_por_curso.head(3)"
   ]
  },
  {
   "cell_type": "code",
   "execution_count": 46,
   "metadata": {},
   "outputs": [],
   "source": [
    "matriculas_por_curso.to_csv('matriculas_por_curso.csv',index = False)"
   ]
  },
  {
   "cell_type": "code",
   "execution_count": 47,
   "metadata": {},
   "outputs": [
    {
     "output_type": "execute_result",
     "data": {
      "text/plain": [
       "   quantidade_de_alunos          nome_do_curso\n",
       "0                    58  Lógica de programação\n",
       "1                    31          Java para Web\n",
       "2                    53            C# para Web"
      ],
      "text/html": "<div>\n<style scoped>\n    .dataframe tbody tr th:only-of-type {\n        vertical-align: middle;\n    }\n\n    .dataframe tbody tr th {\n        vertical-align: top;\n    }\n\n    .dataframe thead th {\n        text-align: right;\n    }\n</style>\n<table border=\"1\" class=\"dataframe\">\n  <thead>\n    <tr style=\"text-align: right;\">\n      <th></th>\n      <th>quantidade_de_alunos</th>\n      <th>nome_do_curso</th>\n    </tr>\n  </thead>\n  <tbody>\n    <tr>\n      <th>0</th>\n      <td>58</td>\n      <td>Lógica de programação</td>\n    </tr>\n    <tr>\n      <th>1</th>\n      <td>31</td>\n      <td>Java para Web</td>\n    </tr>\n    <tr>\n      <th>2</th>\n      <td>53</td>\n      <td>C# para Web</td>\n    </tr>\n  </tbody>\n</table>\n</div>"
     },
     "metadata": {},
     "execution_count": 47
    }
   ],
   "source": [
    "pd.read_csv('matriculas_por_curso.csv').head(3)"
   ]
  },
  {
   "cell_type": "code",
   "execution_count": 48,
   "metadata": {},
   "outputs": [],
   "source": [
    "matriculas_json = matriculas_por_curso.to_json()"
   ]
  },
  {
   "cell_type": "code",
   "execution_count": 49,
   "metadata": {},
   "outputs": [
    {
     "output_type": "execute_result",
     "data": {
      "text/plain": [
       "'{\"quantidade_de_alunos\":{\"1\":58,\"2\":31,\"3\":53,\"4\":4,\"5\":12,\"6\":74,\"7\":32,\"8\":18,\"9\":59,\"10\":39,\"11\":61,\"12\":65,\"13\":14,\"14\":27,\"15\":46,\"16\":43,\"17\":56,\"18\":53,\"19\":74,\"20\":35},\"nome_do_curso\":{\"1\":\"L\\\\u00f3gica de programa\\\\u00e7\\\\u00e3o\",\"2\":\"Java para Web\",\"3\":\"C# para Web\",\"4\":\"Ruby on Rails\",\"5\":\"Cursos de Python\",\"6\":\"PHP com MySql\",\"7\":\".NET para web\",\"8\":\"Novas integra\\\\u00e7\\\\u00f5es com Java\",\"9\":\"TDD com Java\",\"10\":\"C\\\\u00f3digo limpo com C#\",\"11\":\"Preparat\\\\u00f3rio para certifica\\\\u00e7\\\\u00e3o Java\",\"12\":\"Hardware b\\\\u00e1sico\",\"13\":\"Persist\\\\u00eancia com .NET\",\"14\":\"Desenvolvendo jogos\",\"15\":\"An\\\\u00e1lise de dados\",\"16\":\"Estat\\\\u00edstica b\\\\u00e1sica\",\"17\":\"Internet das coisas\",\"18\":\"Programa\\\\u00e7\\\\u00e3o funcional\",\"19\":\"Boas pr\\\\u00e1ticas em Java\",\"20\":\"Orienta\\\\u00e7\\\\u00e3o objetos com Java\"}}'"
      ]
     },
     "metadata": {},
     "execution_count": 49
    }
   ],
   "source": [
    "matriculas_json "
   ]
  },
  {
   "cell_type": "code",
   "execution_count": 50,
   "metadata": {},
   "outputs": [],
   "source": [
    "matriculas_html = matriculas_por_curso.to_html()"
   ]
  },
  {
   "cell_type": "code",
   "execution_count": 51,
   "metadata": {},
   "outputs": [
    {
     "output_type": "stream",
     "name": "stdout",
     "text": [
      "<table border=\"1\" class=\"dataframe\">\n  <thead>\n    <tr style=\"text-align: right;\">\n      <th></th>\n      <th>quantidade_de_alunos</th>\n      <th>nome_do_curso</th>\n    </tr>\n    <tr>\n      <th>id_curso</th>\n      <th></th>\n      <th></th>\n    </tr>\n  </thead>\n  <tbody>\n    <tr>\n      <th>1</th>\n      <td>58</td>\n      <td>Lógica de programação</td>\n    </tr>\n    <tr>\n      <th>2</th>\n      <td>31</td>\n      <td>Java para Web</td>\n    </tr>\n    <tr>\n      <th>3</th>\n      <td>53</td>\n      <td>C# para Web</td>\n    </tr>\n    <tr>\n      <th>4</th>\n      <td>4</td>\n      <td>Ruby on Rails</td>\n    </tr>\n    <tr>\n      <th>5</th>\n      <td>12</td>\n      <td>Cursos de Python</td>\n    </tr>\n    <tr>\n      <th>6</th>\n      <td>74</td>\n      <td>PHP com MySql</td>\n    </tr>\n    <tr>\n      <th>7</th>\n      <td>32</td>\n      <td>.NET para web</td>\n    </tr>\n    <tr>\n      <th>8</th>\n      <td>18</td>\n      <td>Novas integrações com Java</td>\n    </tr>\n    <tr>\n      <th>9</th>\n      <td>59</td>\n      <td>TDD com Java</td>\n    </tr>\n    <tr>\n      <th>10</th>\n      <td>39</td>\n      <td>Código limpo com C#</td>\n    </tr>\n    <tr>\n      <th>11</th>\n      <td>61</td>\n      <td>Preparatório para certificação Java</td>\n    </tr>\n    <tr>\n      <th>12</th>\n      <td>65</td>\n      <td>Hardware básico</td>\n    </tr>\n    <tr>\n      <th>13</th>\n      <td>14</td>\n      <td>Persistência com .NET</td>\n    </tr>\n    <tr>\n      <th>14</th>\n      <td>27</td>\n      <td>Desenvolvendo jogos</td>\n    </tr>\n    <tr>\n      <th>15</th>\n      <td>46</td>\n      <td>Análise de dados</td>\n    </tr>\n    <tr>\n      <th>16</th>\n      <td>43</td>\n      <td>Estatística básica</td>\n    </tr>\n    <tr>\n      <th>17</th>\n      <td>56</td>\n      <td>Internet das coisas</td>\n    </tr>\n    <tr>\n      <th>18</th>\n      <td>53</td>\n      <td>Programação funcional</td>\n    </tr>\n    <tr>\n      <th>19</th>\n      <td>74</td>\n      <td>Boas práticas em Java</td>\n    </tr>\n    <tr>\n      <th>20</th>\n      <td>35</td>\n      <td>Orientação objetos com Java</td>\n    </tr>\n  </tbody>\n</table>\n"
     ]
    }
   ],
   "source": [
    "print(matriculas_html)"
   ]
  },
  {
   "source": [
    "# Criando o banco SQL"
   ],
   "cell_type": "markdown",
   "metadata": {}
  },
  {
   "cell_type": "code",
   "execution_count": 52,
   "metadata": {},
   "outputs": [],
   "source": [
    "from sqlalchemy import create_engine, MetaData, Table "
   ]
  },
  {
   "cell_type": "code",
   "execution_count": 53,
   "metadata": {},
   "outputs": [],
   "source": [
    "engine = create_engine('sqlite:///:memory:')"
   ]
  },
  {
   "cell_type": "code",
   "execution_count": 54,
   "metadata": {},
   "outputs": [
    {
     "output_type": "execute_result",
     "data": {
      "text/plain": [
       "Engine(sqlite:///:memory:)"
      ]
     },
     "metadata": {},
     "execution_count": 54
    }
   ],
   "source": [
    "engine"
   ]
  },
  {
   "cell_type": "code",
   "execution_count": 55,
   "metadata": {},
   "outputs": [
    {
     "output_type": "execute_result",
     "data": {
      "text/plain": [
       "sqlalchemy.engine.base.Engine"
      ]
     },
     "metadata": {},
     "execution_count": 55
    }
   ],
   "source": [
    "type(engine)"
   ]
  },
  {
   "cell_type": "code",
   "execution_count": 56,
   "metadata": {},
   "outputs": [
    {
     "output_type": "execute_result",
     "data": {
      "text/plain": [
       "          quantidade_de_alunos          nome_do_curso\n",
       "id_curso                                             \n",
       "1                           58  Lógica de programação\n",
       "2                           31          Java para Web\n",
       "3                           53            C# para Web"
      ],
      "text/html": "<div>\n<style scoped>\n    .dataframe tbody tr th:only-of-type {\n        vertical-align: middle;\n    }\n\n    .dataframe tbody tr th {\n        vertical-align: top;\n    }\n\n    .dataframe thead th {\n        text-align: right;\n    }\n</style>\n<table border=\"1\" class=\"dataframe\">\n  <thead>\n    <tr style=\"text-align: right;\">\n      <th></th>\n      <th>quantidade_de_alunos</th>\n      <th>nome_do_curso</th>\n    </tr>\n    <tr>\n      <th>id_curso</th>\n      <th></th>\n      <th></th>\n    </tr>\n  </thead>\n  <tbody>\n    <tr>\n      <th>1</th>\n      <td>58</td>\n      <td>Lógica de programação</td>\n    </tr>\n    <tr>\n      <th>2</th>\n      <td>31</td>\n      <td>Java para Web</td>\n    </tr>\n    <tr>\n      <th>3</th>\n      <td>53</td>\n      <td>C# para Web</td>\n    </tr>\n  </tbody>\n</table>\n</div>"
     },
     "metadata": {},
     "execution_count": 56
    }
   ],
   "source": [
    "matriculas_por_curso.head(3)"
   ]
  },
  {
   "cell_type": "code",
   "execution_count": 57,
   "metadata": {},
   "outputs": [],
   "source": [
    "matriculas_por_curso.to_sql('matriculas',engine)"
   ]
  },
  {
   "cell_type": "code",
   "execution_count": 58,
   "metadata": {},
   "outputs": [
    {
     "output_type": "stream",
     "name": "stdout",
     "text": [
      "['matriculas']\n"
     ]
    }
   ],
   "source": [
    "print(engine.table_names())"
   ]
  },
  {
   "source": [
    "## Buscando no banco de dados local"
   ],
   "cell_type": "markdown",
   "metadata": {}
  },
  {
   "cell_type": "code",
   "execution_count": 59,
   "metadata": {},
   "outputs": [],
   "source": [
    "query = 'Select * from matriculas where quantidade_de_alunos < 20'  "
   ]
  },
  {
   "cell_type": "code",
   "execution_count": 60,
   "metadata": {},
   "outputs": [
    {
     "output_type": "execute_result",
     "data": {
      "text/plain": [
       "   id_curso  quantidade_de_alunos               nome_do_curso\n",
       "0         4                     4               Ruby on Rails\n",
       "1         5                    12            Cursos de Python\n",
       "2         8                    18  Novas integrações com Java\n",
       "3        13                    14       Persistência com .NET"
      ],
      "text/html": "<div>\n<style scoped>\n    .dataframe tbody tr th:only-of-type {\n        vertical-align: middle;\n    }\n\n    .dataframe tbody tr th {\n        vertical-align: top;\n    }\n\n    .dataframe thead th {\n        text-align: right;\n    }\n</style>\n<table border=\"1\" class=\"dataframe\">\n  <thead>\n    <tr style=\"text-align: right;\">\n      <th></th>\n      <th>id_curso</th>\n      <th>quantidade_de_alunos</th>\n      <th>nome_do_curso</th>\n    </tr>\n  </thead>\n  <tbody>\n    <tr>\n      <th>0</th>\n      <td>4</td>\n      <td>4</td>\n      <td>Ruby on Rails</td>\n    </tr>\n    <tr>\n      <th>1</th>\n      <td>5</td>\n      <td>12</td>\n      <td>Cursos de Python</td>\n    </tr>\n    <tr>\n      <th>2</th>\n      <td>8</td>\n      <td>18</td>\n      <td>Novas integrações com Java</td>\n    </tr>\n    <tr>\n      <th>3</th>\n      <td>13</td>\n      <td>14</td>\n      <td>Persistência com .NET</td>\n    </tr>\n  </tbody>\n</table>\n</div>"
     },
     "metadata": {},
     "execution_count": 60
    }
   ],
   "source": [
    "pd.read_sql(query,engine)"
   ]
  },
  {
   "cell_type": "code",
   "execution_count": 61,
   "metadata": {},
   "outputs": [
    {
     "output_type": "execute_result",
     "data": {
      "text/plain": [
       "                          nome_do_curso  quantidade_de_alunos\n",
       "0                 Lógica de programação                    58\n",
       "1                         Java para Web                    31\n",
       "2                           C# para Web                    53\n",
       "3                         Ruby on Rails                     4\n",
       "4                      Cursos de Python                    12\n",
       "5                         PHP com MySql                    74\n",
       "6                         .NET para web                    32\n",
       "7            Novas integrações com Java                    18\n",
       "8                          TDD com Java                    59\n",
       "9                   Código limpo com C#                    39\n",
       "10  Preparatório para certificação Java                    61\n",
       "11                      Hardware básico                    65\n",
       "12                Persistência com .NET                    14\n",
       "13                  Desenvolvendo jogos                    27\n",
       "14                     Análise de dados                    46\n",
       "15                   Estatística básica                    43\n",
       "16                  Internet das coisas                    56\n",
       "17                Programação funcional                    53\n",
       "18                Boas práticas em Java                    74\n",
       "19          Orientação objetos com Java                    35"
      ],
      "text/html": "<div>\n<style scoped>\n    .dataframe tbody tr th:only-of-type {\n        vertical-align: middle;\n    }\n\n    .dataframe tbody tr th {\n        vertical-align: top;\n    }\n\n    .dataframe thead th {\n        text-align: right;\n    }\n</style>\n<table border=\"1\" class=\"dataframe\">\n  <thead>\n    <tr style=\"text-align: right;\">\n      <th></th>\n      <th>nome_do_curso</th>\n      <th>quantidade_de_alunos</th>\n    </tr>\n  </thead>\n  <tbody>\n    <tr>\n      <th>0</th>\n      <td>Lógica de programação</td>\n      <td>58</td>\n    </tr>\n    <tr>\n      <th>1</th>\n      <td>Java para Web</td>\n      <td>31</td>\n    </tr>\n    <tr>\n      <th>2</th>\n      <td>C# para Web</td>\n      <td>53</td>\n    </tr>\n    <tr>\n      <th>3</th>\n      <td>Ruby on Rails</td>\n      <td>4</td>\n    </tr>\n    <tr>\n      <th>4</th>\n      <td>Cursos de Python</td>\n      <td>12</td>\n    </tr>\n    <tr>\n      <th>5</th>\n      <td>PHP com MySql</td>\n      <td>74</td>\n    </tr>\n    <tr>\n      <th>6</th>\n      <td>.NET para web</td>\n      <td>32</td>\n    </tr>\n    <tr>\n      <th>7</th>\n      <td>Novas integrações com Java</td>\n      <td>18</td>\n    </tr>\n    <tr>\n      <th>8</th>\n      <td>TDD com Java</td>\n      <td>59</td>\n    </tr>\n    <tr>\n      <th>9</th>\n      <td>Código limpo com C#</td>\n      <td>39</td>\n    </tr>\n    <tr>\n      <th>10</th>\n      <td>Preparatório para certificação Java</td>\n      <td>61</td>\n    </tr>\n    <tr>\n      <th>11</th>\n      <td>Hardware básico</td>\n      <td>65</td>\n    </tr>\n    <tr>\n      <th>12</th>\n      <td>Persistência com .NET</td>\n      <td>14</td>\n    </tr>\n    <tr>\n      <th>13</th>\n      <td>Desenvolvendo jogos</td>\n      <td>27</td>\n    </tr>\n    <tr>\n      <th>14</th>\n      <td>Análise de dados</td>\n      <td>46</td>\n    </tr>\n    <tr>\n      <th>15</th>\n      <td>Estatística básica</td>\n      <td>43</td>\n    </tr>\n    <tr>\n      <th>16</th>\n      <td>Internet das coisas</td>\n      <td>56</td>\n    </tr>\n    <tr>\n      <th>17</th>\n      <td>Programação funcional</td>\n      <td>53</td>\n    </tr>\n    <tr>\n      <th>18</th>\n      <td>Boas práticas em Java</td>\n      <td>74</td>\n    </tr>\n    <tr>\n      <th>19</th>\n      <td>Orientação objetos com Java</td>\n      <td>35</td>\n    </tr>\n  </tbody>\n</table>\n</div>"
     },
     "metadata": {},
     "execution_count": 61
    }
   ],
   "source": [
    "pd.read_sql_table('matriculas',engine,columns=['nome_do_curso','quantidade_de_alunos'])"
   ]
  },
  {
   "cell_type": "code",
   "execution_count": 62,
   "metadata": {},
   "outputs": [],
   "source": [
    "muitas_matriculas = pd.read_sql_table('matriculas',engine,columns=['nome_do_curso','quantidade_de_alunos'])"
   ]
  },
  {
   "cell_type": "code",
   "execution_count": 63,
   "metadata": {},
   "outputs": [
    {
     "output_type": "execute_result",
     "data": {
      "text/plain": [
       "            nome_do_curso  quantidade_de_alunos\n",
       "5           PHP com MySql                    74\n",
       "18  Boas práticas em Java                    74"
      ],
      "text/html": "<div>\n<style scoped>\n    .dataframe tbody tr th:only-of-type {\n        vertical-align: middle;\n    }\n\n    .dataframe tbody tr th {\n        vertical-align: top;\n    }\n\n    .dataframe thead th {\n        text-align: right;\n    }\n</style>\n<table border=\"1\" class=\"dataframe\">\n  <thead>\n    <tr style=\"text-align: right;\">\n      <th></th>\n      <th>nome_do_curso</th>\n      <th>quantidade_de_alunos</th>\n    </tr>\n  </thead>\n  <tbody>\n    <tr>\n      <th>5</th>\n      <td>PHP com MySql</td>\n      <td>74</td>\n    </tr>\n    <tr>\n      <th>18</th>\n      <td>Boas práticas em Java</td>\n      <td>74</td>\n    </tr>\n  </tbody>\n</table>\n</div>"
     },
     "metadata": {},
     "execution_count": 63
    }
   ],
   "source": [
    "muitas_matriculas.query('quantidade_de_alunos > 65')"
   ]
  },
  {
   "source": [
    "# Escrevendo no bando"
   ],
   "cell_type": "markdown",
   "metadata": {}
  },
  {
   "cell_type": "code",
   "execution_count": 64,
   "metadata": {},
   "outputs": [],
   "source": [
    "muitas_matriculas.query('quantidade_de_alunos > 65').to_sql('muitas_matriculas',con=engine)"
   ]
  },
  {
   "cell_type": "code",
   "execution_count": 65,
   "metadata": {},
   "outputs": [
    {
     "output_type": "stream",
     "name": "stdout",
     "text": [
      "['matriculas', 'muitas_matriculas']\n"
     ]
    }
   ],
   "source": [
    "print(engine.table_names())"
   ]
  },
  {
   "source": [
    "# Nomes dos alunos e alunas da próxima turma"
   ],
   "cell_type": "markdown",
   "metadata": {}
  },
  {
   "cell_type": "code",
   "execution_count": 66,
   "metadata": {},
   "outputs": [
    {
     "output_type": "execute_result",
     "data": {
      "text/plain": [
       "          quantidade_de_alunos                        nome_do_curso\n",
       "id_curso                                                           \n",
       "1                           58                Lógica de programação\n",
       "2                           31                        Java para Web\n",
       "3                           53                          C# para Web\n",
       "4                            4                        Ruby on Rails\n",
       "5                           12                     Cursos de Python\n",
       "6                           74                        PHP com MySql\n",
       "7                           32                        .NET para web\n",
       "8                           18           Novas integrações com Java\n",
       "9                           59                         TDD com Java\n",
       "10                          39                  Código limpo com C#\n",
       "11                          61  Preparatório para certificação Java\n",
       "12                          65                      Hardware básico\n",
       "13                          14                Persistência com .NET\n",
       "14                          27                  Desenvolvendo jogos\n",
       "15                          46                     Análise de dados\n",
       "16                          43                   Estatística básica\n",
       "17                          56                  Internet das coisas\n",
       "18                          53                Programação funcional\n",
       "19                          74                Boas práticas em Java\n",
       "20                          35          Orientação objetos com Java"
      ],
      "text/html": "<div>\n<style scoped>\n    .dataframe tbody tr th:only-of-type {\n        vertical-align: middle;\n    }\n\n    .dataframe tbody tr th {\n        vertical-align: top;\n    }\n\n    .dataframe thead th {\n        text-align: right;\n    }\n</style>\n<table border=\"1\" class=\"dataframe\">\n  <thead>\n    <tr style=\"text-align: right;\">\n      <th></th>\n      <th>quantidade_de_alunos</th>\n      <th>nome_do_curso</th>\n    </tr>\n    <tr>\n      <th>id_curso</th>\n      <th></th>\n      <th></th>\n    </tr>\n  </thead>\n  <tbody>\n    <tr>\n      <th>1</th>\n      <td>58</td>\n      <td>Lógica de programação</td>\n    </tr>\n    <tr>\n      <th>2</th>\n      <td>31</td>\n      <td>Java para Web</td>\n    </tr>\n    <tr>\n      <th>3</th>\n      <td>53</td>\n      <td>C# para Web</td>\n    </tr>\n    <tr>\n      <th>4</th>\n      <td>4</td>\n      <td>Ruby on Rails</td>\n    </tr>\n    <tr>\n      <th>5</th>\n      <td>12</td>\n      <td>Cursos de Python</td>\n    </tr>\n    <tr>\n      <th>6</th>\n      <td>74</td>\n      <td>PHP com MySql</td>\n    </tr>\n    <tr>\n      <th>7</th>\n      <td>32</td>\n      <td>.NET para web</td>\n    </tr>\n    <tr>\n      <th>8</th>\n      <td>18</td>\n      <td>Novas integrações com Java</td>\n    </tr>\n    <tr>\n      <th>9</th>\n      <td>59</td>\n      <td>TDD com Java</td>\n    </tr>\n    <tr>\n      <th>10</th>\n      <td>39</td>\n      <td>Código limpo com C#</td>\n    </tr>\n    <tr>\n      <th>11</th>\n      <td>61</td>\n      <td>Preparatório para certificação Java</td>\n    </tr>\n    <tr>\n      <th>12</th>\n      <td>65</td>\n      <td>Hardware básico</td>\n    </tr>\n    <tr>\n      <th>13</th>\n      <td>14</td>\n      <td>Persistência com .NET</td>\n    </tr>\n    <tr>\n      <th>14</th>\n      <td>27</td>\n      <td>Desenvolvendo jogos</td>\n    </tr>\n    <tr>\n      <th>15</th>\n      <td>46</td>\n      <td>Análise de dados</td>\n    </tr>\n    <tr>\n      <th>16</th>\n      <td>43</td>\n      <td>Estatística básica</td>\n    </tr>\n    <tr>\n      <th>17</th>\n      <td>56</td>\n      <td>Internet das coisas</td>\n    </tr>\n    <tr>\n      <th>18</th>\n      <td>53</td>\n      <td>Programação funcional</td>\n    </tr>\n    <tr>\n      <th>19</th>\n      <td>74</td>\n      <td>Boas práticas em Java</td>\n    </tr>\n    <tr>\n      <th>20</th>\n      <td>35</td>\n      <td>Orientação objetos com Java</td>\n    </tr>\n  </tbody>\n</table>\n</div>"
     },
     "metadata": {},
     "execution_count": 66
    }
   ],
   "source": [
    "matriculas_por_curso"
   ]
  },
  {
   "cell_type": "code",
   "execution_count": 67,
   "metadata": {},
   "outputs": [
    {
     "output_type": "execute_result",
     "data": {
      "text/plain": [
       "     id_aluno  id_curso\n",
       "0         235         6\n",
       "1          43        16\n",
       "2         304         6\n",
       "3         304        11\n",
       "4         304        12\n",
       "..        ...       ...\n",
       "849       323        10\n",
       "850       323         3\n",
       "851       383         6\n",
       "852       366         3\n",
       "853       366        17\n",
       "\n",
       "[854 rows x 2 columns]"
      ],
      "text/html": "<div>\n<style scoped>\n    .dataframe tbody tr th:only-of-type {\n        vertical-align: middle;\n    }\n\n    .dataframe tbody tr th {\n        vertical-align: top;\n    }\n\n    .dataframe thead th {\n        text-align: right;\n    }\n</style>\n<table border=\"1\" class=\"dataframe\">\n  <thead>\n    <tr style=\"text-align: right;\">\n      <th></th>\n      <th>id_aluno</th>\n      <th>id_curso</th>\n    </tr>\n  </thead>\n  <tbody>\n    <tr>\n      <th>0</th>\n      <td>235</td>\n      <td>6</td>\n    </tr>\n    <tr>\n      <th>1</th>\n      <td>43</td>\n      <td>16</td>\n    </tr>\n    <tr>\n      <th>2</th>\n      <td>304</td>\n      <td>6</td>\n    </tr>\n    <tr>\n      <th>3</th>\n      <td>304</td>\n      <td>11</td>\n    </tr>\n    <tr>\n      <th>4</th>\n      <td>304</td>\n      <td>12</td>\n    </tr>\n    <tr>\n      <th>...</th>\n      <td>...</td>\n      <td>...</td>\n    </tr>\n    <tr>\n      <th>849</th>\n      <td>323</td>\n      <td>10</td>\n    </tr>\n    <tr>\n      <th>850</th>\n      <td>323</td>\n      <td>3</td>\n    </tr>\n    <tr>\n      <th>851</th>\n      <td>383</td>\n      <td>6</td>\n    </tr>\n    <tr>\n      <th>852</th>\n      <td>366</td>\n      <td>3</td>\n    </tr>\n    <tr>\n      <th>853</th>\n      <td>366</td>\n      <td>17</td>\n    </tr>\n  </tbody>\n</table>\n<p>854 rows × 2 columns</p>\n</div>"
     },
     "metadata": {},
     "execution_count": 67
    }
   ],
   "source": [
    "matriculas"
   ]
  },
  {
   "cell_type": "code",
   "execution_count": 68,
   "metadata": {},
   "outputs": [
    {
     "output_type": "execute_result",
     "data": {
      "text/plain": [
       "     id_aluno  id_curso\n",
       "0         235         6\n",
       "2         304         6\n",
       "16         55         6\n",
       "17        288         6\n",
       "24        218         6\n",
       "..        ...       ...\n",
       "803       340         6\n",
       "817       127         6\n",
       "838        18         6\n",
       "839        18         6\n",
       "851       383         6\n",
       "\n",
       "[74 rows x 2 columns]"
      ],
      "text/html": "<div>\n<style scoped>\n    .dataframe tbody tr th:only-of-type {\n        vertical-align: middle;\n    }\n\n    .dataframe tbody tr th {\n        vertical-align: top;\n    }\n\n    .dataframe thead th {\n        text-align: right;\n    }\n</style>\n<table border=\"1\" class=\"dataframe\">\n  <thead>\n    <tr style=\"text-align: right;\">\n      <th></th>\n      <th>id_aluno</th>\n      <th>id_curso</th>\n    </tr>\n  </thead>\n  <tbody>\n    <tr>\n      <th>0</th>\n      <td>235</td>\n      <td>6</td>\n    </tr>\n    <tr>\n      <th>2</th>\n      <td>304</td>\n      <td>6</td>\n    </tr>\n    <tr>\n      <th>16</th>\n      <td>55</td>\n      <td>6</td>\n    </tr>\n    <tr>\n      <th>17</th>\n      <td>288</td>\n      <td>6</td>\n    </tr>\n    <tr>\n      <th>24</th>\n      <td>218</td>\n      <td>6</td>\n    </tr>\n    <tr>\n      <th>...</th>\n      <td>...</td>\n      <td>...</td>\n    </tr>\n    <tr>\n      <th>803</th>\n      <td>340</td>\n      <td>6</td>\n    </tr>\n    <tr>\n      <th>817</th>\n      <td>127</td>\n      <td>6</td>\n    </tr>\n    <tr>\n      <th>838</th>\n      <td>18</td>\n      <td>6</td>\n    </tr>\n    <tr>\n      <th>839</th>\n      <td>18</td>\n      <td>6</td>\n    </tr>\n    <tr>\n      <th>851</th>\n      <td>383</td>\n      <td>6</td>\n    </tr>\n  </tbody>\n</table>\n<p>74 rows × 2 columns</p>\n</div>"
     },
     "metadata": {},
     "execution_count": 68
    }
   ],
   "source": [
    "id_curso = 6 \n",
    "proxima_turma = matriculas.query(f'id_curso =={id_curso} ')\n",
    "proxima_turma"
   ]
  },
  {
   "cell_type": "code",
   "execution_count": 69,
   "metadata": {},
   "outputs": [
    {
     "output_type": "execute_result",
     "data": {
      "text/plain": [
       "           nome  id_aluno              dominio                          email  \\\n",
       "58   ALESSANDRA       193  @servicodoemail.com  alessandra@servicodoemail.com   \n",
       "61       BIANCA        21  @servicodoemail.com      bianca@servicodoemail.com   \n",
       "178    DENILSON       335  @servicodoemail.com    denilson@servicodoemail.com   \n",
       "\n",
       "     matriculas  \n",
       "58            1  \n",
       "61            3  \n",
       "178           4  "
      ],
      "text/html": "<div>\n<style scoped>\n    .dataframe tbody tr th:only-of-type {\n        vertical-align: middle;\n    }\n\n    .dataframe tbody tr th {\n        vertical-align: top;\n    }\n\n    .dataframe thead th {\n        text-align: right;\n    }\n</style>\n<table border=\"1\" class=\"dataframe\">\n  <thead>\n    <tr style=\"text-align: right;\">\n      <th></th>\n      <th>nome</th>\n      <th>id_aluno</th>\n      <th>dominio</th>\n      <th>email</th>\n      <th>matriculas</th>\n    </tr>\n  </thead>\n  <tbody>\n    <tr>\n      <th>58</th>\n      <td>ALESSANDRA</td>\n      <td>193</td>\n      <td>@servicodoemail.com</td>\n      <td>alessandra@servicodoemail.com</td>\n      <td>1</td>\n    </tr>\n    <tr>\n      <th>61</th>\n      <td>BIANCA</td>\n      <td>21</td>\n      <td>@servicodoemail.com</td>\n      <td>bianca@servicodoemail.com</td>\n      <td>3</td>\n    </tr>\n    <tr>\n      <th>178</th>\n      <td>DENILSON</td>\n      <td>335</td>\n      <td>@servicodoemail.com</td>\n      <td>denilson@servicodoemail.com</td>\n      <td>4</td>\n    </tr>\n  </tbody>\n</table>\n</div>"
     },
     "metadata": {},
     "execution_count": 69
    }
   ],
   "source": [
    "nomes.sample(3)"
   ]
  },
  {
   "cell_type": "code",
   "execution_count": 70,
   "metadata": {},
   "outputs": [
    {
     "output_type": "execute_result",
     "data": {
      "text/plain": [
       "          id_curso      nome                 dominio  \\\n",
       "id_aluno                                               \n",
       "5                6  SEVERINA  @dominiodoemail.com.br   \n",
       "8                6     IRACI  @dominiodoemail.com.br   \n",
       "10               6   MARIANA     @servicodoemail.com   \n",
       "18               6     ODAIR  @dominiodoemail.com.br   \n",
       "18               6     ODAIR  @dominiodoemail.com.br   \n",
       "...            ...       ...                     ...   \n",
       "363              6    SILVIO  @dominiodoemail.com.br   \n",
       "363              6    SILVIO  @dominiodoemail.com.br   \n",
       "369              6   POLIANA     @servicodoemail.com   \n",
       "383              6    ALVARO  @dominiodoemail.com.br   \n",
       "397              6    LILIAN  @dominiodoemail.com.br   \n",
       "\n",
       "                                   email  matriculas  \n",
       "id_aluno                                              \n",
       "5         severina@dominiodoemail.com.br           1  \n",
       "8            iraci@dominiodoemail.com.br           1  \n",
       "10            mariana@servicodoemail.com           4  \n",
       "18           odair@dominiodoemail.com.br           3  \n",
       "18           odair@dominiodoemail.com.br           3  \n",
       "...                                  ...         ...  \n",
       "363         silvio@dominiodoemail.com.br           4  \n",
       "363         silvio@dominiodoemail.com.br           4  \n",
       "369           poliana@servicodoemail.com           1  \n",
       "383         alvaro@dominiodoemail.com.br           1  \n",
       "397         lilian@dominiodoemail.com.br           1  \n",
       "\n",
       "[74 rows x 5 columns]"
      ],
      "text/html": "<div>\n<style scoped>\n    .dataframe tbody tr th:only-of-type {\n        vertical-align: middle;\n    }\n\n    .dataframe tbody tr th {\n        vertical-align: top;\n    }\n\n    .dataframe thead th {\n        text-align: right;\n    }\n</style>\n<table border=\"1\" class=\"dataframe\">\n  <thead>\n    <tr style=\"text-align: right;\">\n      <th></th>\n      <th>id_curso</th>\n      <th>nome</th>\n      <th>dominio</th>\n      <th>email</th>\n      <th>matriculas</th>\n    </tr>\n    <tr>\n      <th>id_aluno</th>\n      <th></th>\n      <th></th>\n      <th></th>\n      <th></th>\n      <th></th>\n    </tr>\n  </thead>\n  <tbody>\n    <tr>\n      <th>5</th>\n      <td>6</td>\n      <td>SEVERINA</td>\n      <td>@dominiodoemail.com.br</td>\n      <td>severina@dominiodoemail.com.br</td>\n      <td>1</td>\n    </tr>\n    <tr>\n      <th>8</th>\n      <td>6</td>\n      <td>IRACI</td>\n      <td>@dominiodoemail.com.br</td>\n      <td>iraci@dominiodoemail.com.br</td>\n      <td>1</td>\n    </tr>\n    <tr>\n      <th>10</th>\n      <td>6</td>\n      <td>MARIANA</td>\n      <td>@servicodoemail.com</td>\n      <td>mariana@servicodoemail.com</td>\n      <td>4</td>\n    </tr>\n    <tr>\n      <th>18</th>\n      <td>6</td>\n      <td>ODAIR</td>\n      <td>@dominiodoemail.com.br</td>\n      <td>odair@dominiodoemail.com.br</td>\n      <td>3</td>\n    </tr>\n    <tr>\n      <th>18</th>\n      <td>6</td>\n      <td>ODAIR</td>\n      <td>@dominiodoemail.com.br</td>\n      <td>odair@dominiodoemail.com.br</td>\n      <td>3</td>\n    </tr>\n    <tr>\n      <th>...</th>\n      <td>...</td>\n      <td>...</td>\n      <td>...</td>\n      <td>...</td>\n      <td>...</td>\n    </tr>\n    <tr>\n      <th>363</th>\n      <td>6</td>\n      <td>SILVIO</td>\n      <td>@dominiodoemail.com.br</td>\n      <td>silvio@dominiodoemail.com.br</td>\n      <td>4</td>\n    </tr>\n    <tr>\n      <th>363</th>\n      <td>6</td>\n      <td>SILVIO</td>\n      <td>@dominiodoemail.com.br</td>\n      <td>silvio@dominiodoemail.com.br</td>\n      <td>4</td>\n    </tr>\n    <tr>\n      <th>369</th>\n      <td>6</td>\n      <td>POLIANA</td>\n      <td>@servicodoemail.com</td>\n      <td>poliana@servicodoemail.com</td>\n      <td>1</td>\n    </tr>\n    <tr>\n      <th>383</th>\n      <td>6</td>\n      <td>ALVARO</td>\n      <td>@dominiodoemail.com.br</td>\n      <td>alvaro@dominiodoemail.com.br</td>\n      <td>1</td>\n    </tr>\n    <tr>\n      <th>397</th>\n      <td>6</td>\n      <td>LILIAN</td>\n      <td>@dominiodoemail.com.br</td>\n      <td>lilian@dominiodoemail.com.br</td>\n      <td>1</td>\n    </tr>\n  </tbody>\n</table>\n<p>74 rows × 5 columns</p>\n</div>"
     },
     "metadata": {},
     "execution_count": 70
    }
   ],
   "source": [
    "proxima_turma.set_index('id_aluno').join(nomes.set_index('id_aluno')) # juntando duas tabelas"
   ]
  },
  {
   "cell_type": "code",
   "execution_count": 71,
   "metadata": {},
   "outputs": [
    {
     "output_type": "execute_result",
     "data": {
      "text/plain": [
       "id_aluno\n",
       "5      SEVERINA\n",
       "8         IRACI\n",
       "10      MARIANA\n",
       "18        ODAIR\n",
       "18        ODAIR\n",
       "         ...   \n",
       "363      SILVIO\n",
       "363      SILVIO\n",
       "369     POLIANA\n",
       "383      ALVARO\n",
       "397      LILIAN\n",
       "Name: nome, Length: 74, dtype: object"
      ]
     },
     "metadata": {},
     "execution_count": 71
    }
   ],
   "source": [
    "proxima_turma.set_index('id_aluno').join(nomes.set_index('id_aluno'))['nome'] "
   ]
  },
  {
   "cell_type": "code",
   "execution_count": 72,
   "metadata": {},
   "outputs": [],
   "source": [
    "proxima_turma = proxima_turma.set_index('id_aluno').join(nomes.set_index('id_aluno'))['nome'].to_frame()"
   ]
  },
  {
   "cell_type": "code",
   "execution_count": 73,
   "metadata": {},
   "outputs": [
    {
     "output_type": "execute_result",
     "data": {
      "text/plain": [
       "nome_do_curso    PHP com MySql\n",
       "Name: 6, dtype: object"
      ]
     },
     "metadata": {},
     "execution_count": 73
    }
   ],
   "source": [
    "nome_curso = cursos.loc[id_curso]\n",
    "nome_curso"
   ]
  },
  {
   "cell_type": "code",
   "execution_count": 74,
   "metadata": {},
   "outputs": [
    {
     "output_type": "execute_result",
     "data": {
      "text/plain": [
       "'PHP com MySql'"
      ]
     },
     "metadata": {},
     "execution_count": 74
    }
   ],
   "source": [
    "nome_curso = nome_curso.nome_do_curso\n",
    "nome_curso"
   ]
  },
  {
   "cell_type": "code",
   "execution_count": 78,
   "metadata": {},
   "outputs": [
    {
     "output_type": "execute_result",
     "data": {
      "text/plain": [
       "         Alunos do curso de PHP com MySql\n",
       "id_aluno                                 \n",
       "5                                SEVERINA\n",
       "8                                   IRACI\n",
       "10                                MARIANA\n",
       "18                                  ODAIR\n",
       "18                                  ODAIR\n",
       "...                                   ...\n",
       "363                                SILVIO\n",
       "363                                SILVIO\n",
       "369                               POLIANA\n",
       "383                                ALVARO\n",
       "397                                LILIAN\n",
       "\n",
       "[74 rows x 1 columns]"
      ],
      "text/html": "<div>\n<style scoped>\n    .dataframe tbody tr th:only-of-type {\n        vertical-align: middle;\n    }\n\n    .dataframe tbody tr th {\n        vertical-align: top;\n    }\n\n    .dataframe thead th {\n        text-align: right;\n    }\n</style>\n<table border=\"1\" class=\"dataframe\">\n  <thead>\n    <tr style=\"text-align: right;\">\n      <th></th>\n      <th>Alunos do curso de PHP com MySql</th>\n    </tr>\n    <tr>\n      <th>id_aluno</th>\n      <th></th>\n    </tr>\n  </thead>\n  <tbody>\n    <tr>\n      <th>5</th>\n      <td>SEVERINA</td>\n    </tr>\n    <tr>\n      <th>8</th>\n      <td>IRACI</td>\n    </tr>\n    <tr>\n      <th>10</th>\n      <td>MARIANA</td>\n    </tr>\n    <tr>\n      <th>18</th>\n      <td>ODAIR</td>\n    </tr>\n    <tr>\n      <th>18</th>\n      <td>ODAIR</td>\n    </tr>\n    <tr>\n      <th>...</th>\n      <td>...</td>\n    </tr>\n    <tr>\n      <th>363</th>\n      <td>SILVIO</td>\n    </tr>\n    <tr>\n      <th>363</th>\n      <td>SILVIO</td>\n    </tr>\n    <tr>\n      <th>369</th>\n      <td>POLIANA</td>\n    </tr>\n    <tr>\n      <th>383</th>\n      <td>ALVARO</td>\n    </tr>\n    <tr>\n      <th>397</th>\n      <td>LILIAN</td>\n    </tr>\n  </tbody>\n</table>\n<p>74 rows × 1 columns</p>\n</div>"
     },
     "metadata": {},
     "execution_count": 78
    }
   ],
   "source": [
    "proxima_turma.rename(columns = {'nome':f'Alunos do curso de {nome_curso}'})"
   ]
  },
  {
   "cell_type": "code",
   "execution_count": 79,
   "metadata": {},
   "outputs": [],
   "source": [
    "proxima_turma = proxima_turma.rename(columns = {'nome':f'Alunos do curso de {nome_curso}'})"
   ]
  },
  {
   "source": [
    "# Excel"
   ],
   "cell_type": "markdown",
   "metadata": {}
  },
  {
   "cell_type": "code",
   "execution_count": 80,
   "metadata": {},
   "outputs": [],
   "source": [
    "proxima_turma.to_excel('proxima_turma.xlsx', index= False)"
   ]
  },
  {
   "cell_type": "code",
   "execution_count": 81,
   "metadata": {},
   "outputs": [
    {
     "output_type": "execute_result",
     "data": {
      "text/plain": [
       "   Alunos do curso de PHP com MySql\n",
       "0                          SEVERINA\n",
       "1                             IRACI\n",
       "2                           MARIANA\n",
       "3                             ODAIR\n",
       "4                             ODAIR\n",
       "..                              ...\n",
       "69                           SILVIO\n",
       "70                           SILVIO\n",
       "71                          POLIANA\n",
       "72                           ALVARO\n",
       "73                           LILIAN\n",
       "\n",
       "[74 rows x 1 columns]"
      ],
      "text/html": "<div>\n<style scoped>\n    .dataframe tbody tr th:only-of-type {\n        vertical-align: middle;\n    }\n\n    .dataframe tbody tr th {\n        vertical-align: top;\n    }\n\n    .dataframe thead th {\n        text-align: right;\n    }\n</style>\n<table border=\"1\" class=\"dataframe\">\n  <thead>\n    <tr style=\"text-align: right;\">\n      <th></th>\n      <th>Alunos do curso de PHP com MySql</th>\n    </tr>\n  </thead>\n  <tbody>\n    <tr>\n      <th>0</th>\n      <td>SEVERINA</td>\n    </tr>\n    <tr>\n      <th>1</th>\n      <td>IRACI</td>\n    </tr>\n    <tr>\n      <th>2</th>\n      <td>MARIANA</td>\n    </tr>\n    <tr>\n      <th>3</th>\n      <td>ODAIR</td>\n    </tr>\n    <tr>\n      <th>4</th>\n      <td>ODAIR</td>\n    </tr>\n    <tr>\n      <th>...</th>\n      <td>...</td>\n    </tr>\n    <tr>\n      <th>69</th>\n      <td>SILVIO</td>\n    </tr>\n    <tr>\n      <th>70</th>\n      <td>SILVIO</td>\n    </tr>\n    <tr>\n      <th>71</th>\n      <td>POLIANA</td>\n    </tr>\n    <tr>\n      <th>72</th>\n      <td>ALVARO</td>\n    </tr>\n    <tr>\n      <th>73</th>\n      <td>LILIAN</td>\n    </tr>\n  </tbody>\n</table>\n<p>74 rows × 1 columns</p>\n</div>"
     },
     "metadata": {},
     "execution_count": 81
    }
   ],
   "source": [
    "pd.read_excel('proxima_turma.xlsx')"
   ]
  }
 ]
}