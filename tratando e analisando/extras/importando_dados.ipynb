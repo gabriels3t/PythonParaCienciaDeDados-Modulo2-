{
 "metadata": {
  "language_info": {
   "codemirror_mode": {
    "name": "ipython",
    "version": 3
   },
   "file_extension": ".py",
   "mimetype": "text/x-python",
   "name": "python",
   "nbconvert_exporter": "python",
   "pygments_lexer": "ipython3",
   "version": "3.8.5-final"
  },
  "orig_nbformat": 2,
  "kernelspec": {
   "name": "python3",
   "display_name": "Python 3.8.5 64-bit ('base': conda)",
   "metadata": {
    "interpreter": {
     "hash": "3f276234706dfbd4c7aa7542cbd0e8f9847a7c7982307d0b57446d3b9a32b154"
    }
   }
  }
 },
 "nbformat": 4,
 "nbformat_minor": 2,
 "cells": [
  {
   "cell_type": "code",
   "execution_count": 11,
   "metadata": {},
   "outputs": [],
   "source": [
    "import pandas as pd \n",
    "import urllib.request"
   ]
  },
  {
   "cell_type": "code",
   "execution_count": 12,
   "metadata": {},
   "outputs": [],
   "source": [
    "json = open('dados/aluguel.json')"
   ]
  },
  {
   "cell_type": "code",
   "execution_count": 13,
   "metadata": {},
   "outputs": [
    {
     "output_type": "stream",
     "name": "stdout",
     "text": [
      "[{\"Tipo\":\"Quitinete\",\"Bairro\":\"Copacabana\",\"Quartos\":1,\"Vagas\":0,\"Suites\":0,\"Area\":40,\"Valor\":1700.0,\"Condominio\":500.0,\"IPTU\":60.0},\n{\"Tipo\":\"Casa\",\"Bairro\":\"Jardim Bot\\u00e2nico\",\"Quartos\":2,\"Vagas\":0,\"Suites\":1,\"Area\":100,\"Valor\":7000.0,\"Condominio\":null,\"IPTU\":null},\n{\"Tipo\":\"Conjunto Comercial\\/Sala\",\"Bairro\":\"Barra da Tijuca\",\"Quartos\":0,\"Vagas\":4,\"Suites\":0,\"Area\":150,\"Valor\":5200.0,\"Condominio\":4020.0,\"IPTU\":1111.0},\n{\"Tipo\":\"Apartamento\",\"Bairro\":\"Centro\",\"Quartos\":1,\"Vagas\":0,\"Suites\":0,\"Area\":15,\"Valor\":800.0,\"Condominio\":390.0,\"IPTU\":20.0},\n{\"Tipo\":\"Apartamento\",\"Bairro\":\"Higien\\u00f3polis\",\"Quartos\":1,\"Vagas\":0,\"Suites\":0,\"Area\":48,\"Valor\":800.0,\"Condominio\":230.0,\"IPTU\":null},\n{\"Tipo\":\"Apartamento\",\"Bairro\":\"Vista Alegre\",\"Quartos\":3,\"Vagas\":1,\"Suites\":0,\"Area\":70,\"Valor\":1200.0,\"Condominio\":null,\"IPTU\":null},\n{\"Tipo\":\"Apartamento\",\"Bairro\":\"Cachambi\",\"Quartos\":2,\"Vagas\":0,\"Suites\":0,\"Area\":50,\"Valor\":1300.0,\"Condominio\":301.0,\"IPTU\":17.0},\n{\"Tipo\":\"Casa de Condom\\u00ednio\",\"Bairro\":\"Barra da Tijuca\",\"Quartos\":5,\"Vagas\":4,\"Suites\":5,\"Area\":750,\"Valor\":22000.0,\"Condominio\":null,\"IPTU\":null},\n{\"Tipo\":\"Casa de Condom\\u00ednio\",\"Bairro\":\"Ramos\",\"Quartos\":2,\"Vagas\":2,\"Suites\":0,\"Area\":65,\"Valor\":1000.0,\"Condominio\":null,\"IPTU\":null},\n{\"Tipo\":\"Conjunto Comercial\\/Sala\",\"Bairro\":\"Centro\",\"Quartos\":0,\"Vagas\":3,\"Suites\":0,\"Area\":695,\"Valor\":35000.0,\"Condominio\":19193.0,\"IPTU\":3030.0}]\n"
     ]
    }
   ],
   "source": [
    "print(json.read())"
   ]
  },
  {
   "cell_type": "code",
   "execution_count": 14,
   "metadata": {},
   "outputs": [
    {
     "output_type": "execute_result",
     "data": {
      "text/plain": [
       "                      Tipo           Bairro  Quartos  Vagas  Suites  Area  \\\n",
       "0                Quitinete       Copacabana        1      0       0    40   \n",
       "1                     Casa  Jardim Botânico        2      0       1   100   \n",
       "2  Conjunto Comercial/Sala  Barra da Tijuca        0      4       0   150   \n",
       "3              Apartamento           Centro        1      0       0    15   \n",
       "4              Apartamento     Higienópolis        1      0       0    48   \n",
       "5              Apartamento     Vista Alegre        3      1       0    70   \n",
       "6              Apartamento         Cachambi        2      0       0    50   \n",
       "7       Casa de Condomínio  Barra da Tijuca        5      4       5   750   \n",
       "8       Casa de Condomínio            Ramos        2      2       0    65   \n",
       "9  Conjunto Comercial/Sala           Centro        0      3       0   695   \n",
       "\n",
       "   Valor  Condominio    IPTU  \n",
       "0   1700       500.0    60.0  \n",
       "1   7000         NaN     NaN  \n",
       "2   5200      4020.0  1111.0  \n",
       "3    800       390.0    20.0  \n",
       "4    800       230.0     NaN  \n",
       "5   1200         NaN     NaN  \n",
       "6   1300       301.0    17.0  \n",
       "7  22000         NaN     NaN  \n",
       "8   1000         NaN     NaN  \n",
       "9  35000     19193.0  3030.0  "
      ],
      "text/html": "<div>\n<style scoped>\n    .dataframe tbody tr th:only-of-type {\n        vertical-align: middle;\n    }\n\n    .dataframe tbody tr th {\n        vertical-align: top;\n    }\n\n    .dataframe thead th {\n        text-align: right;\n    }\n</style>\n<table border=\"1\" class=\"dataframe\">\n  <thead>\n    <tr style=\"text-align: right;\">\n      <th></th>\n      <th>Tipo</th>\n      <th>Bairro</th>\n      <th>Quartos</th>\n      <th>Vagas</th>\n      <th>Suites</th>\n      <th>Area</th>\n      <th>Valor</th>\n      <th>Condominio</th>\n      <th>IPTU</th>\n    </tr>\n  </thead>\n  <tbody>\n    <tr>\n      <th>0</th>\n      <td>Quitinete</td>\n      <td>Copacabana</td>\n      <td>1</td>\n      <td>0</td>\n      <td>0</td>\n      <td>40</td>\n      <td>1700</td>\n      <td>500.0</td>\n      <td>60.0</td>\n    </tr>\n    <tr>\n      <th>1</th>\n      <td>Casa</td>\n      <td>Jardim Botânico</td>\n      <td>2</td>\n      <td>0</td>\n      <td>1</td>\n      <td>100</td>\n      <td>7000</td>\n      <td>NaN</td>\n      <td>NaN</td>\n    </tr>\n    <tr>\n      <th>2</th>\n      <td>Conjunto Comercial/Sala</td>\n      <td>Barra da Tijuca</td>\n      <td>0</td>\n      <td>4</td>\n      <td>0</td>\n      <td>150</td>\n      <td>5200</td>\n      <td>4020.0</td>\n      <td>1111.0</td>\n    </tr>\n    <tr>\n      <th>3</th>\n      <td>Apartamento</td>\n      <td>Centro</td>\n      <td>1</td>\n      <td>0</td>\n      <td>0</td>\n      <td>15</td>\n      <td>800</td>\n      <td>390.0</td>\n      <td>20.0</td>\n    </tr>\n    <tr>\n      <th>4</th>\n      <td>Apartamento</td>\n      <td>Higienópolis</td>\n      <td>1</td>\n      <td>0</td>\n      <td>0</td>\n      <td>48</td>\n      <td>800</td>\n      <td>230.0</td>\n      <td>NaN</td>\n    </tr>\n    <tr>\n      <th>5</th>\n      <td>Apartamento</td>\n      <td>Vista Alegre</td>\n      <td>3</td>\n      <td>1</td>\n      <td>0</td>\n      <td>70</td>\n      <td>1200</td>\n      <td>NaN</td>\n      <td>NaN</td>\n    </tr>\n    <tr>\n      <th>6</th>\n      <td>Apartamento</td>\n      <td>Cachambi</td>\n      <td>2</td>\n      <td>0</td>\n      <td>0</td>\n      <td>50</td>\n      <td>1300</td>\n      <td>301.0</td>\n      <td>17.0</td>\n    </tr>\n    <tr>\n      <th>7</th>\n      <td>Casa de Condomínio</td>\n      <td>Barra da Tijuca</td>\n      <td>5</td>\n      <td>4</td>\n      <td>5</td>\n      <td>750</td>\n      <td>22000</td>\n      <td>NaN</td>\n      <td>NaN</td>\n    </tr>\n    <tr>\n      <th>8</th>\n      <td>Casa de Condomínio</td>\n      <td>Ramos</td>\n      <td>2</td>\n      <td>2</td>\n      <td>0</td>\n      <td>65</td>\n      <td>1000</td>\n      <td>NaN</td>\n      <td>NaN</td>\n    </tr>\n    <tr>\n      <th>9</th>\n      <td>Conjunto Comercial/Sala</td>\n      <td>Centro</td>\n      <td>0</td>\n      <td>3</td>\n      <td>0</td>\n      <td>695</td>\n      <td>35000</td>\n      <td>19193.0</td>\n      <td>3030.0</td>\n    </tr>\n  </tbody>\n</table>\n</div>"
     },
     "metadata": {},
     "execution_count": 14
    }
   ],
   "source": [
    "df_json = pd.read_json('dados/aluguel.json')\n",
    "df_json"
   ]
  },
  {
   "cell_type": "code",
   "execution_count": 15,
   "metadata": {},
   "outputs": [
    {
     "output_type": "stream",
     "name": "stdout",
     "text": [
      "Tipo\tBairro\tQuartos\tVagas\tSuites\tArea\tValor\tCondominio\tIPTU\nQuitinete\tCopacabana\t1\t0\t0\t40\t1700\t500\t60\nCasa\tJardim Botânico\t2\t0\t1\t100\t7000\t\t\nConjunto Comercial/Sala\tBarra da Tijuca\t0\t4\t0\t150\t5200\t4020\t1111\nApartamento\tCentro\t1\t0\t0\t15\t800\t390\t20\nApartamento\tHigienópolis\t1\t0\t0\t48\t800\t230\t\nApartamento\tVista Alegre\t3\t1\t0\t70\t1200\t\t\nApartamento\tCachambi\t2\t0\t0\t50\t1300\t301\t17\nCasa de Condomínio\tBarra da Tijuca\t5\t4\t5\t750\t22000\t\t\nCasa de Condomínio\tRamos\t2\t2\t0\t65\t1000\t\t\nConjunto Comercial/Sala\tCentro\t0\t3\t0\t695\t35000\t19193\t3030\n\n"
     ]
    }
   ],
   "source": [
    "txt = open('dados/aluguel.txt')\n",
    "print(txt.read())"
   ]
  },
  {
   "cell_type": "code",
   "execution_count": 16,
   "metadata": {},
   "outputs": [
    {
     "output_type": "execute_result",
     "data": {
      "text/plain": [
       "                      Tipo           Bairro  Quartos  Vagas  Suites  Area  \\\n",
       "0                Quitinete       Copacabana        1      0       0    40   \n",
       "1                     Casa  Jardim Botânico        2      0       1   100   \n",
       "2  Conjunto Comercial/Sala  Barra da Tijuca        0      4       0   150   \n",
       "3              Apartamento           Centro        1      0       0    15   \n",
       "4              Apartamento     Higienópolis        1      0       0    48   \n",
       "5              Apartamento     Vista Alegre        3      1       0    70   \n",
       "6              Apartamento         Cachambi        2      0       0    50   \n",
       "7       Casa de Condomínio  Barra da Tijuca        5      4       5   750   \n",
       "8       Casa de Condomínio            Ramos        2      2       0    65   \n",
       "9  Conjunto Comercial/Sala           Centro        0      3       0   695   \n",
       "\n",
       "   Valor  Condominio    IPTU  \n",
       "0   1700       500.0    60.0  \n",
       "1   7000         NaN     NaN  \n",
       "2   5200      4020.0  1111.0  \n",
       "3    800       390.0    20.0  \n",
       "4    800       230.0     NaN  \n",
       "5   1200         NaN     NaN  \n",
       "6   1300       301.0    17.0  \n",
       "7  22000         NaN     NaN  \n",
       "8   1000         NaN     NaN  \n",
       "9  35000     19193.0  3030.0  "
      ],
      "text/html": "<div>\n<style scoped>\n    .dataframe tbody tr th:only-of-type {\n        vertical-align: middle;\n    }\n\n    .dataframe tbody tr th {\n        vertical-align: top;\n    }\n\n    .dataframe thead th {\n        text-align: right;\n    }\n</style>\n<table border=\"1\" class=\"dataframe\">\n  <thead>\n    <tr style=\"text-align: right;\">\n      <th></th>\n      <th>Tipo</th>\n      <th>Bairro</th>\n      <th>Quartos</th>\n      <th>Vagas</th>\n      <th>Suites</th>\n      <th>Area</th>\n      <th>Valor</th>\n      <th>Condominio</th>\n      <th>IPTU</th>\n    </tr>\n  </thead>\n  <tbody>\n    <tr>\n      <th>0</th>\n      <td>Quitinete</td>\n      <td>Copacabana</td>\n      <td>1</td>\n      <td>0</td>\n      <td>0</td>\n      <td>40</td>\n      <td>1700</td>\n      <td>500.0</td>\n      <td>60.0</td>\n    </tr>\n    <tr>\n      <th>1</th>\n      <td>Casa</td>\n      <td>Jardim Botânico</td>\n      <td>2</td>\n      <td>0</td>\n      <td>1</td>\n      <td>100</td>\n      <td>7000</td>\n      <td>NaN</td>\n      <td>NaN</td>\n    </tr>\n    <tr>\n      <th>2</th>\n      <td>Conjunto Comercial/Sala</td>\n      <td>Barra da Tijuca</td>\n      <td>0</td>\n      <td>4</td>\n      <td>0</td>\n      <td>150</td>\n      <td>5200</td>\n      <td>4020.0</td>\n      <td>1111.0</td>\n    </tr>\n    <tr>\n      <th>3</th>\n      <td>Apartamento</td>\n      <td>Centro</td>\n      <td>1</td>\n      <td>0</td>\n      <td>0</td>\n      <td>15</td>\n      <td>800</td>\n      <td>390.0</td>\n      <td>20.0</td>\n    </tr>\n    <tr>\n      <th>4</th>\n      <td>Apartamento</td>\n      <td>Higienópolis</td>\n      <td>1</td>\n      <td>0</td>\n      <td>0</td>\n      <td>48</td>\n      <td>800</td>\n      <td>230.0</td>\n      <td>NaN</td>\n    </tr>\n    <tr>\n      <th>5</th>\n      <td>Apartamento</td>\n      <td>Vista Alegre</td>\n      <td>3</td>\n      <td>1</td>\n      <td>0</td>\n      <td>70</td>\n      <td>1200</td>\n      <td>NaN</td>\n      <td>NaN</td>\n    </tr>\n    <tr>\n      <th>6</th>\n      <td>Apartamento</td>\n      <td>Cachambi</td>\n      <td>2</td>\n      <td>0</td>\n      <td>0</td>\n      <td>50</td>\n      <td>1300</td>\n      <td>301.0</td>\n      <td>17.0</td>\n    </tr>\n    <tr>\n      <th>7</th>\n      <td>Casa de Condomínio</td>\n      <td>Barra da Tijuca</td>\n      <td>5</td>\n      <td>4</td>\n      <td>5</td>\n      <td>750</td>\n      <td>22000</td>\n      <td>NaN</td>\n      <td>NaN</td>\n    </tr>\n    <tr>\n      <th>8</th>\n      <td>Casa de Condomínio</td>\n      <td>Ramos</td>\n      <td>2</td>\n      <td>2</td>\n      <td>0</td>\n      <td>65</td>\n      <td>1000</td>\n      <td>NaN</td>\n      <td>NaN</td>\n    </tr>\n    <tr>\n      <th>9</th>\n      <td>Conjunto Comercial/Sala</td>\n      <td>Centro</td>\n      <td>0</td>\n      <td>3</td>\n      <td>0</td>\n      <td>695</td>\n      <td>35000</td>\n      <td>19193.0</td>\n      <td>3030.0</td>\n    </tr>\n  </tbody>\n</table>\n</div>"
     },
     "metadata": {},
     "execution_count": 16
    }
   ],
   "source": [
    "df_txt = pd.read_table('dados/aluguel.txt')\n",
    "df_txt"
   ]
  },
  {
   "cell_type": "code",
   "execution_count": 17,
   "metadata": {},
   "outputs": [
    {
     "output_type": "error",
     "ename": "ImportError",
     "evalue": "Missing optional dependency 'xlrd'. Install xlrd >= 1.0.0 for Excel support Use pip or conda to install xlrd.",
     "traceback": [
      "\u001b[0;31m---------------------------------------------------------------------------\u001b[0m",
      "\u001b[0;31mImportError\u001b[0m                               Traceback (most recent call last)",
      "\u001b[0;32m<ipython-input-17-ca427c6977cf>\u001b[0m in \u001b[0;36m<module>\u001b[0;34m\u001b[0m\n\u001b[0;32m----> 1\u001b[0;31m \u001b[0mdf_exel\u001b[0m \u001b[0;34m=\u001b[0m \u001b[0mpd\u001b[0m\u001b[0;34m.\u001b[0m\u001b[0mread_excel\u001b[0m\u001b[0;34m(\u001b[0m\u001b[0;34m'dados/aluguel.xlsx'\u001b[0m\u001b[0;34m)\u001b[0m\u001b[0;34m\u001b[0m\u001b[0;34m\u001b[0m\u001b[0m\n\u001b[0m\u001b[1;32m      2\u001b[0m \u001b[0mdf_exel\u001b[0m\u001b[0;34m\u001b[0m\u001b[0;34m\u001b[0m\u001b[0m\n",
      "\u001b[0;32m~/Python/CienciaDeDados/Python3ParaCienciaDeDados/Modulo2/venv/lib/python3.8/site-packages/pandas/util/_decorators.py\u001b[0m in \u001b[0;36mwrapper\u001b[0;34m(*args, **kwargs)\u001b[0m\n\u001b[1;32m    294\u001b[0m                 )\n\u001b[1;32m    295\u001b[0m                 \u001b[0mwarnings\u001b[0m\u001b[0;34m.\u001b[0m\u001b[0mwarn\u001b[0m\u001b[0;34m(\u001b[0m\u001b[0mmsg\u001b[0m\u001b[0;34m,\u001b[0m \u001b[0mFutureWarning\u001b[0m\u001b[0;34m,\u001b[0m \u001b[0mstacklevel\u001b[0m\u001b[0;34m=\u001b[0m\u001b[0mstacklevel\u001b[0m\u001b[0;34m)\u001b[0m\u001b[0;34m\u001b[0m\u001b[0;34m\u001b[0m\u001b[0m\n\u001b[0;32m--> 296\u001b[0;31m             \u001b[0;32mreturn\u001b[0m \u001b[0mfunc\u001b[0m\u001b[0;34m(\u001b[0m\u001b[0;34m*\u001b[0m\u001b[0margs\u001b[0m\u001b[0;34m,\u001b[0m \u001b[0;34m**\u001b[0m\u001b[0mkwargs\u001b[0m\u001b[0;34m)\u001b[0m\u001b[0;34m\u001b[0m\u001b[0;34m\u001b[0m\u001b[0m\n\u001b[0m\u001b[1;32m    297\u001b[0m \u001b[0;34m\u001b[0m\u001b[0m\n\u001b[1;32m    298\u001b[0m         \u001b[0;32mreturn\u001b[0m \u001b[0mwrapper\u001b[0m\u001b[0;34m\u001b[0m\u001b[0;34m\u001b[0m\u001b[0m\n",
      "\u001b[0;32m~/Python/CienciaDeDados/Python3ParaCienciaDeDados/Modulo2/venv/lib/python3.8/site-packages/pandas/io/excel/_base.py\u001b[0m in \u001b[0;36mread_excel\u001b[0;34m(io, sheet_name, header, names, index_col, usecols, squeeze, dtype, engine, converters, true_values, false_values, skiprows, nrows, na_values, keep_default_na, na_filter, verbose, parse_dates, date_parser, thousands, comment, skipfooter, convert_float, mangle_dupe_cols)\u001b[0m\n\u001b[1;32m    302\u001b[0m \u001b[0;34m\u001b[0m\u001b[0m\n\u001b[1;32m    303\u001b[0m     \u001b[0;32mif\u001b[0m \u001b[0;32mnot\u001b[0m \u001b[0misinstance\u001b[0m\u001b[0;34m(\u001b[0m\u001b[0mio\u001b[0m\u001b[0;34m,\u001b[0m \u001b[0mExcelFile\u001b[0m\u001b[0;34m)\u001b[0m\u001b[0;34m:\u001b[0m\u001b[0;34m\u001b[0m\u001b[0;34m\u001b[0m\u001b[0m\n\u001b[0;32m--> 304\u001b[0;31m         \u001b[0mio\u001b[0m \u001b[0;34m=\u001b[0m \u001b[0mExcelFile\u001b[0m\u001b[0;34m(\u001b[0m\u001b[0mio\u001b[0m\u001b[0;34m,\u001b[0m \u001b[0mengine\u001b[0m\u001b[0;34m=\u001b[0m\u001b[0mengine\u001b[0m\u001b[0;34m)\u001b[0m\u001b[0;34m\u001b[0m\u001b[0;34m\u001b[0m\u001b[0m\n\u001b[0m\u001b[1;32m    305\u001b[0m     \u001b[0;32melif\u001b[0m \u001b[0mengine\u001b[0m \u001b[0;32mand\u001b[0m \u001b[0mengine\u001b[0m \u001b[0;34m!=\u001b[0m \u001b[0mio\u001b[0m\u001b[0;34m.\u001b[0m\u001b[0mengine\u001b[0m\u001b[0;34m:\u001b[0m\u001b[0;34m\u001b[0m\u001b[0;34m\u001b[0m\u001b[0m\n\u001b[1;32m    306\u001b[0m         raise ValueError(\n",
      "\u001b[0;32m~/Python/CienciaDeDados/Python3ParaCienciaDeDados/Modulo2/venv/lib/python3.8/site-packages/pandas/io/excel/_base.py\u001b[0m in \u001b[0;36m__init__\u001b[0;34m(self, path_or_buffer, engine)\u001b[0m\n\u001b[1;32m    865\u001b[0m         \u001b[0mself\u001b[0m\u001b[0;34m.\u001b[0m\u001b[0m_io\u001b[0m \u001b[0;34m=\u001b[0m \u001b[0mstringify_path\u001b[0m\u001b[0;34m(\u001b[0m\u001b[0mpath_or_buffer\u001b[0m\u001b[0;34m)\u001b[0m\u001b[0;34m\u001b[0m\u001b[0;34m\u001b[0m\u001b[0m\n\u001b[1;32m    866\u001b[0m \u001b[0;34m\u001b[0m\u001b[0m\n\u001b[0;32m--> 867\u001b[0;31m         \u001b[0mself\u001b[0m\u001b[0;34m.\u001b[0m\u001b[0m_reader\u001b[0m \u001b[0;34m=\u001b[0m \u001b[0mself\u001b[0m\u001b[0;34m.\u001b[0m\u001b[0m_engines\u001b[0m\u001b[0;34m[\u001b[0m\u001b[0mengine\u001b[0m\u001b[0;34m]\u001b[0m\u001b[0;34m(\u001b[0m\u001b[0mself\u001b[0m\u001b[0;34m.\u001b[0m\u001b[0m_io\u001b[0m\u001b[0;34m)\u001b[0m\u001b[0;34m\u001b[0m\u001b[0;34m\u001b[0m\u001b[0m\n\u001b[0m\u001b[1;32m    868\u001b[0m \u001b[0;34m\u001b[0m\u001b[0m\n\u001b[1;32m    869\u001b[0m     \u001b[0;32mdef\u001b[0m \u001b[0m__fspath__\u001b[0m\u001b[0;34m(\u001b[0m\u001b[0mself\u001b[0m\u001b[0;34m)\u001b[0m\u001b[0;34m:\u001b[0m\u001b[0;34m\u001b[0m\u001b[0;34m\u001b[0m\u001b[0m\n",
      "\u001b[0;32m~/Python/CienciaDeDados/Python3ParaCienciaDeDados/Modulo2/venv/lib/python3.8/site-packages/pandas/io/excel/_xlrd.py\u001b[0m in \u001b[0;36m__init__\u001b[0;34m(self, filepath_or_buffer)\u001b[0m\n\u001b[1;32m     19\u001b[0m         \"\"\"\n\u001b[1;32m     20\u001b[0m         \u001b[0merr_msg\u001b[0m \u001b[0;34m=\u001b[0m \u001b[0;34m\"Install xlrd >= 1.0.0 for Excel support\"\u001b[0m\u001b[0;34m\u001b[0m\u001b[0;34m\u001b[0m\u001b[0m\n\u001b[0;32m---> 21\u001b[0;31m         \u001b[0mimport_optional_dependency\u001b[0m\u001b[0;34m(\u001b[0m\u001b[0;34m\"xlrd\"\u001b[0m\u001b[0;34m,\u001b[0m \u001b[0mextra\u001b[0m\u001b[0;34m=\u001b[0m\u001b[0merr_msg\u001b[0m\u001b[0;34m)\u001b[0m\u001b[0;34m\u001b[0m\u001b[0;34m\u001b[0m\u001b[0m\n\u001b[0m\u001b[1;32m     22\u001b[0m         \u001b[0msuper\u001b[0m\u001b[0;34m(\u001b[0m\u001b[0;34m)\u001b[0m\u001b[0;34m.\u001b[0m\u001b[0m__init__\u001b[0m\u001b[0;34m(\u001b[0m\u001b[0mfilepath_or_buffer\u001b[0m\u001b[0;34m)\u001b[0m\u001b[0;34m\u001b[0m\u001b[0;34m\u001b[0m\u001b[0m\n\u001b[1;32m     23\u001b[0m \u001b[0;34m\u001b[0m\u001b[0m\n",
      "\u001b[0;32m~/Python/CienciaDeDados/Python3ParaCienciaDeDados/Modulo2/venv/lib/python3.8/site-packages/pandas/compat/_optional.py\u001b[0m in \u001b[0;36mimport_optional_dependency\u001b[0;34m(name, extra, raise_on_missing, on_version)\u001b[0m\n\u001b[1;32m    108\u001b[0m     \u001b[0;32mexcept\u001b[0m \u001b[0mImportError\u001b[0m\u001b[0;34m:\u001b[0m\u001b[0;34m\u001b[0m\u001b[0;34m\u001b[0m\u001b[0m\n\u001b[1;32m    109\u001b[0m         \u001b[0;32mif\u001b[0m \u001b[0mraise_on_missing\u001b[0m\u001b[0;34m:\u001b[0m\u001b[0;34m\u001b[0m\u001b[0;34m\u001b[0m\u001b[0m\n\u001b[0;32m--> 110\u001b[0;31m             \u001b[0;32mraise\u001b[0m \u001b[0mImportError\u001b[0m\u001b[0;34m(\u001b[0m\u001b[0mmsg\u001b[0m\u001b[0;34m)\u001b[0m \u001b[0;32mfrom\u001b[0m \u001b[0;32mNone\u001b[0m\u001b[0;34m\u001b[0m\u001b[0;34m\u001b[0m\u001b[0m\n\u001b[0m\u001b[1;32m    111\u001b[0m         \u001b[0;32melse\u001b[0m\u001b[0;34m:\u001b[0m\u001b[0;34m\u001b[0m\u001b[0;34m\u001b[0m\u001b[0m\n\u001b[1;32m    112\u001b[0m             \u001b[0;32mreturn\u001b[0m \u001b[0;32mNone\u001b[0m\u001b[0;34m\u001b[0m\u001b[0;34m\u001b[0m\u001b[0m\n",
      "\u001b[0;31mImportError\u001b[0m: Missing optional dependency 'xlrd'. Install xlrd >= 1.0.0 for Excel support Use pip or conda to install xlrd."
     ]
    }
   ],
   "source": [
    "df_exel = pd.read_excel('dados/aluguel.xlsx')\n",
    "df_exel"
   ]
  },
  {
   "cell_type": "code",
   "execution_count": 10,
   "metadata": {},
   "outputs": [
    {
     "output_type": "execute_result",
     "data": {
      "text/plain": [
       "[  FAIXA ETÁRIA UNAFISCO SAÚDE SOFT II SOFT PARTICIPATIVO      UNIQUE\n",
       " 0      00 A 18               R$218,99           R$192,60    R$334,48\n",
       " 1      19 A 23               R$263,63           R$207,67    R$380,06\n",
       " 2      24 A 28               R$322,44           R$224,26    R$464,39\n",
       " 3      29 A 33               R$402,05           R$258,63    R$566,68\n",
       " 4      34 A 38               R$455,17           R$306,37    R$664,61\n",
       " 5      39 A 43               R$489,29           R$417,93    R$742,72\n",
       " 6      44 A 48               R$582,65           R$495,24    R$869,47\n",
       " 7      49 A 53               R$718,86           R$562,64  R$1.046,29\n",
       " 8      54 A 58               R$908,54           R$721,00  R$1.355,74\n",
       " 9   59 OU MAIS             R$1.244,50         R$1.151,62  R$2.003,53]"
      ]
     },
     "metadata": {},
     "execution_count": 10
    }
   ],
   "source": [
    "df_hmtl = pd.read_html('dados/dados_html_1.html')\n",
    "df_hmtl"
   ]
  },
  {
   "cell_type": "code",
   "execution_count": 11,
   "metadata": {},
   "outputs": [
    {
     "output_type": "execute_result",
     "data": {
      "text/plain": [
       "3"
      ]
     },
     "metadata": {},
     "execution_count": 11
    }
   ],
   "source": [
    "df_hmtl2 = pd.read_html('dados/dados_html_2.html')\n",
    "len(df_hmtl2)"
   ]
  },
  {
   "cell_type": "code",
   "execution_count": 12,
   "metadata": {},
   "outputs": [
    {
     "output_type": "execute_result",
     "data": {
      "text/plain": [
       "                  Date      Reserve balances required  \\\n",
       "                  Date Reserve balance requirements 1   \n",
       "0              Month 7                        Month 7   \n",
       "1            Apr. 2017                         113224   \n",
       "2             May 2017                         115464   \n",
       "3            June 2017                         118187   \n",
       "4            July 2017                         120636   \n",
       "5            Aug. 2017                         120091   \n",
       "6           Sept. 2017                         122109   \n",
       "7            Oct. 2017                         116873   \n",
       "8            Nov. 2017                         123141   \n",
       "9            Dec. 2017                         123720   \n",
       "10           Jan. 2018                         126792   \n",
       "11           Feb. 2018                         124006   \n",
       "12           Mar. 2018                         120285   \n",
       "13           Apr. 2018                         126415   \n",
       "14                 NaN                            NaN   \n",
       "15  Two weeks ending 8             Two weeks ending 8   \n",
       "16       Mar. 14, 2018                         118515   \n",
       "17       Mar. 28, 2018                         121797   \n",
       "18       Apr. 11, 2018                         121488   \n",
       "19       Apr. 25, 2018                         128536   \n",
       "20         May 9, 2018                         131316   \n",
       "\n",
       "                                                               \\\n",
       "   Top of penalty- free band 2 Bottom of penalty- free band 3   \n",
       "0                      Month 7                        Month 7   \n",
       "1                       124561                         101890   \n",
       "2                       127023                         103906   \n",
       "3                       130018                         106357   \n",
       "4                       132712                         108561   \n",
       "5                       132113                         108071   \n",
       "6                       134332                         109887   \n",
       "7                       128574                         105176   \n",
       "8                       135467                         110816   \n",
       "9                       136103                         111337   \n",
       "10                      139484                         114101   \n",
       "11                      136420                         111594   \n",
       "12                      132326                         108245   \n",
       "13                      139070                         113762   \n",
       "14                         NaN                            NaN   \n",
       "15          Two weeks ending 8             Two weeks ending 8   \n",
       "16                      130379                         106652   \n",
       "17                      133989                         109606   \n",
       "18                      133650                         109327   \n",
       "19                      141404                         115671   \n",
       "20                      144460                         118174   \n",
       "\n",
       "   Reserve balances maintained 4  \\\n",
       "                           Total   \n",
       "0                        Month 7   \n",
       "1                        2281420   \n",
       "2                        2225769   \n",
       "3                        2206547   \n",
       "4                        2233323   \n",
       "5                        2344015   \n",
       "6                        2295735   \n",
       "7                        2245701   \n",
       "8                        2314455   \n",
       "9                        2244274   \n",
       "10                       2214601   \n",
       "11                       2238775   \n",
       "12                       2167009   \n",
       "13                       2086192   \n",
       "14                           NaN   \n",
       "15            Two weeks ending 8   \n",
       "16                       2228423   \n",
       "17                       2118454   \n",
       "18                       2107005   \n",
       "19                       2096990   \n",
       "20                       2010167   \n",
       "\n",
       "                                                                  \\\n",
       "   Balances maintained to satisfy reserve balance requirements 5   \n",
       "0                                             Month 7              \n",
       "1                                              124219              \n",
       "2                                              126547              \n",
       "3                                              129695              \n",
       "4                                              132296              \n",
       "5                                              131641              \n",
       "6                                              133950              \n",
       "7                                              128204              \n",
       "8                                              134981              \n",
       "9                                              135719              \n",
       "10                                             138807              \n",
       "11                                             135786              \n",
       "12                                             131778              \n",
       "13                                             138481              \n",
       "14                                                NaN              \n",
       "15                                 Two weeks ending 8              \n",
       "16                                             129881              \n",
       "17                                             133368              \n",
       "18                                             133207              \n",
       "19                                             140741              \n",
       "20                                             143758              \n",
       "\n",
       "                                                                        \n",
       "   Balances maintained that exceed the top of the penalty- free band 6  \n",
       "0                                             Month 7                   \n",
       "1                                             2157202                   \n",
       "2                                             2099222                   \n",
       "3                                             2076852                   \n",
       "4                                             2101027                   \n",
       "5                                             2212375                   \n",
       "6                                             2161785                   \n",
       "7                                             2117497                   \n",
       "8                                             2179474                   \n",
       "9                                             2108555                   \n",
       "10                                            2075794                   \n",
       "11                                            2102989                   \n",
       "12                                            2035232                   \n",
       "13                                            1947710                   \n",
       "14                                                NaN                   \n",
       "15                                 Two weeks ending 8                   \n",
       "16                                            2098542                   \n",
       "17                                            1985086                   \n",
       "18                                            1973798                   \n",
       "19                                            1956249                   \n",
       "20                                            1866409                   "
      ],
      "text/html": "<div>\n<style scoped>\n    .dataframe tbody tr th:only-of-type {\n        vertical-align: middle;\n    }\n\n    .dataframe tbody tr th {\n        vertical-align: top;\n    }\n\n    .dataframe thead tr th {\n        text-align: left;\n    }\n</style>\n<table border=\"1\" class=\"dataframe\">\n  <thead>\n    <tr>\n      <th></th>\n      <th>Date</th>\n      <th colspan=\"3\" halign=\"left\">Reserve balances required</th>\n      <th colspan=\"3\" halign=\"left\">Reserve balances maintained 4</th>\n    </tr>\n    <tr>\n      <th></th>\n      <th>Date</th>\n      <th>Reserve balance requirements 1</th>\n      <th>Top of penalty- free band 2</th>\n      <th>Bottom of penalty- free band 3</th>\n      <th>Total</th>\n      <th>Balances maintained to satisfy reserve balance requirements 5</th>\n      <th>Balances maintained that exceed the top of the penalty- free band 6</th>\n    </tr>\n  </thead>\n  <tbody>\n    <tr>\n      <th>0</th>\n      <td>Month 7</td>\n      <td>Month 7</td>\n      <td>Month 7</td>\n      <td>Month 7</td>\n      <td>Month 7</td>\n      <td>Month 7</td>\n      <td>Month 7</td>\n    </tr>\n    <tr>\n      <th>1</th>\n      <td>Apr. 2017</td>\n      <td>113224</td>\n      <td>124561</td>\n      <td>101890</td>\n      <td>2281420</td>\n      <td>124219</td>\n      <td>2157202</td>\n    </tr>\n    <tr>\n      <th>2</th>\n      <td>May 2017</td>\n      <td>115464</td>\n      <td>127023</td>\n      <td>103906</td>\n      <td>2225769</td>\n      <td>126547</td>\n      <td>2099222</td>\n    </tr>\n    <tr>\n      <th>3</th>\n      <td>June 2017</td>\n      <td>118187</td>\n      <td>130018</td>\n      <td>106357</td>\n      <td>2206547</td>\n      <td>129695</td>\n      <td>2076852</td>\n    </tr>\n    <tr>\n      <th>4</th>\n      <td>July 2017</td>\n      <td>120636</td>\n      <td>132712</td>\n      <td>108561</td>\n      <td>2233323</td>\n      <td>132296</td>\n      <td>2101027</td>\n    </tr>\n    <tr>\n      <th>5</th>\n      <td>Aug. 2017</td>\n      <td>120091</td>\n      <td>132113</td>\n      <td>108071</td>\n      <td>2344015</td>\n      <td>131641</td>\n      <td>2212375</td>\n    </tr>\n    <tr>\n      <th>6</th>\n      <td>Sept. 2017</td>\n      <td>122109</td>\n      <td>134332</td>\n      <td>109887</td>\n      <td>2295735</td>\n      <td>133950</td>\n      <td>2161785</td>\n    </tr>\n    <tr>\n      <th>7</th>\n      <td>Oct. 2017</td>\n      <td>116873</td>\n      <td>128574</td>\n      <td>105176</td>\n      <td>2245701</td>\n      <td>128204</td>\n      <td>2117497</td>\n    </tr>\n    <tr>\n      <th>8</th>\n      <td>Nov. 2017</td>\n      <td>123141</td>\n      <td>135467</td>\n      <td>110816</td>\n      <td>2314455</td>\n      <td>134981</td>\n      <td>2179474</td>\n    </tr>\n    <tr>\n      <th>9</th>\n      <td>Dec. 2017</td>\n      <td>123720</td>\n      <td>136103</td>\n      <td>111337</td>\n      <td>2244274</td>\n      <td>135719</td>\n      <td>2108555</td>\n    </tr>\n    <tr>\n      <th>10</th>\n      <td>Jan. 2018</td>\n      <td>126792</td>\n      <td>139484</td>\n      <td>114101</td>\n      <td>2214601</td>\n      <td>138807</td>\n      <td>2075794</td>\n    </tr>\n    <tr>\n      <th>11</th>\n      <td>Feb. 2018</td>\n      <td>124006</td>\n      <td>136420</td>\n      <td>111594</td>\n      <td>2238775</td>\n      <td>135786</td>\n      <td>2102989</td>\n    </tr>\n    <tr>\n      <th>12</th>\n      <td>Mar. 2018</td>\n      <td>120285</td>\n      <td>132326</td>\n      <td>108245</td>\n      <td>2167009</td>\n      <td>131778</td>\n      <td>2035232</td>\n    </tr>\n    <tr>\n      <th>13</th>\n      <td>Apr. 2018</td>\n      <td>126415</td>\n      <td>139070</td>\n      <td>113762</td>\n      <td>2086192</td>\n      <td>138481</td>\n      <td>1947710</td>\n    </tr>\n    <tr>\n      <th>14</th>\n      <td>NaN</td>\n      <td>NaN</td>\n      <td>NaN</td>\n      <td>NaN</td>\n      <td>NaN</td>\n      <td>NaN</td>\n      <td>NaN</td>\n    </tr>\n    <tr>\n      <th>15</th>\n      <td>Two weeks ending 8</td>\n      <td>Two weeks ending 8</td>\n      <td>Two weeks ending 8</td>\n      <td>Two weeks ending 8</td>\n      <td>Two weeks ending 8</td>\n      <td>Two weeks ending 8</td>\n      <td>Two weeks ending 8</td>\n    </tr>\n    <tr>\n      <th>16</th>\n      <td>Mar. 14, 2018</td>\n      <td>118515</td>\n      <td>130379</td>\n      <td>106652</td>\n      <td>2228423</td>\n      <td>129881</td>\n      <td>2098542</td>\n    </tr>\n    <tr>\n      <th>17</th>\n      <td>Mar. 28, 2018</td>\n      <td>121797</td>\n      <td>133989</td>\n      <td>109606</td>\n      <td>2118454</td>\n      <td>133368</td>\n      <td>1985086</td>\n    </tr>\n    <tr>\n      <th>18</th>\n      <td>Apr. 11, 2018</td>\n      <td>121488</td>\n      <td>133650</td>\n      <td>109327</td>\n      <td>2107005</td>\n      <td>133207</td>\n      <td>1973798</td>\n    </tr>\n    <tr>\n      <th>19</th>\n      <td>Apr. 25, 2018</td>\n      <td>128536</td>\n      <td>141404</td>\n      <td>115671</td>\n      <td>2096990</td>\n      <td>140741</td>\n      <td>1956249</td>\n    </tr>\n    <tr>\n      <th>20</th>\n      <td>May 9, 2018</td>\n      <td>131316</td>\n      <td>144460</td>\n      <td>118174</td>\n      <td>2010167</td>\n      <td>143758</td>\n      <td>1866409</td>\n    </tr>\n  </tbody>\n</table>\n</div>"
     },
     "metadata": {},
     "execution_count": 12
    }
   ],
   "source": [
    "df_hmtl2[0]"
   ]
  },
  {
   "cell_type": "code",
   "execution_count": 13,
   "metadata": {},
   "outputs": [
    {
     "output_type": "execute_result",
     "data": {
      "text/plain": [
       "                  Date            Reserves                      \\\n",
       "                  Date             Total 1            Required   \n",
       "0              Month 7             Month 7             Month 7   \n",
       "1            Apr. 2017             2344812              176616   \n",
       "2             May 2017             2288936              178630   \n",
       "3            June 2017             2269683              181324   \n",
       "4            July 2017             2296929              184242   \n",
       "5            Aug. 2017             2407173              183249   \n",
       "6           Sept. 2017             2357875              184248   \n",
       "7            Oct. 2017             2310902              182074   \n",
       "8            Nov. 2017             2378282              186968   \n",
       "9            Dec. 2017             2309823              189269   \n",
       "10           Jan. 2018             2281018              193209   \n",
       "11           Feb. 2018             2305256              190487   \n",
       "12           Mar. 2018             2230875              184151   \n",
       "13           Apr. 2018             2151047              191270   \n",
       "14                 NaN                 NaN                 NaN   \n",
       "15  Two weeks ending 8  Two weeks ending 8  Two weeks ending 8   \n",
       "16       Mar. 14, 2018             2290434              180526   \n",
       "17       Mar. 28, 2018             2184214              187557   \n",
       "18       Apr. 11, 2018             2170690              185173   \n",
       "19       Apr. 25, 2018             2162634              194180   \n",
       "20         May 9, 2018             2075389              196538   \n",
       "\n",
       "          Vault cash 2                                      \\\n",
       "                 Total Used to satisfy required reserves 3   \n",
       "0              Month 7                             Month 7   \n",
       "1                74055                               63392   \n",
       "2                72954                               63167   \n",
       "3                72881                               63137   \n",
       "4                73572                               63606   \n",
       "5                74401                               63158   \n",
       "6                73042                               62140   \n",
       "7                76481                               65200   \n",
       "8                74574                               63827   \n",
       "9                76633                               65549   \n",
       "10               77218                               66417   \n",
       "11               78800                               66481   \n",
       "12               75286                               63866   \n",
       "13               75657                               64855   \n",
       "14                 NaN                                 NaN   \n",
       "15  Two weeks ending 8                  Two weeks ending 8   \n",
       "16               73805                               62011   \n",
       "17               76641                               65760   \n",
       "18               75879                               63685   \n",
       "19               75843                               65644   \n",
       "20               74646                               65222   \n",
       "\n",
       "                             Monetary base                              \\\n",
       "             Surplus 4             Total 5 Total balances maintained 6   \n",
       "0              Month 7             Month 7                     Month 7   \n",
       "1                10663             3821697                     2281420   \n",
       "2                 9787             3774412                     2225769   \n",
       "3                 9745             3762780                     2206547   \n",
       "4                 9966             3795430                     2233323   \n",
       "5                11243             3910022                     2344015   \n",
       "6                10902             3874490                     2295735   \n",
       "7                11281             3829910                     2245701   \n",
       "8                10747             3907735                     2314455   \n",
       "9                11085             3850969                     2244274   \n",
       "10               10801             3824795                     2214601   \n",
       "11               12319             3855091                     2238775   \n",
       "12               11420             3800660                     2167009   \n",
       "13               10801             3727183                     2086192   \n",
       "14                 NaN                 NaN                         NaN   \n",
       "15  Two weeks ending 8  Two weeks ending 8          Two weeks ending 8   \n",
       "16               11794             3859851                     2228423   \n",
       "17               10881             3753207                     2118454   \n",
       "18               12194             3745889                     2107005   \n",
       "19               10199             3738127                     2096990   \n",
       "20                9424             3655386                     2010167   \n",
       "\n",
       "                            \n",
       "   Currency in circulation  \n",
       "0                  Month 7  \n",
       "1                  1540277  \n",
       "2                  1548643  \n",
       "3                  1556234  \n",
       "4                  1562107  \n",
       "5                  1566007  \n",
       "6                  1578756  \n",
       "7                  1584208  \n",
       "8                  1593280  \n",
       "9                  1606695  \n",
       "10                 1610195  \n",
       "11                 1616316  \n",
       "12                 1633651  \n",
       "13                 1640991  \n",
       "14                     NaN  \n",
       "15      Two weeks ending 8  \n",
       "16                 1631428  \n",
       "17                 1634753  \n",
       "18                 1638884  \n",
       "19                 1641137  \n",
       "20                 1645219  "
      ],
      "text/html": "<div>\n<style scoped>\n    .dataframe tbody tr th:only-of-type {\n        vertical-align: middle;\n    }\n\n    .dataframe tbody tr th {\n        vertical-align: top;\n    }\n\n    .dataframe thead tr th {\n        text-align: left;\n    }\n</style>\n<table border=\"1\" class=\"dataframe\">\n  <thead>\n    <tr>\n      <th></th>\n      <th>Date</th>\n      <th colspan=\"2\" halign=\"left\">Reserves</th>\n      <th colspan=\"3\" halign=\"left\">Vault cash 2</th>\n      <th colspan=\"3\" halign=\"left\">Monetary base</th>\n    </tr>\n    <tr>\n      <th></th>\n      <th>Date</th>\n      <th>Total 1</th>\n      <th>Required</th>\n      <th>Total</th>\n      <th>Used to satisfy required reserves 3</th>\n      <th>Surplus 4</th>\n      <th>Total 5</th>\n      <th>Total balances maintained 6</th>\n      <th>Currency in circulation</th>\n    </tr>\n  </thead>\n  <tbody>\n    <tr>\n      <th>0</th>\n      <td>Month 7</td>\n      <td>Month 7</td>\n      <td>Month 7</td>\n      <td>Month 7</td>\n      <td>Month 7</td>\n      <td>Month 7</td>\n      <td>Month 7</td>\n      <td>Month 7</td>\n      <td>Month 7</td>\n    </tr>\n    <tr>\n      <th>1</th>\n      <td>Apr. 2017</td>\n      <td>2344812</td>\n      <td>176616</td>\n      <td>74055</td>\n      <td>63392</td>\n      <td>10663</td>\n      <td>3821697</td>\n      <td>2281420</td>\n      <td>1540277</td>\n    </tr>\n    <tr>\n      <th>2</th>\n      <td>May 2017</td>\n      <td>2288936</td>\n      <td>178630</td>\n      <td>72954</td>\n      <td>63167</td>\n      <td>9787</td>\n      <td>3774412</td>\n      <td>2225769</td>\n      <td>1548643</td>\n    </tr>\n    <tr>\n      <th>3</th>\n      <td>June 2017</td>\n      <td>2269683</td>\n      <td>181324</td>\n      <td>72881</td>\n      <td>63137</td>\n      <td>9745</td>\n      <td>3762780</td>\n      <td>2206547</td>\n      <td>1556234</td>\n    </tr>\n    <tr>\n      <th>4</th>\n      <td>July 2017</td>\n      <td>2296929</td>\n      <td>184242</td>\n      <td>73572</td>\n      <td>63606</td>\n      <td>9966</td>\n      <td>3795430</td>\n      <td>2233323</td>\n      <td>1562107</td>\n    </tr>\n    <tr>\n      <th>5</th>\n      <td>Aug. 2017</td>\n      <td>2407173</td>\n      <td>183249</td>\n      <td>74401</td>\n      <td>63158</td>\n      <td>11243</td>\n      <td>3910022</td>\n      <td>2344015</td>\n      <td>1566007</td>\n    </tr>\n    <tr>\n      <th>6</th>\n      <td>Sept. 2017</td>\n      <td>2357875</td>\n      <td>184248</td>\n      <td>73042</td>\n      <td>62140</td>\n      <td>10902</td>\n      <td>3874490</td>\n      <td>2295735</td>\n      <td>1578756</td>\n    </tr>\n    <tr>\n      <th>7</th>\n      <td>Oct. 2017</td>\n      <td>2310902</td>\n      <td>182074</td>\n      <td>76481</td>\n      <td>65200</td>\n      <td>11281</td>\n      <td>3829910</td>\n      <td>2245701</td>\n      <td>1584208</td>\n    </tr>\n    <tr>\n      <th>8</th>\n      <td>Nov. 2017</td>\n      <td>2378282</td>\n      <td>186968</td>\n      <td>74574</td>\n      <td>63827</td>\n      <td>10747</td>\n      <td>3907735</td>\n      <td>2314455</td>\n      <td>1593280</td>\n    </tr>\n    <tr>\n      <th>9</th>\n      <td>Dec. 2017</td>\n      <td>2309823</td>\n      <td>189269</td>\n      <td>76633</td>\n      <td>65549</td>\n      <td>11085</td>\n      <td>3850969</td>\n      <td>2244274</td>\n      <td>1606695</td>\n    </tr>\n    <tr>\n      <th>10</th>\n      <td>Jan. 2018</td>\n      <td>2281018</td>\n      <td>193209</td>\n      <td>77218</td>\n      <td>66417</td>\n      <td>10801</td>\n      <td>3824795</td>\n      <td>2214601</td>\n      <td>1610195</td>\n    </tr>\n    <tr>\n      <th>11</th>\n      <td>Feb. 2018</td>\n      <td>2305256</td>\n      <td>190487</td>\n      <td>78800</td>\n      <td>66481</td>\n      <td>12319</td>\n      <td>3855091</td>\n      <td>2238775</td>\n      <td>1616316</td>\n    </tr>\n    <tr>\n      <th>12</th>\n      <td>Mar. 2018</td>\n      <td>2230875</td>\n      <td>184151</td>\n      <td>75286</td>\n      <td>63866</td>\n      <td>11420</td>\n      <td>3800660</td>\n      <td>2167009</td>\n      <td>1633651</td>\n    </tr>\n    <tr>\n      <th>13</th>\n      <td>Apr. 2018</td>\n      <td>2151047</td>\n      <td>191270</td>\n      <td>75657</td>\n      <td>64855</td>\n      <td>10801</td>\n      <td>3727183</td>\n      <td>2086192</td>\n      <td>1640991</td>\n    </tr>\n    <tr>\n      <th>14</th>\n      <td>NaN</td>\n      <td>NaN</td>\n      <td>NaN</td>\n      <td>NaN</td>\n      <td>NaN</td>\n      <td>NaN</td>\n      <td>NaN</td>\n      <td>NaN</td>\n      <td>NaN</td>\n    </tr>\n    <tr>\n      <th>15</th>\n      <td>Two weeks ending 8</td>\n      <td>Two weeks ending 8</td>\n      <td>Two weeks ending 8</td>\n      <td>Two weeks ending 8</td>\n      <td>Two weeks ending 8</td>\n      <td>Two weeks ending 8</td>\n      <td>Two weeks ending 8</td>\n      <td>Two weeks ending 8</td>\n      <td>Two weeks ending 8</td>\n    </tr>\n    <tr>\n      <th>16</th>\n      <td>Mar. 14, 2018</td>\n      <td>2290434</td>\n      <td>180526</td>\n      <td>73805</td>\n      <td>62011</td>\n      <td>11794</td>\n      <td>3859851</td>\n      <td>2228423</td>\n      <td>1631428</td>\n    </tr>\n    <tr>\n      <th>17</th>\n      <td>Mar. 28, 2018</td>\n      <td>2184214</td>\n      <td>187557</td>\n      <td>76641</td>\n      <td>65760</td>\n      <td>10881</td>\n      <td>3753207</td>\n      <td>2118454</td>\n      <td>1634753</td>\n    </tr>\n    <tr>\n      <th>18</th>\n      <td>Apr. 11, 2018</td>\n      <td>2170690</td>\n      <td>185173</td>\n      <td>75879</td>\n      <td>63685</td>\n      <td>12194</td>\n      <td>3745889</td>\n      <td>2107005</td>\n      <td>1638884</td>\n    </tr>\n    <tr>\n      <th>19</th>\n      <td>Apr. 25, 2018</td>\n      <td>2162634</td>\n      <td>194180</td>\n      <td>75843</td>\n      <td>65644</td>\n      <td>10199</td>\n      <td>3738127</td>\n      <td>2096990</td>\n      <td>1641137</td>\n    </tr>\n    <tr>\n      <th>20</th>\n      <td>May 9, 2018</td>\n      <td>2075389</td>\n      <td>196538</td>\n      <td>74646</td>\n      <td>65222</td>\n      <td>9424</td>\n      <td>3655386</td>\n      <td>2010167</td>\n      <td>1645219</td>\n    </tr>\n  </tbody>\n</table>\n</div>"
     },
     "metadata": {},
     "execution_count": 13
    }
   ],
   "source": [
    "df_hmtl2[1]"
   ]
  },
  {
   "cell_type": "code",
   "execution_count": 14,
   "metadata": {},
   "outputs": [
    {
     "output_type": "execute_result",
     "data": {
      "text/plain": [
       "                  Date Borrowings from the Federal Reserve  \\\n",
       "                  Date                               Total   \n",
       "0              Month 2                             Month 2   \n",
       "1            Apr. 2017                                  45   \n",
       "2             May 2017                                  56   \n",
       "3            June 2017                                  95   \n",
       "4            July 2017                                 166   \n",
       "5            Aug. 2017                                 220   \n",
       "6           Sept. 2017                                 224   \n",
       "7            Oct. 2017                                 151   \n",
       "8            Nov. 2017                                  65   \n",
       "9            Dec. 2017                                  75   \n",
       "10           Jan. 2018                                  58   \n",
       "11           Feb. 2018                                  20   \n",
       "12           Mar. 2018                                  16   \n",
       "13           Apr. 2018                                  51   \n",
       "14                 NaN                                 NaN   \n",
       "15  Two weeks ending 3                  Two weeks ending 3   \n",
       "16       Mar. 14, 2018                                  12   \n",
       "17       Mar. 28, 2018                                  18   \n",
       "18       Apr. 11, 2018                                  30   \n",
       "19       Apr. 25, 2018                                  49   \n",
       "20         May 9, 2018                                 102   \n",
       "\n",
       "                                                                \\\n",
       "               Primary           Secondary            Seasonal   \n",
       "0              Month 2             Month 2             Month 2   \n",
       "1                   21                   0                  24   \n",
       "2                   11                   0                  44   \n",
       "3                   15                   0                  80   \n",
       "4                   12                   0                 154   \n",
       "5                    7                   0                 213   \n",
       "6                   10                   0                 214   \n",
       "7                    4                   0                 146   \n",
       "8                   11                   0                  54   \n",
       "9                   43                   0                  33   \n",
       "10                  51                   0                   7   \n",
       "11                   7                   0                  14   \n",
       "12                   4                   0                  12   \n",
       "13                  16                   0                  35   \n",
       "14                 NaN                 NaN                 NaN   \n",
       "15  Two weeks ending 3  Two weeks ending 3  Two weeks ending 3   \n",
       "16                   3                   0                  10   \n",
       "17                   5                   0                  13   \n",
       "18                   6                   0                  24   \n",
       "19                  15                   0                  35   \n",
       "20                  43                   0                  59   \n",
       "\n",
       "                           Nonborrowed reserves 1  \n",
       "   Other credit extensions Nonborrowed reserves 1  \n",
       "0                  Month 2                Month 2  \n",
       "1                        0                2344767  \n",
       "2                        0                2288880  \n",
       "3                        0                2269588  \n",
       "4                        0                2296763  \n",
       "5                        0                2406953  \n",
       "6                        0                2357651  \n",
       "7                        0                2310751  \n",
       "8                        0                2378217  \n",
       "9                        0                2309747  \n",
       "10                       0                2280960  \n",
       "11                       0                2305236  \n",
       "12                       0                2230859  \n",
       "13                       0                2150996  \n",
       "14                     NaN                    NaN  \n",
       "15      Two weeks ending 3     Two weeks ending 3  \n",
       "16                       0                2290422  \n",
       "17                       0                2184197  \n",
       "18                       0                2170661  \n",
       "19                       0                2162585  \n",
       "20                       0                2075288  "
      ],
      "text/html": "<div>\n<style scoped>\n    .dataframe tbody tr th:only-of-type {\n        vertical-align: middle;\n    }\n\n    .dataframe tbody tr th {\n        vertical-align: top;\n    }\n\n    .dataframe thead tr th {\n        text-align: left;\n    }\n</style>\n<table border=\"1\" class=\"dataframe\">\n  <thead>\n    <tr>\n      <th></th>\n      <th>Date</th>\n      <th colspan=\"5\" halign=\"left\">Borrowings from the Federal Reserve</th>\n      <th>Nonborrowed reserves 1</th>\n    </tr>\n    <tr>\n      <th></th>\n      <th>Date</th>\n      <th>Total</th>\n      <th>Primary</th>\n      <th>Secondary</th>\n      <th>Seasonal</th>\n      <th>Other credit extensions</th>\n      <th>Nonborrowed reserves 1</th>\n    </tr>\n  </thead>\n  <tbody>\n    <tr>\n      <th>0</th>\n      <td>Month 2</td>\n      <td>Month 2</td>\n      <td>Month 2</td>\n      <td>Month 2</td>\n      <td>Month 2</td>\n      <td>Month 2</td>\n      <td>Month 2</td>\n    </tr>\n    <tr>\n      <th>1</th>\n      <td>Apr. 2017</td>\n      <td>45</td>\n      <td>21</td>\n      <td>0</td>\n      <td>24</td>\n      <td>0</td>\n      <td>2344767</td>\n    </tr>\n    <tr>\n      <th>2</th>\n      <td>May 2017</td>\n      <td>56</td>\n      <td>11</td>\n      <td>0</td>\n      <td>44</td>\n      <td>0</td>\n      <td>2288880</td>\n    </tr>\n    <tr>\n      <th>3</th>\n      <td>June 2017</td>\n      <td>95</td>\n      <td>15</td>\n      <td>0</td>\n      <td>80</td>\n      <td>0</td>\n      <td>2269588</td>\n    </tr>\n    <tr>\n      <th>4</th>\n      <td>July 2017</td>\n      <td>166</td>\n      <td>12</td>\n      <td>0</td>\n      <td>154</td>\n      <td>0</td>\n      <td>2296763</td>\n    </tr>\n    <tr>\n      <th>5</th>\n      <td>Aug. 2017</td>\n      <td>220</td>\n      <td>7</td>\n      <td>0</td>\n      <td>213</td>\n      <td>0</td>\n      <td>2406953</td>\n    </tr>\n    <tr>\n      <th>6</th>\n      <td>Sept. 2017</td>\n      <td>224</td>\n      <td>10</td>\n      <td>0</td>\n      <td>214</td>\n      <td>0</td>\n      <td>2357651</td>\n    </tr>\n    <tr>\n      <th>7</th>\n      <td>Oct. 2017</td>\n      <td>151</td>\n      <td>4</td>\n      <td>0</td>\n      <td>146</td>\n      <td>0</td>\n      <td>2310751</td>\n    </tr>\n    <tr>\n      <th>8</th>\n      <td>Nov. 2017</td>\n      <td>65</td>\n      <td>11</td>\n      <td>0</td>\n      <td>54</td>\n      <td>0</td>\n      <td>2378217</td>\n    </tr>\n    <tr>\n      <th>9</th>\n      <td>Dec. 2017</td>\n      <td>75</td>\n      <td>43</td>\n      <td>0</td>\n      <td>33</td>\n      <td>0</td>\n      <td>2309747</td>\n    </tr>\n    <tr>\n      <th>10</th>\n      <td>Jan. 2018</td>\n      <td>58</td>\n      <td>51</td>\n      <td>0</td>\n      <td>7</td>\n      <td>0</td>\n      <td>2280960</td>\n    </tr>\n    <tr>\n      <th>11</th>\n      <td>Feb. 2018</td>\n      <td>20</td>\n      <td>7</td>\n      <td>0</td>\n      <td>14</td>\n      <td>0</td>\n      <td>2305236</td>\n    </tr>\n    <tr>\n      <th>12</th>\n      <td>Mar. 2018</td>\n      <td>16</td>\n      <td>4</td>\n      <td>0</td>\n      <td>12</td>\n      <td>0</td>\n      <td>2230859</td>\n    </tr>\n    <tr>\n      <th>13</th>\n      <td>Apr. 2018</td>\n      <td>51</td>\n      <td>16</td>\n      <td>0</td>\n      <td>35</td>\n      <td>0</td>\n      <td>2150996</td>\n    </tr>\n    <tr>\n      <th>14</th>\n      <td>NaN</td>\n      <td>NaN</td>\n      <td>NaN</td>\n      <td>NaN</td>\n      <td>NaN</td>\n      <td>NaN</td>\n      <td>NaN</td>\n    </tr>\n    <tr>\n      <th>15</th>\n      <td>Two weeks ending 3</td>\n      <td>Two weeks ending 3</td>\n      <td>Two weeks ending 3</td>\n      <td>Two weeks ending 3</td>\n      <td>Two weeks ending 3</td>\n      <td>Two weeks ending 3</td>\n      <td>Two weeks ending 3</td>\n    </tr>\n    <tr>\n      <th>16</th>\n      <td>Mar. 14, 2018</td>\n      <td>12</td>\n      <td>3</td>\n      <td>0</td>\n      <td>10</td>\n      <td>0</td>\n      <td>2290422</td>\n    </tr>\n    <tr>\n      <th>17</th>\n      <td>Mar. 28, 2018</td>\n      <td>18</td>\n      <td>5</td>\n      <td>0</td>\n      <td>13</td>\n      <td>0</td>\n      <td>2184197</td>\n    </tr>\n    <tr>\n      <th>18</th>\n      <td>Apr. 11, 2018</td>\n      <td>30</td>\n      <td>6</td>\n      <td>0</td>\n      <td>24</td>\n      <td>0</td>\n      <td>2170661</td>\n    </tr>\n    <tr>\n      <th>19</th>\n      <td>Apr. 25, 2018</td>\n      <td>49</td>\n      <td>15</td>\n      <td>0</td>\n      <td>35</td>\n      <td>0</td>\n      <td>2162585</td>\n    </tr>\n    <tr>\n      <th>20</th>\n      <td>May 9, 2018</td>\n      <td>102</td>\n      <td>43</td>\n      <td>0</td>\n      <td>59</td>\n      <td>0</td>\n      <td>2075288</td>\n    </tr>\n  </tbody>\n</table>\n</div>"
     },
     "metadata": {},
     "execution_count": 14
    }
   ],
   "source": [
    "df_hmtl2[2]"
   ]
  },
  {
   "cell_type": "code",
   "execution_count": 34,
   "metadata": {},
   "outputs": [
    {
     "output_type": "execute_result",
     "data": {
      "text/plain": [
       "  CLASSIFICAÇÃO  P  J  V  D  GP  GC  SG\n",
       "0       1Zoltan  6  2  2  0   7   0   7\n",
       "1       2ExFury  3  1  1  0   7   1   6\n",
       "2         3Neon  3  4  1  3   2  14 -12\n",
       "3   4Gabriels3t  0  1  0  1   0   1  -1"
      ],
      "text/html": "<div>\n<style scoped>\n    .dataframe tbody tr th:only-of-type {\n        vertical-align: middle;\n    }\n\n    .dataframe tbody tr th {\n        vertical-align: top;\n    }\n\n    .dataframe thead th {\n        text-align: right;\n    }\n</style>\n<table border=\"1\" class=\"dataframe\">\n  <thead>\n    <tr style=\"text-align: right;\">\n      <th></th>\n      <th>CLASSIFICAÇÃO</th>\n      <th>P</th>\n      <th>J</th>\n      <th>V</th>\n      <th>D</th>\n      <th>GP</th>\n      <th>GC</th>\n      <th>SG</th>\n    </tr>\n  </thead>\n  <tbody>\n    <tr>\n      <th>0</th>\n      <td>1Zoltan</td>\n      <td>6</td>\n      <td>2</td>\n      <td>2</td>\n      <td>0</td>\n      <td>7</td>\n      <td>0</td>\n      <td>7</td>\n    </tr>\n    <tr>\n      <th>1</th>\n      <td>2ExFury</td>\n      <td>3</td>\n      <td>1</td>\n      <td>1</td>\n      <td>0</td>\n      <td>7</td>\n      <td>1</td>\n      <td>6</td>\n    </tr>\n    <tr>\n      <th>2</th>\n      <td>3Neon</td>\n      <td>3</td>\n      <td>4</td>\n      <td>1</td>\n      <td>3</td>\n      <td>2</td>\n      <td>14</td>\n      <td>-12</td>\n    </tr>\n    <tr>\n      <th>3</th>\n      <td>4Gabriels3t</td>\n      <td>0</td>\n      <td>1</td>\n      <td>0</td>\n      <td>1</td>\n      <td>0</td>\n      <td>1</td>\n      <td>-1</td>\n    </tr>\n  </tbody>\n</table>\n</div>"
     },
     "metadata": {},
     "execution_count": 34
    }
   ],
   "source": [
    "teste = pd.read_html('<div id=\"championship-infos\" class=\"championship-infos\"><img src=\"/static/media/logo.c061499a.svg\" alt=\"Rocket League\"><table class=\"content-table\"><thead><tr><th>CLASSIFICAÇÃO</th><th>P</th><th>J</th><th>V</th><th>D</th><th>GP</th><th>GC</th><th>SG</th></tr></thead><tbody><tr><td><h3><p>1</p>Zoltan</h3></td><td>6</td><td>2</td><td>2</td><td>0</td><td>7</td><td>0</td><td>7</td></tr><tr><td><h3><p>2</p>ExFury</h3></td><td>3</td><td>1</td><td>1</td><td>0</td><td>7</td><td>1</td><td>6</td></tr><tr><td><h3><p>3</p>Neon</h3></td><td>3</td><td>4</td><td>1</td><td>3</td><td>2</td><td>14</td><td>-12</td></tr><tr><td><h3><p>4</p>Gabriels3t</h3></td><td>0</td><td>1</td><td>0</td><td>1</td><td>0</td><td>1</td><td>-1</td></tr></tbody></table></div>')\n",
    "teste[0]"
   ]
  },
  {
   "cell_type": "code",
   "execution_count": 33,
   "metadata": {},
   "outputs": [
    {
     "output_type": "execute_result",
     "data": {
      "text/plain": [
       "   score  wins  loses  goalsScored  concededGoals  goalDifference  \\\n",
       "0      6     2      0            7              0               7   \n",
       "1      3     1      0            7              1               6   \n",
       "2      3     1      1            2              1               1   \n",
       "3      3     1      4            2             16             -14   \n",
       "\n",
       "   gamesPlayed                       _id        name  __v  \n",
       "0            2  5fbe8a6b6f83a600179714d1      Zoltan    0  \n",
       "1            1  5fbe8a8a6f83a600179714d4      ExFury    0  \n",
       "2            2  5fbe8a846f83a600179714d3  Gabriels3t    0  \n",
       "3            5  5fbe8a7b6f83a600179714d2        Neon    0  "
      ],
      "text/html": "<div>\n<style scoped>\n    .dataframe tbody tr th:only-of-type {\n        vertical-align: middle;\n    }\n\n    .dataframe tbody tr th {\n        vertical-align: top;\n    }\n\n    .dataframe thead th {\n        text-align: right;\n    }\n</style>\n<table border=\"1\" class=\"dataframe\">\n  <thead>\n    <tr style=\"text-align: right;\">\n      <th></th>\n      <th>score</th>\n      <th>wins</th>\n      <th>loses</th>\n      <th>goalsScored</th>\n      <th>concededGoals</th>\n      <th>goalDifference</th>\n      <th>gamesPlayed</th>\n      <th>_id</th>\n      <th>name</th>\n      <th>__v</th>\n    </tr>\n  </thead>\n  <tbody>\n    <tr>\n      <th>0</th>\n      <td>6</td>\n      <td>2</td>\n      <td>0</td>\n      <td>7</td>\n      <td>0</td>\n      <td>7</td>\n      <td>2</td>\n      <td>5fbe8a6b6f83a600179714d1</td>\n      <td>Zoltan</td>\n      <td>0</td>\n    </tr>\n    <tr>\n      <th>1</th>\n      <td>3</td>\n      <td>1</td>\n      <td>0</td>\n      <td>7</td>\n      <td>1</td>\n      <td>6</td>\n      <td>1</td>\n      <td>5fbe8a8a6f83a600179714d4</td>\n      <td>ExFury</td>\n      <td>0</td>\n    </tr>\n    <tr>\n      <th>2</th>\n      <td>3</td>\n      <td>1</td>\n      <td>1</td>\n      <td>2</td>\n      <td>1</td>\n      <td>1</td>\n      <td>2</td>\n      <td>5fbe8a846f83a600179714d3</td>\n      <td>Gabriels3t</td>\n      <td>0</td>\n    </tr>\n    <tr>\n      <th>3</th>\n      <td>3</td>\n      <td>1</td>\n      <td>4</td>\n      <td>2</td>\n      <td>16</td>\n      <td>-14</td>\n      <td>5</td>\n      <td>5fbe8a7b6f83a600179714d2</td>\n      <td>Neon</td>\n      <td>0</td>\n    </tr>\n  </tbody>\n</table>\n</div>"
     },
     "metadata": {},
     "execution_count": 33
    }
   ],
   "source": [
    "placar = pd.read_json('https://campeonato-rocket-league.herokuapp.com/players')\n",
    "placar"
   ]
  },
  {
   "cell_type": "code",
   "execution_count": 44,
   "metadata": {},
   "outputs": [
    {
     "output_type": "execute_result",
     "data": {
      "text/plain": [
       "0        Zoltan\n",
       "1        ExFury\n",
       "2    Gabriels3t\n",
       "3          Neon\n",
       "Name: name, dtype: object"
      ]
     },
     "metadata": {},
     "execution_count": 44
    }
   ],
   "source": [
    "placar = pd.DataFrame(placar)\n",
    "placar[['name','gamesPlayed','score','wins','loses','goalsScored','concededGoals','goalDifference']]\n",
    "teste = pd.DataFrame(placar, index = )"
   ]
  }
 ]
}