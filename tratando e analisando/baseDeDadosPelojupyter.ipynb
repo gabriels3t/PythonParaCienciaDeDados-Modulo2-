{
 "metadata": {
  "language_info": {
   "codemirror_mode": {
    "name": "ipython",
    "version": 3
   },
   "file_extension": ".py",
   "mimetype": "text/x-python",
   "name": "python",
   "nbconvert_exporter": "python",
   "pygments_lexer": "ipython3",
   "version": "3.8.5-final"
  },
  "orig_nbformat": 2,
  "kernelspec": {
   "name": "python3",
   "display_name": "Python 3"
  }
 },
 "nbformat": 4,
 "nbformat_minor": 2,
 "cells": [
  {
   "source": [
    "# Relatorio e analise 1 \n",
    "## Importando a base de dados"
   ],
   "cell_type": "markdown",
   "metadata": {}
  },
  {
   "cell_type": "code",
   "execution_count": 9,
   "metadata": {},
   "outputs": [
    {
     "output_type": "execute_result",
     "data": {
      "text/plain": [
       "                          Tipo                Bairro  Quartos  Vagas  Suites  \\\n",
       "0                    Quitinete            Copacabana        1      0       0   \n",
       "1                         Casa       Jardim Botânico        2      0       1   \n",
       "2      Conjunto Comercial/Sala       Barra da Tijuca        0      4       0   \n",
       "3                  Apartamento                Centro        1      0       0   \n",
       "4                  Apartamento          Higienópolis        1      0       0   \n",
       "...                        ...                   ...      ...    ...     ...   \n",
       "32955                Quitinete                Centro        0      0       0   \n",
       "32956              Apartamento           Jacarepaguá        3      1       2   \n",
       "32957              Apartamento  São Francisco Xavier        2      1       0   \n",
       "32958              Apartamento                Leblon        2      0       0   \n",
       "32959  Conjunto Comercial/Sala                Centro        0      0       0   \n",
       "\n",
       "       Area   Valor  Condominio    IPTU  \n",
       "0        40  1700.0       500.0    60.0  \n",
       "1       100  7000.0         NaN     NaN  \n",
       "2       150  5200.0      4020.0  1111.0  \n",
       "3        15   800.0       390.0    20.0  \n",
       "4        48   800.0       230.0     NaN  \n",
       "...     ...     ...         ...     ...  \n",
       "32955    27   800.0       350.0    25.0  \n",
       "32956    78  1800.0       800.0    40.0  \n",
       "32957    48  1400.0       509.0    37.0  \n",
       "32958    70  3000.0       760.0     NaN  \n",
       "32959   250  6500.0      4206.0  1109.0  \n",
       "\n",
       "[32960 rows x 9 columns]"
      ],
      "text/html": "<div>\n<style scoped>\n    .dataframe tbody tr th:only-of-type {\n        vertical-align: middle;\n    }\n\n    .dataframe tbody tr th {\n        vertical-align: top;\n    }\n\n    .dataframe thead th {\n        text-align: right;\n    }\n</style>\n<table border=\"1\" class=\"dataframe\">\n  <thead>\n    <tr style=\"text-align: right;\">\n      <th></th>\n      <th>Tipo</th>\n      <th>Bairro</th>\n      <th>Quartos</th>\n      <th>Vagas</th>\n      <th>Suites</th>\n      <th>Area</th>\n      <th>Valor</th>\n      <th>Condominio</th>\n      <th>IPTU</th>\n    </tr>\n  </thead>\n  <tbody>\n    <tr>\n      <th>0</th>\n      <td>Quitinete</td>\n      <td>Copacabana</td>\n      <td>1</td>\n      <td>0</td>\n      <td>0</td>\n      <td>40</td>\n      <td>1700.0</td>\n      <td>500.0</td>\n      <td>60.0</td>\n    </tr>\n    <tr>\n      <th>1</th>\n      <td>Casa</td>\n      <td>Jardim Botânico</td>\n      <td>2</td>\n      <td>0</td>\n      <td>1</td>\n      <td>100</td>\n      <td>7000.0</td>\n      <td>NaN</td>\n      <td>NaN</td>\n    </tr>\n    <tr>\n      <th>2</th>\n      <td>Conjunto Comercial/Sala</td>\n      <td>Barra da Tijuca</td>\n      <td>0</td>\n      <td>4</td>\n      <td>0</td>\n      <td>150</td>\n      <td>5200.0</td>\n      <td>4020.0</td>\n      <td>1111.0</td>\n    </tr>\n    <tr>\n      <th>3</th>\n      <td>Apartamento</td>\n      <td>Centro</td>\n      <td>1</td>\n      <td>0</td>\n      <td>0</td>\n      <td>15</td>\n      <td>800.0</td>\n      <td>390.0</td>\n      <td>20.0</td>\n    </tr>\n    <tr>\n      <th>4</th>\n      <td>Apartamento</td>\n      <td>Higienópolis</td>\n      <td>1</td>\n      <td>0</td>\n      <td>0</td>\n      <td>48</td>\n      <td>800.0</td>\n      <td>230.0</td>\n      <td>NaN</td>\n    </tr>\n    <tr>\n      <th>...</th>\n      <td>...</td>\n      <td>...</td>\n      <td>...</td>\n      <td>...</td>\n      <td>...</td>\n      <td>...</td>\n      <td>...</td>\n      <td>...</td>\n      <td>...</td>\n    </tr>\n    <tr>\n      <th>32955</th>\n      <td>Quitinete</td>\n      <td>Centro</td>\n      <td>0</td>\n      <td>0</td>\n      <td>0</td>\n      <td>27</td>\n      <td>800.0</td>\n      <td>350.0</td>\n      <td>25.0</td>\n    </tr>\n    <tr>\n      <th>32956</th>\n      <td>Apartamento</td>\n      <td>Jacarepaguá</td>\n      <td>3</td>\n      <td>1</td>\n      <td>2</td>\n      <td>78</td>\n      <td>1800.0</td>\n      <td>800.0</td>\n      <td>40.0</td>\n    </tr>\n    <tr>\n      <th>32957</th>\n      <td>Apartamento</td>\n      <td>São Francisco Xavier</td>\n      <td>2</td>\n      <td>1</td>\n      <td>0</td>\n      <td>48</td>\n      <td>1400.0</td>\n      <td>509.0</td>\n      <td>37.0</td>\n    </tr>\n    <tr>\n      <th>32958</th>\n      <td>Apartamento</td>\n      <td>Leblon</td>\n      <td>2</td>\n      <td>0</td>\n      <td>0</td>\n      <td>70</td>\n      <td>3000.0</td>\n      <td>760.0</td>\n      <td>NaN</td>\n    </tr>\n    <tr>\n      <th>32959</th>\n      <td>Conjunto Comercial/Sala</td>\n      <td>Centro</td>\n      <td>0</td>\n      <td>0</td>\n      <td>0</td>\n      <td>250</td>\n      <td>6500.0</td>\n      <td>4206.0</td>\n      <td>1109.0</td>\n    </tr>\n  </tbody>\n</table>\n<p>32960 rows × 9 columns</p>\n</div>"
     },
     "metadata": {},
     "execution_count": 9
    }
   ],
   "source": [
    "import pandas as pd \n",
    "dados = pd.read_csv('data/aluguel.csv', sep=';')\n",
    "dados"
   ]
  },
  {
   "cell_type": "code",
   "execution_count": 10,
   "metadata": {},
   "outputs": [
    {
     "output_type": "stream",
     "name": "stdout",
     "text": [
      "<class 'pandas.core.frame.DataFrame'>\nRangeIndex: 32960 entries, 0 to 32959\nData columns (total 9 columns):\n #   Column      Non-Null Count  Dtype  \n---  ------      --------------  -----  \n 0   Tipo        32960 non-null  object \n 1   Bairro      32960 non-null  object \n 2   Quartos     32960 non-null  int64  \n 3   Vagas       32960 non-null  int64  \n 4   Suites      32960 non-null  int64  \n 5   Area        32960 non-null  int64  \n 6   Valor       32943 non-null  float64\n 7   Condominio  28867 non-null  float64\n 8   IPTU        22723 non-null  float64\ndtypes: float64(3), int64(4), object(2)\nmemory usage: 2.3+ MB\nNone\n"
     ]
    }
   ],
   "source": [
    "dados.info() #mosta as informações"
   ]
  },
  {
   "cell_type": "code",
   "execution_count": 8,
   "metadata": {},
   "outputs": [
    {
     "output_type": "stream",
     "name": "stdout",
     "text": [
      "                      Tipo           Bairro  Quartos  Vagas  Suites  Area  \\\n0                Quitinete       Copacabana        1      0       0    40   \n1                     Casa  Jardim Botânico        2      0       1   100   \n2  Conjunto Comercial/Sala  Barra da Tijuca        0      4       0   150   \n3              Apartamento           Centro        1      0       0    15   \n4              Apartamento     Higienópolis        1      0       0    48   \n5              Apartamento     Vista Alegre        3      1       0    70   \n6              Apartamento         Cachambi        2      0       0    50   \n7       Casa de Condomínio  Barra da Tijuca        5      4       5   750   \n8       Casa de Condomínio            Ramos        2      2       0    65   \n9  Conjunto Comercial/Sala           Centro        0      3       0   695   \n\n     Valor  Condominio    IPTU  \n0   1700.0       500.0    60.0  \n1   7000.0         NaN     NaN  \n2   5200.0      4020.0  1111.0  \n3    800.0       390.0    20.0  \n4    800.0       230.0     NaN  \n5   1200.0         NaN     NaN  \n6   1300.0       301.0    17.0  \n7  22000.0         NaN     NaN  \n8   1000.0         NaN     NaN  \n9  35000.0     19193.0  3030.0  \n"
     ]
    }
   ],
   "source": [
    "dados.head(10) # mostra os 5 primeiros no default, podendo colocar o valor de linhas que voce quer ver"
   ]
  },
  {
   "source": [
    "## informações gerais sobre a base de dados"
   ],
   "cell_type": "markdown",
   "metadata": {}
  },
  {
   "cell_type": "code",
   "execution_count": 11,
   "metadata": {},
   "outputs": [
    {
     "output_type": "stream",
     "name": "stdout",
     "text": [
      "Tipo           object\nBairro         object\nQuartos         int64\nVagas           int64\nSuites          int64\nArea            int64\nValor         float64\nCondominio    float64\nIPTU          float64\ndtype: object\n"
     ]
    }
   ],
   "source": [
    "dados.dtypes #mostrar o tipo de dados object = str"
   ]
  },
  {
   "cell_type": "code",
   "execution_count": 13,
   "metadata": {},
   "outputs": [
    {
     "output_type": "stream",
     "name": "stdout",
     "text": [
      "                  0\nTipo         object\nBairro       object\nQuartos       int64\nVagas         int64\nSuites        int64\nArea          int64\nValor       float64\nCondominio  float64\nIPTU        float64\n"
     ]
    }
   ],
   "source": [
    "pd.DataFrame(dados.dtypes) # mostrar de uma forma mais bonita "
   ]
  },
  {
   "cell_type": "code",
   "execution_count": 15,
   "metadata": {},
   "outputs": [],
   "source": [
    "tipos_de_dados = pd.DataFrame(dados.dtypes, columns=['Tipos de dados']) # especificar o nome da coluna"
   ]
  },
  {
   "cell_type": "code",
   "execution_count": 18,
   "metadata": {},
   "outputs": [],
   "source": [
    "tipos_de_dados.columns.name = 'Variaveis'  #columns.name da o nome das veriaveis da primeira coluna"
   ]
  },
  {
   "cell_type": "code",
   "execution_count": 17,
   "metadata": {},
   "outputs": [
    {
     "output_type": "execute_result",
     "data": {
      "text/plain": [
       "Variaveis  Tipos de dados\n",
       "Tipo               object\n",
       "Bairro             object\n",
       "Quartos             int64\n",
       "Vagas               int64\n",
       "Suites              int64\n",
       "Area                int64\n",
       "Valor             float64\n",
       "Condominio        float64\n",
       "IPTU              float64"
      ],
      "text/html": "<div>\n<style scoped>\n    .dataframe tbody tr th:only-of-type {\n        vertical-align: middle;\n    }\n\n    .dataframe tbody tr th {\n        vertical-align: top;\n    }\n\n    .dataframe thead th {\n        text-align: right;\n    }\n</style>\n<table border=\"1\" class=\"dataframe\">\n  <thead>\n    <tr style=\"text-align: right;\">\n      <th>Variaveis</th>\n      <th>Tipos de dados</th>\n    </tr>\n  </thead>\n  <tbody>\n    <tr>\n      <th>Tipo</th>\n      <td>object</td>\n    </tr>\n    <tr>\n      <th>Bairro</th>\n      <td>object</td>\n    </tr>\n    <tr>\n      <th>Quartos</th>\n      <td>int64</td>\n    </tr>\n    <tr>\n      <th>Vagas</th>\n      <td>int64</td>\n    </tr>\n    <tr>\n      <th>Suites</th>\n      <td>int64</td>\n    </tr>\n    <tr>\n      <th>Area</th>\n      <td>int64</td>\n    </tr>\n    <tr>\n      <th>Valor</th>\n      <td>float64</td>\n    </tr>\n    <tr>\n      <th>Condominio</th>\n      <td>float64</td>\n    </tr>\n    <tr>\n      <th>IPTU</th>\n      <td>float64</td>\n    </tr>\n  </tbody>\n</table>\n</div>"
     },
     "metadata": {},
     "execution_count": 17
    }
   ],
   "source": [
    "tipos_de_dados"
   ]
  },
  {
   "cell_type": "code",
   "execution_count": 20,
   "metadata": {},
   "outputs": [
    {
     "output_type": "execute_result",
     "data": {
      "text/plain": [
       "(32960, 9)"
      ]
     },
     "metadata": {},
     "execution_count": 20
    }
   ],
   "source": [
    "dados.shape #numero de linhas, numero de variaveis "
   ]
  },
  {
   "cell_type": "code",
   "execution_count": 22,
   "metadata": {},
   "outputs": [
    {
     "output_type": "execute_result",
     "data": {
      "text/plain": [
       "32960"
      ]
     },
     "metadata": {},
     "execution_count": 22
    }
   ],
   "source": [
    "dados.shape[0] #numero de linhas "
   ]
  },
  {
   "cell_type": "code",
   "execution_count": 24,
   "metadata": {},
   "outputs": [
    {
     "output_type": "execute_result",
     "data": {
      "text/plain": [
       "9"
      ]
     },
     "metadata": {},
     "execution_count": 24
    }
   ],
   "source": [
    "dados.shape[1] #numero de variaveis"
   ]
  },
  {
   "cell_type": "code",
   "execution_count": 25,
   "metadata": {},
   "outputs": [
    {
     "output_type": "stream",
     "name": "stdout",
     "text": [
      "A base de dados apresenta 32960 registros (imoveis) e 9 variaveis\n"
     ]
    }
   ],
   "source": [
    "print(f'A base de dados apresenta {dados.shape[0]} registros (imoveis) e {dados.shape[1]} variaveis')"
   ]
  }
 ]
}